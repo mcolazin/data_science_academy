{
 "cells": [
  {
   "cell_type": "code",
   "execution_count": 1,
   "id": "ba4e8534",
   "metadata": {},
   "outputs": [],
   "source": [
    "import numpy as np\n",
    "import torch"
   ]
  },
  {
   "cell_type": "markdown",
   "id": "ec81071c",
   "metadata": {},
   "source": [
    "### manipulação de tensores"
   ]
  },
  {
   "cell_type": "code",
   "execution_count": 2,
   "id": "179d096b",
   "metadata": {},
   "outputs": [
    {
     "data": {
      "text/plain": [
       "tensor([[1., 0., 0.],\n",
       "        [0., 1., 0.],\n",
       "        [0., 0., 1.]])"
      ]
     },
     "execution_count": 2,
     "metadata": {},
     "output_type": "execute_result"
    }
   ],
   "source": [
    "### matriz diagonal\n",
    "mat_ones = torch.ones(3)\n",
    "diag = torch.diag(mat_ones)\n",
    "diag"
   ]
  },
  {
   "cell_type": "code",
   "execution_count": 3,
   "id": "9b42dcbf",
   "metadata": {},
   "outputs": [
    {
     "data": {
      "text/plain": [
       "tensor([[1],\n",
       "        [2],\n",
       "        [3]])"
      ]
     },
     "execution_count": 3,
     "metadata": {},
     "output_type": "execute_result"
    }
   ],
   "source": [
    "### expandir matriz\n",
    "x = torch.tensor([[1], [2], [3]])\n",
    "x"
   ]
  },
  {
   "cell_type": "code",
   "execution_count": 4,
   "id": "71137314",
   "metadata": {},
   "outputs": [
    {
     "data": {
      "text/plain": [
       "tensor([[1, 1, 1, 1],\n",
       "        [2, 2, 2, 2],\n",
       "        [3, 3, 3, 3]])"
      ]
     },
     "execution_count": 4,
     "metadata": {},
     "output_type": "execute_result"
    }
   ],
   "source": [
    "x.expand(3,4)"
   ]
  },
  {
   "cell_type": "code",
   "execution_count": 5,
   "id": "f7bf89d8",
   "metadata": {},
   "outputs": [
    {
     "data": {
      "text/plain": [
       "tensor([[ 0,  0,  0],\n",
       "        [ 0,  0,  0],\n",
       "        [ 0,  0,  0],\n",
       "        [-1,  0,  0],\n",
       "        [ 0,  0,  0]], dtype=torch.int8)"
      ]
     },
     "execution_count": 5,
     "metadata": {},
     "output_type": "execute_result"
    }
   ],
   "source": [
    "# definindo o tensor type - ex, int8\n",
    "x = torch.randn(5,3).type(torch.int8)\n",
    "x"
   ]
  },
  {
   "cell_type": "code",
   "execution_count": 6,
   "id": "e6e690b6",
   "metadata": {},
   "outputs": [
    {
     "data": {
      "text/plain": [
       "tensor([0, 1, 2, 3, 4, 5, 6, 7, 8])"
      ]
     },
     "execution_count": 6,
     "metadata": {},
     "output_type": "execute_result"
    }
   ],
   "source": [
    "# tensor com 9 elementos de 1 dimensão:\n",
    "v = torch.arange(9)\n",
    "v"
   ]
  },
  {
   "cell_type": "code",
   "execution_count": 7,
   "id": "47358487",
   "metadata": {},
   "outputs": [
    {
     "data": {
      "text/plain": [
       "tensor([[0, 1, 2],\n",
       "        [3, 4, 5],\n",
       "        [6, 7, 8]])"
      ]
     },
     "execution_count": 7,
     "metadata": {},
     "output_type": "execute_result"
    }
   ],
   "source": [
    "# convertendo o tensor para duas dimensões:\n",
    "v.view(3,3)"
   ]
  },
  {
   "cell_type": "code",
   "execution_count": 8,
   "id": "871861b5",
   "metadata": {},
   "outputs": [
    {
     "data": {
      "text/plain": [
       "(tensor([[ 0.6473, -0.2543,  0.4950],\n",
       "         [ 0.2602,  0.4934,  0.6906],\n",
       "         [ 0.9967,  0.1334,  2.7626],\n",
       "         [ 0.5351, -0.4842, -1.4312],\n",
       "         [-0.8306, -0.8263,  1.9357]]),\n",
       " torch.Size([5, 3]))"
      ]
     },
     "execution_count": 8,
     "metadata": {},
     "output_type": "execute_result"
    }
   ],
   "source": [
    "# Concatenação de tensores\n",
    "x = torch.randn(5,3)\n",
    "x, x.shape"
   ]
  },
  {
   "cell_type": "code",
   "execution_count": 9,
   "id": "5e500b46",
   "metadata": {},
   "outputs": [
    {
     "data": {
      "text/plain": [
       "(tensor([[ 0.6473, -0.2543,  0.4950],\n",
       "         [ 0.2602,  0.4934,  0.6906],\n",
       "         [ 0.9967,  0.1334,  2.7626],\n",
       "         [ 0.5351, -0.4842, -1.4312],\n",
       "         [-0.8306, -0.8263,  1.9357],\n",
       "         [ 0.6473, -0.2543,  0.4950],\n",
       "         [ 0.2602,  0.4934,  0.6906],\n",
       "         [ 0.9967,  0.1334,  2.7626],\n",
       "         [ 0.5351, -0.4842, -1.4312],\n",
       "         [-0.8306, -0.8263,  1.9357],\n",
       "         [ 0.6473, -0.2543,  0.4950],\n",
       "         [ 0.2602,  0.4934,  0.6906],\n",
       "         [ 0.9967,  0.1334,  2.7626],\n",
       "         [ 0.5351, -0.4842, -1.4312],\n",
       "         [-0.8306, -0.8263,  1.9357]]),\n",
       " torch.Size([15, 3]))"
      ]
     },
     "execution_count": 9,
     "metadata": {},
     "output_type": "execute_result"
    }
   ],
   "source": [
    "# concatenando x 3 vezes consigo mesmo\n",
    "x_concat = torch.cat(tensors = (x, x, x), dim = 0) # concatenar x 3 vezes em linha (dim = 0)\n",
    "x_concat, x_concat.shape"
   ]
  },
  {
   "cell_type": "code",
   "execution_count": 10,
   "id": "918965f4",
   "metadata": {},
   "outputs": [
    {
     "data": {
      "text/plain": [
       "tensor([[0., 1., 2.],\n",
       "        [3., 4., 5.],\n",
       "        [6., 5., 7.]])"
      ]
     },
     "execution_count": 10,
     "metadata": {},
     "output_type": "execute_result"
    }
   ],
   "source": [
    "# Empilhando tensores\n",
    "x = torch.Tensor([[0,1,2], [3,4,5], [6,5,7]])\n",
    "x"
   ]
  },
  {
   "cell_type": "code",
   "execution_count": 11,
   "id": "7959e127",
   "metadata": {},
   "outputs": [
    {
     "data": {
      "text/plain": [
       "(torch.Size([2, 3, 3]),\n",
       " tensor([[[0., 1., 2.],\n",
       "          [3., 4., 5.],\n",
       "          [6., 5., 7.]],\n",
       " \n",
       "         [[0., 1., 2.],\n",
       "          [3., 4., 5.],\n",
       "          [6., 5., 7.]]]))"
      ]
     },
     "execution_count": 11,
     "metadata": {},
     "output_type": "execute_result"
    }
   ],
   "source": [
    "x_stack = torch.stack(tensors = (x,x))\n",
    "x_stack.shape, x_stack"
   ]
  },
  {
   "cell_type": "code",
   "execution_count": 12,
   "id": "73652d87",
   "metadata": {},
   "outputs": [
    {
     "data": {
      "text/plain": [
       "tensor([[0., 1.],\n",
       "        [4., 3.]])"
      ]
     },
     "execution_count": 12,
     "metadata": {},
     "output_type": "execute_result"
    }
   ],
   "source": [
    "# reorganizando os elementos \n",
    "torch.gather(input= x, dim= 1, index=torch.LongTensor([[0,1], [1,0]]))"
   ]
  },
  {
   "cell_type": "code",
   "execution_count": 13,
   "id": "413b7389",
   "metadata": {},
   "outputs": [
    {
     "data": {
      "text/plain": [
       "(tensor([[0., 1., 2.]]), tensor([[3., 4., 5.]]), tensor([[6., 5., 7.]]))"
      ]
     },
     "execution_count": 13,
     "metadata": {},
     "output_type": "execute_result"
    }
   ],
   "source": [
    "# split tensor\n",
    "torch.chunk(input= x, chunks=3, dim=0)"
   ]
  },
  {
   "cell_type": "code",
   "execution_count": 14,
   "id": "b9022350",
   "metadata": {
    "scrolled": true
   },
   "outputs": [
    {
     "data": {
      "text/plain": [
       "tensor([[[ 0.4993,  0.7225,  0.2354,  1.7504,  1.0005],\n",
       "         [-1.7384,  0.6985, -0.5336,  0.3185,  0.3408],\n",
       "         [-1.0038, -1.3356,  2.0987,  1.6271, -0.3648],\n",
       "         [ 1.6346, -2.0373,  0.7152,  0.9265,  0.4295]],\n",
       "\n",
       "        [[ 0.3380,  0.5844, -1.3500,  1.1674, -1.3893],\n",
       "         [-1.3731, -0.6575,  1.9649,  1.5760, -0.7530],\n",
       "         [-0.9099, -0.2555, -0.5977, -0.2432,  1.4626],\n",
       "         [-1.5174, -0.1179, -2.2236,  0.8984,  2.2277]],\n",
       "\n",
       "        [[-0.7974, -0.7994,  1.5561,  1.6005, -0.8092],\n",
       "         [ 0.9662, -1.1333,  0.5880, -0.2437,  1.2506],\n",
       "         [ 1.5093,  0.5952,  0.5882,  0.2630, -1.0171],\n",
       "         [ 0.4450, -0.6581,  0.3930,  1.1141, -1.5922]],\n",
       "\n",
       "        [[ 2.1830, -0.7319,  0.0665,  1.5212, -0.8858],\n",
       "         [-0.7535, -1.3686, -0.9833, -0.2795, -0.2199],\n",
       "         [ 0.7008, -0.1847,  0.5272,  0.4909,  0.1668],\n",
       "         [ 1.8643,  0.5379,  0.1547,  1.3125,  1.1407]],\n",
       "\n",
       "        [[ 0.9785, -0.3960, -2.1097,  0.0455,  0.0413],\n",
       "         [-0.0874,  0.6440, -0.7480,  0.6563,  0.7395],\n",
       "         [ 0.7524,  0.9627, -0.2389, -0.4852, -0.9198],\n",
       "         [-0.3416,  1.3192,  0.9400,  0.2721, -0.7444]],\n",
       "\n",
       "        [[-0.4842,  0.7271, -0.1059,  0.2237, -0.1416],\n",
       "         [-0.1830,  0.5203,  0.8613,  0.9739, -0.5632],\n",
       "         [ 2.3128, -1.4148,  0.4312, -1.7171,  0.8613],\n",
       "         [-1.8162, -0.0894, -1.5801,  0.2800, -0.2062]],\n",
       "\n",
       "        [[ 1.8022,  0.4483,  0.8511, -0.5435, -0.7640],\n",
       "         [ 0.1601, -0.2688, -0.8222, -0.7386, -0.1906],\n",
       "         [ 0.8567, -0.5973, -1.4504,  0.9709, -1.7066],\n",
       "         [ 1.2647,  2.1591, -0.7454, -0.0843,  0.4493]],\n",
       "\n",
       "        [[ 1.2605,  1.4363, -0.8860, -0.4517,  0.2747],\n",
       "         [ 0.0585,  0.6500, -1.7571, -0.4401, -0.6158],\n",
       "         [ 0.6351, -1.6146,  0.2740, -1.1625,  0.0576],\n",
       "         [ 0.5722, -0.2863,  2.0603,  1.2809, -0.1490]],\n",
       "\n",
       "        [[-0.9507,  0.3897, -0.3782,  1.6566,  0.1448],\n",
       "         [-1.6182,  0.9802,  0.9716, -1.1535, -1.8378],\n",
       "         [-1.3617, -1.6429, -0.8450,  1.7030,  0.6487],\n",
       "         [-0.3816, -0.5297, -0.9652,  0.5574, -0.5361]],\n",
       "\n",
       "        [[-1.9308, -0.2127,  2.4523,  0.3902,  0.7995],\n",
       "         [ 0.9740,  0.4287, -0.6141,  0.9393, -0.3572],\n",
       "         [ 0.2038,  1.0610, -0.1542,  1.9342, -0.9080],\n",
       "         [ 0.5553,  1.3031, -0.4074, -0.8485,  1.4237]]])"
      ]
     },
     "execution_count": 14,
     "metadata": {},
     "output_type": "execute_result"
    }
   ],
   "source": [
    "y = torch.randn(10, 4,5)\n",
    "y"
   ]
  },
  {
   "cell_type": "code",
   "execution_count": 15,
   "id": "700f8499",
   "metadata": {},
   "outputs": [
    {
     "data": {
      "text/plain": [
       "tensor([1, 2], dtype=torch.int32)"
      ]
     },
     "execution_count": 15,
     "metadata": {},
     "output_type": "execute_result"
    }
   ],
   "source": [
    "# select for tensors\n",
    "index = torch.Tensor([1,2]).type(torch.int32)\n",
    "index"
   ]
  },
  {
   "cell_type": "code",
   "execution_count": 16,
   "id": "726aa06d",
   "metadata": {},
   "outputs": [
    {
     "data": {
      "text/plain": [
       "tensor([[[-1.7384,  0.6985, -0.5336,  0.3185,  0.3408],\n",
       "         [-1.0038, -1.3356,  2.0987,  1.6271, -0.3648]],\n",
       "\n",
       "        [[-1.3731, -0.6575,  1.9649,  1.5760, -0.7530],\n",
       "         [-0.9099, -0.2555, -0.5977, -0.2432,  1.4626]],\n",
       "\n",
       "        [[ 0.9662, -1.1333,  0.5880, -0.2437,  1.2506],\n",
       "         [ 1.5093,  0.5952,  0.5882,  0.2630, -1.0171]],\n",
       "\n",
       "        [[-0.7535, -1.3686, -0.9833, -0.2795, -0.2199],\n",
       "         [ 0.7008, -0.1847,  0.5272,  0.4909,  0.1668]],\n",
       "\n",
       "        [[-0.0874,  0.6440, -0.7480,  0.6563,  0.7395],\n",
       "         [ 0.7524,  0.9627, -0.2389, -0.4852, -0.9198]],\n",
       "\n",
       "        [[-0.1830,  0.5203,  0.8613,  0.9739, -0.5632],\n",
       "         [ 2.3128, -1.4148,  0.4312, -1.7171,  0.8613]],\n",
       "\n",
       "        [[ 0.1601, -0.2688, -0.8222, -0.7386, -0.1906],\n",
       "         [ 0.8567, -0.5973, -1.4504,  0.9709, -1.7066]],\n",
       "\n",
       "        [[ 0.0585,  0.6500, -1.7571, -0.4401, -0.6158],\n",
       "         [ 0.6351, -1.6146,  0.2740, -1.1625,  0.0576]],\n",
       "\n",
       "        [[-1.6182,  0.9802,  0.9716, -1.1535, -1.8378],\n",
       "         [-1.3617, -1.6429, -0.8450,  1.7030,  0.6487]],\n",
       "\n",
       "        [[ 0.9740,  0.4287, -0.6141,  0.9393, -0.3572],\n",
       "         [ 0.2038,  1.0610, -0.1542,  1.9342, -0.9080]]])"
      ]
     },
     "execution_count": 16,
     "metadata": {},
     "output_type": "execute_result"
    }
   ],
   "source": [
    "torch.index_select(input=y, dim=1, index = index) # seleciona as llinhas 1 e 2 de cada matrix"
   ]
  },
  {
   "cell_type": "code",
   "execution_count": 17,
   "id": "9e034cd7",
   "metadata": {},
   "outputs": [
    {
     "data": {
      "text/plain": [
       "(4,\n",
       " tensor([[[[1.],\n",
       "           [1.]]],\n",
       " \n",
       " \n",
       "         [[[1.],\n",
       "           [1.]]]]))"
      ]
     },
     "execution_count": 17,
     "metadata": {},
     "output_type": "execute_result"
    }
   ],
   "source": [
    "# squeeze - espremendo os dados nos tensores:\n",
    "x = torch.ones(2,1,2,1)\n",
    "x.dim(), x"
   ]
  },
  {
   "cell_type": "code",
   "execution_count": 18,
   "id": "7ccc2992",
   "metadata": {},
   "outputs": [
    {
     "data": {
      "text/plain": [
       "(torch.Size([2, 2]),\n",
       " tensor([[1., 1.],\n",
       "         [1., 1.]]))"
      ]
     },
     "execution_count": 18,
     "metadata": {},
     "output_type": "execute_result"
    }
   ],
   "source": [
    "x_squeeze = torch.squeeze(input= x) # alterando para a dimensão 2\n",
    "x_squeeze.shape, x_squeeze"
   ]
  },
  {
   "cell_type": "code",
   "execution_count": 19,
   "id": "73831e6e",
   "metadata": {},
   "outputs": [
    {
     "data": {
      "text/plain": [
       "tensor([[[1.],\n",
       "         [1.]],\n",
       "\n",
       "        [[1.],\n",
       "         [1.]]])"
      ]
     },
     "execution_count": 19,
     "metadata": {},
     "output_type": "execute_result"
    }
   ],
   "source": [
    "torch.squeeze(input= x, dim=1) # dimensão1"
   ]
  },
  {
   "cell_type": "code",
   "execution_count": 20,
   "id": "9d06ff38",
   "metadata": {},
   "outputs": [
    {
     "data": {
      "text/plain": [
       "tensor([[[1.],\n",
       "         [1.]],\n",
       "\n",
       "        [[1.],\n",
       "         [1.]]])"
      ]
     },
     "execution_count": 20,
     "metadata": {},
     "output_type": "execute_result"
    }
   ],
   "source": [
    "torch.unsqueeze(input= x_squeeze, dim= 2)"
   ]
  },
  {
   "cell_type": "markdown",
   "id": "e549f0ef",
   "metadata": {},
   "source": [
    "### Probability Distributions"
   ]
  },
  {
   "cell_type": "code",
   "execution_count": 27,
   "id": "9da39ef9",
   "metadata": {},
   "outputs": [
    {
     "data": {
      "text/plain": [
       "tensor([0.5742, 0.8993, 0.3166, 0.3735, 0.6547, 0.5937, 0.2798, 0.5943, 0.0859,\n",
       "        0.8587, 0.3257, 0.5031, 0.7004, 0.7307, 0.7666, 0.3736, 0.4605, 0.7772,\n",
       "        0.7225, 0.9257, 0.1645, 0.7347, 0.7655, 0.2067, 0.4557, 0.3465, 0.7295,\n",
       "        0.4873, 0.2777, 0.6662, 0.6383, 0.2555, 0.0293, 0.4298, 0.7251, 0.1787,\n",
       "        0.4223, 0.4351, 0.3186, 0.9304, 0.2940, 0.5909, 0.0014, 0.0608, 0.1717,\n",
       "        0.3921, 0.9342, 0.2491, 0.1542, 0.9681])"
      ]
     },
     "execution_count": 27,
     "metadata": {},
     "output_type": "execute_result"
    }
   ],
   "source": [
    "### Statistical Distro\n",
    "torch.Tensor(50).uniform_(0, 1) # a Flatten 1D tensor"
   ]
  },
  {
   "cell_type": "code",
   "execution_count": 46,
   "id": "4b13970b",
   "metadata": {},
   "outputs": [
    {
     "data": {
      "text/plain": [
       "tensor([0., 1., 1., 0.])"
      ]
     },
     "execution_count": 46,
     "metadata": {},
     "output_type": "execute_result"
    }
   ],
   "source": [
    "torch.bernoulli(torch.Tensor([0.1, 0.5, 0.8, 0.3]), ) # inside we have probability p of an event"
   ]
  },
  {
   "cell_type": "code",
   "execution_count": 59,
   "id": "e8ed13a9",
   "metadata": {},
   "outputs": [
    {
     "data": {
      "text/plain": [
       "tensor([0, 4, 6, 9, 5, 7, 2, 1, 8, 3])"
      ]
     },
     "execution_count": 59,
     "metadata": {},
     "output_type": "execute_result"
    }
   ],
   "source": [
    "# Distro Multinomial\n",
    "torch.multinomial(input= torch.Tensor([3,4,5,1,7,8,9,1,6,10]), num_samples=10)"
   ]
  },
  {
   "cell_type": "code",
   "execution_count": 73,
   "id": "d4a55622",
   "metadata": {},
   "outputs": [],
   "source": [
    "# distro normal:\n",
    "import torch.distributions as distro"
   ]
  },
  {
   "cell_type": "code",
   "execution_count": 91,
   "id": "151dfc39",
   "metadata": {
    "scrolled": true
   },
   "outputs": [
    {
     "data": {
      "text/plain": [
       "tensor([-0.9413, -0.6247,  0.3540,  0.3999,  0.9040,  0.9394, -0.6838, -1.1807,\n",
       "        -0.4194, -0.2069,  0.9145,  0.7071,  0.4223,  0.5645,  1.5947,  0.4569,\n",
       "         0.0522, -2.0445, -1.0513,  0.4298, -0.7722,  0.0067, -0.7012, -1.2179,\n",
       "         0.3665, -2.9423, -1.8953, -0.8402,  0.6193, -0.6995, -1.7853,  0.1250,\n",
       "        -0.8225, -0.9923,  2.0914,  0.2464, -0.0970, -0.0215,  0.6525,  1.2572,\n",
       "         1.7859,  1.3780,  1.6315, -0.9354, -0.6791,  0.4155, -0.6980,  1.0606,\n",
       "        -1.6402,  0.9950, -0.1930,  0.1249, -0.2639, -0.7389,  0.1529, -0.2364,\n",
       "         0.2282, -1.3746,  2.5332,  0.7291,  2.7535,  0.5175, -0.6775,  0.5025,\n",
       "         1.1325, -1.5164,  0.5980, -0.8264,  2.3600,  1.7422, -0.2041, -0.1091,\n",
       "        -1.0826, -0.7790,  0.5004,  1.1141,  1.6037,  1.3464, -1.1215,  0.0968,\n",
       "         0.3668, -0.4473, -1.0834,  1.0016, -1.1540,  0.9167, -0.2189, -1.1544,\n",
       "         1.1117,  0.6668,  1.1054, -1.6857, -1.1744, -0.9814,  1.6978,  0.7660,\n",
       "         0.1601, -0.4085, -1.0027,  1.7426,  2.5599, -0.6779, -0.2622,  0.0833,\n",
       "         0.2389, -0.1490, -0.5413, -0.8825,  0.7038, -1.3990, -0.7222,  1.0145,\n",
       "         0.5579, -0.9958,  0.1261, -0.8885,  1.4816,  0.6287,  0.6144,  0.5715,\n",
       "         0.1856, -0.9399, -2.5186, -1.0551, -0.3503, -0.7525, -0.0823,  0.4557,\n",
       "        -0.8071,  0.0675,  1.6739, -0.4645, -1.8168,  0.9636, -1.2628,  0.2680,\n",
       "         0.1442, -0.2639, -0.6378, -1.7031,  0.7367, -0.9929,  1.2127,  0.7513,\n",
       "         0.1165,  0.2283,  0.0523,  0.3569,  0.9438,  1.6611, -0.5979,  0.4987,\n",
       "        -1.4392,  0.6911, -0.9119, -0.4249,  1.4055,  0.4828,  1.8542,  0.7583,\n",
       "         0.8221, -0.9008,  0.1208, -1.4175, -1.3266,  0.0471,  0.4717,  0.0564,\n",
       "        -0.0880, -1.2726, -1.5923, -0.7119,  0.1257, -0.9869,  0.2485,  0.9138,\n",
       "        -0.6540, -0.8512,  1.3270,  0.9762,  0.6227, -0.1185,  1.2570, -1.2572,\n",
       "        -2.6460, -1.0236, -0.5456, -0.3920, -0.8945,  0.0368, -0.0839, -0.5522,\n",
       "         1.7085,  1.4196, -0.5588,  1.3984, -0.2619, -1.3733,  0.9342, -0.2826,\n",
       "        -0.3577,  1.5082,  1.4201, -0.2906, -0.6315,  1.1934,  0.3993,  1.4479,\n",
       "         0.1218,  0.6435, -1.3231,  1.8947,  1.2108, -1.2182, -0.3290, -0.2449,\n",
       "         0.4851,  2.2204, -0.6696, -1.8982, -0.4336, -1.1470,  1.0579, -0.1505,\n",
       "        -1.2570,  1.2901,  1.6328, -0.6747, -0.6441,  0.5362,  1.7690,  0.4841,\n",
       "        -1.3620, -2.1859, -0.4944,  0.9701, -0.4819,  2.0363, -0.6117,  0.0239,\n",
       "        -0.8132,  1.2061, -0.8008,  0.4959,  1.4283,  0.3403, -1.0948,  0.3908,\n",
       "        -1.2333,  1.8739, -1.6043,  1.0138,  1.0943,  1.4380,  0.1177,  0.3529,\n",
       "        -1.5672, -0.7757, -1.8646, -0.3953, -0.5889, -0.0636, -0.1572, -1.0266,\n",
       "        -0.7491,  2.2734,  1.4801,  0.7154, -1.2894, -1.3989, -1.1286,  0.8383,\n",
       "         1.1302,  0.5729,  0.3118,  1.9845, -2.0931,  0.2741, -0.1191,  0.3770,\n",
       "         0.0599,  0.1893, -0.9767, -0.5642, -1.2361,  0.7737,  1.7740,  0.5560,\n",
       "        -0.1990,  2.1736, -0.9396,  1.2869, -0.0447,  0.5659,  0.5386,  0.8073,\n",
       "         0.3873, -0.5389,  0.4692,  0.0826, -1.1004, -2.4781, -0.3515, -0.6585,\n",
       "         1.2203,  1.4762,  0.6698, -0.1625,  1.8041, -0.3227,  0.1442,  1.2372,\n",
       "        -0.5212, -1.5099,  0.1762,  0.9301,  2.7846, -0.2024, -0.3346,  1.4524,\n",
       "        -2.2556,  1.4276,  0.3496, -0.7253,  0.9755,  1.2889,  0.0073,  0.0288,\n",
       "         0.0097,  1.2365,  0.7919,  0.3238,  1.2040, -0.2099, -0.5944,  0.8183,\n",
       "        -0.7631, -0.5456,  0.9568, -2.0386, -0.0297,  0.7634, -0.0346, -0.2411,\n",
       "        -0.7154, -1.2123, -0.9990, -0.3776,  1.7259,  0.6646, -0.2297,  0.2973,\n",
       "        -0.9908,  0.7941, -0.8022,  0.3606, -0.3765, -1.1543, -1.2593, -2.1090,\n",
       "        -0.3083, -0.6248,  0.3031, -0.5455,  0.2859,  0.6812,  0.4350,  0.3011,\n",
       "         1.4122,  0.1209,  1.7044,  0.5102, -0.7827,  0.3271,  2.1659,  0.1778,\n",
       "        -0.0921, -1.5044, -1.8509, -0.1139,  1.4553,  0.1081, -0.7171, -1.1024,\n",
       "        -1.1713, -1.1635,  0.6076, -2.8541,  1.2529,  2.0105, -0.2912,  0.9211,\n",
       "         0.4543, -1.3187,  1.1520,  0.5494, -0.4388, -0.5047,  0.2851,  0.1088,\n",
       "        -0.2329, -2.9322, -0.0397,  0.5536,  1.3039,  0.8062, -0.0174,  1.1824,\n",
       "        -0.2475, -0.6238, -2.3514, -0.2134,  1.8934, -0.6248, -0.4720, -0.3766,\n",
       "        -1.1822, -0.7854,  0.8406, -0.1047, -0.8884, -0.8165,  0.7286, -0.1103,\n",
       "         0.4211,  0.6940,  0.3401,  0.7468,  0.1277,  1.3961, -0.5216, -0.1125,\n",
       "         0.1272, -0.6335, -0.8862,  0.9873,  0.4836, -1.7371,  1.3912,  0.2275,\n",
       "        -0.3094,  0.5931, -0.9277,  1.5309, -0.8340,  0.7936, -0.4112, -0.0382,\n",
       "         0.5665,  1.5978,  0.1907, -0.7803, -0.8721,  0.2090, -0.3571,  0.2559,\n",
       "         0.1077,  0.7923, -1.3622,  1.2566, -0.4340,  0.6843, -0.2974,  2.3216,\n",
       "        -0.1565, -1.7473,  0.4056, -0.9631, -0.5678,  1.3121, -1.8722, -1.2285,\n",
       "        -1.9210, -1.0425, -0.2205,  0.1070, -1.5071,  0.6072, -0.6106, -0.3251,\n",
       "         0.2490,  1.0016,  0.8743, -1.2388, -1.0956,  0.2715, -1.4409, -0.3376,\n",
       "         0.7093,  0.1879, -0.4012, -0.6285, -1.6736, -1.1287, -0.1157,  1.9790,\n",
       "         0.7421, -1.2011, -0.1427,  0.5776,  0.2539,  0.2209, -0.7484, -0.5401,\n",
       "        -2.2649, -0.8665,  0.0234, -1.0319, -0.1582,  0.0514,  1.8969, -0.4395,\n",
       "        -0.0910, -0.8876, -0.7672,  1.5263,  0.3905,  0.3272,  1.1292, -0.2249,\n",
       "         0.6662, -0.0186,  0.5096, -0.5752,  0.6387, -0.8820,  1.4098,  0.3362,\n",
       "         0.3966,  0.3481,  0.0341,  1.5315,  0.9517,  2.2476,  1.0150,  0.1875,\n",
       "        -1.3551,  0.2759, -0.2491, -1.5142,  0.2744,  0.9467,  0.2328,  1.2394,\n",
       "         1.3124, -0.0948, -0.5286,  0.2176,  1.1717,  1.1951,  0.1460,  0.0605,\n",
       "        -0.5612, -0.3685,  0.1738,  0.2548, -1.1795, -0.7008,  0.2986,  0.3073,\n",
       "         0.0088, -1.1016,  0.9566,  1.4467, -1.1403,  0.8728,  0.2421,  0.3826,\n",
       "        -0.4932, -0.3518, -1.6122,  0.3934, -1.6199,  0.9044, -0.5092, -0.2735,\n",
       "         0.3789,  0.0863, -0.0530, -0.3595, -0.5856, -0.6503, -0.0721, -0.3019,\n",
       "         0.2073,  1.3258,  0.0888,  0.6775,  2.4354,  0.4304, -1.6378, -0.7479,\n",
       "         0.2853, -0.2841, -0.6479,  0.0809,  1.6656,  0.2441, -0.7315, -1.3723,\n",
       "         1.8850, -1.6613, -0.9457, -0.3329,  1.0945, -1.2386, -0.6605,  0.0264,\n",
       "        -0.3746, -0.7596, -0.3832, -1.4011, -1.1265,  0.4681,  0.0754, -2.2123,\n",
       "        -0.7110,  0.2266,  0.5455,  0.4872, -1.7699,  0.7241, -1.9693,  0.8072,\n",
       "         0.2923, -0.8875, -0.5192,  1.0903,  0.1496, -1.7212, -0.1221, -1.2554,\n",
       "        -0.6807,  0.5783, -1.1417, -0.9001,  0.8076,  1.3506, -1.0166, -0.0124,\n",
       "        -0.3049,  0.6429,  0.6983,  0.2487, -0.2225,  0.0041,  1.2704,  0.7182,\n",
       "         0.4474, -0.8953,  0.9686, -0.6573, -0.4130, -0.7590,  0.7862, -1.1938,\n",
       "         0.1020, -1.4283,  0.8882, -0.7322,  0.1519, -0.8709, -1.0753,  0.6618,\n",
       "         0.6698,  0.3382,  0.2424,  2.2291,  2.1404,  0.0050,  0.2671,  0.8587,\n",
       "         2.0700, -0.6871, -0.4042,  0.1775,  0.5832,  2.0564, -0.7564, -1.2602,\n",
       "        -0.1004, -0.4817,  0.6178, -0.3070, -0.7649, -1.6275,  0.4664, -0.2105,\n",
       "         0.1621, -0.7161, -0.5884,  0.3064, -1.2541,  0.0746, -0.2607, -1.6731,\n",
       "         0.1012,  0.2828, -0.2989,  0.2863,  0.2560,  1.0943, -0.7738,  1.2173,\n",
       "         0.2041, -1.4799, -0.1592, -1.6194,  1.5192, -0.4333, -0.2237,  1.7950,\n",
       "        -0.2538,  0.3536, -0.4554, -0.1156,  1.1510,  0.0499,  0.7688, -0.3744,\n",
       "         0.2985, -0.1372, -2.4926, -1.7938,  0.8516, -1.2332,  2.0493,  1.1974,\n",
       "         1.2601,  1.0113,  0.3030, -0.2968,  1.0929,  0.0706,  0.3341, -1.1084,\n",
       "        -0.2844,  0.3983, -0.0363,  1.0838, -0.3284, -0.5634,  0.1696, -0.7131,\n",
       "         1.1362, -1.0645,  1.0911,  0.5036,  1.5966,  1.5106,  1.7595, -0.6194,\n",
       "        -1.4237, -1.9521,  1.6006,  1.7784, -1.8901,  0.5713,  1.5885, -0.8336,\n",
       "         1.8838,  0.0446,  0.9672,  0.1087, -1.6034, -0.9355,  1.1432, -1.2517,\n",
       "        -0.0752,  0.2051, -0.3009,  0.5746,  0.1936,  0.9282,  0.5386, -0.8453,\n",
       "         0.7688,  0.2116, -0.1880, -0.3040,  1.1812,  0.5894,  1.5791, -0.2649,\n",
       "        -0.2097, -0.2491,  0.6502, -0.7528, -0.0973, -0.3065,  0.9359, -1.1068,\n",
       "         0.0798, -1.5339,  0.8523, -0.3546,  0.0646,  1.3316, -1.4697,  0.8211,\n",
       "         1.0018, -0.6097,  0.3566,  0.0579,  1.1586,  0.8579, -2.2467, -1.1538,\n",
       "        -0.7961,  1.2423, -1.3426, -1.0672, -1.3646,  0.5427, -0.7491, -1.7647,\n",
       "        -0.4234, -0.0397, -0.3352, -0.4645,  0.7862, -0.3171, -0.3668, -0.3444,\n",
       "        -0.3512,  0.6930,  0.9097,  0.6227,  1.2684,  0.3834,  0.6691, -1.5492,\n",
       "         0.7919, -0.5734,  1.2391, -1.5336,  0.8173, -1.3212, -0.2816,  0.0745,\n",
       "        -1.2781, -1.5368,  1.8060,  0.3975, -1.4941,  1.6175,  0.9100,  1.7277,\n",
       "        -0.5957, -0.3744,  1.0631, -1.2321,  1.9072,  1.8737,  0.6313,  0.2415,\n",
       "         0.6465, -1.3723,  0.0748,  2.6804,  0.6222,  1.1826, -0.8682,  1.9538,\n",
       "         1.9320, -1.1052,  0.3802,  0.8940,  0.7062,  0.3119,  2.5953, -0.4386,\n",
       "        -0.0521, -1.4920, -1.0530, -1.1149,  0.1774, -1.2293,  0.4171,  0.2874,\n",
       "        -1.5533,  1.0436,  0.5635, -0.4160,  0.5353,  1.2809, -1.0927, -0.1187,\n",
       "        -0.7392,  0.9670,  0.4776,  0.5281,  1.7586,  0.1200, -0.5504, -0.7545,\n",
       "        -0.4112, -2.9243,  0.8223, -0.8484, -1.2275,  0.2946, -0.9825,  0.2474,\n",
       "         0.4415, -1.1597,  0.0699, -0.1738, -0.1057, -0.1071, -0.7413,  0.0919,\n",
       "         0.2494, -0.3077,  1.4109,  1.6033,  0.6612, -0.4133,  1.5052, -0.1050,\n",
       "        -0.7530,  1.4096, -0.0461, -0.0806, -0.0113, -0.6890,  1.9698,  0.2284,\n",
       "         0.0724,  1.1258,  0.1388,  0.9683, -1.4996, -0.6293, -0.7827, -1.1421,\n",
       "        -0.0198,  0.0065, -0.3351,  0.8633,  0.5795,  0.8151, -0.8835, -1.7170,\n",
       "        -0.0817,  0.4502, -0.5492,  0.4444, -0.2096, -0.1779, -1.7221, -0.8579,\n",
       "         0.0972, -0.2568, -0.2471,  0.5699,  0.6743, -0.1070, -1.0065,  1.8655,\n",
       "         0.2963,  0.1768,  0.7601,  1.9577,  0.3860,  0.5216,  0.5350, -0.5969,\n",
       "        -1.2391, -0.2755, -0.4310,  1.6875, -1.6678, -1.6301, -1.8717, -1.0246,\n",
       "        -1.0838, -0.6600,  0.3727, -1.4911, -0.5070, -2.4449,  0.3475,  0.5003,\n",
       "        -0.1591,  0.5349, -0.8209,  1.0772,  1.6451,  0.3275,  0.1274, -0.1713,\n",
       "        -0.3437, -0.1880,  0.1772, -0.0430, -0.2460, -0.7534,  0.6753,  1.9318])"
      ]
     },
     "execution_count": 91,
     "metadata": {},
     "output_type": "execute_result"
    }
   ],
   "source": [
    "normal_dist = distro.Normal(torch.Tensor([0]), torch.Tensor([1])).sample((1000,)).flatten()\n",
    "normal_dist"
   ]
  },
  {
   "cell_type": "code",
   "execution_count": 89,
   "id": "e667b6b8",
   "metadata": {},
   "outputs": [],
   "source": [
    "import matplotlib.pyplot as plt"
   ]
  },
  {
   "cell_type": "code",
   "execution_count": 90,
   "id": "b509f5e6",
   "metadata": {},
   "outputs": [
    {
     "data": {
      "text/plain": [
       "<function matplotlib.pyplot.show(close=None, block=None)>"
      ]
     },
     "execution_count": 90,
     "metadata": {},
     "output_type": "execute_result"
    },
    {
     "data": {
      "image/png": "[encoded data removed]",
      "text/plain": [
       "<Figure size 432x288 with 1 Axes>"
      ]
     },
     "metadata": {
      "needs_background": "light"
     },
     "output_type": "display_data"
    }
   ],
   "source": [
    "plt.hist(normal_dist.numpy())\n",
    "plt.show"
   ]
  },
  {
   "cell_type": "code",
   "execution_count": null,
   "id": "2714251e",
   "metadata": {},
   "outputs": [],
   "source": []
  }
 ],
 "metadata": {
  "kernelspec": {
   "display_name": "Python 3 (ipykernel)",
   "language": "python",
   "name": "python3"
  },
  "language_info": {
   "codemirror_mode": {
    "name": "ipython",
    "version": 3
   },
   "file_extension": ".py",
   "mimetype": "text/x-python",
   "name": "python",
   "nbconvert_exporter": "python",
   "pygments_lexer": "ipython3",
   "version": "3.8.12"
  }
 },
 "nbformat": 4,
 "nbformat_minor": 5
}
