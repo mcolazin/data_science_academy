{
 "cells": [
  {
   "cell_type": "code",
   "execution_count": 1,
   "id": "43d21444",
   "metadata": {},
   "outputs": [],
   "source": [
    "import numpy as np\n",
    "import matplotlib.pyplot as plt\n",
    "\n",
    "import time\n",
    "import torch\n",
    "import torchvision\n",
    "import torch.nn as nn\n",
    "import torch.optim as optim\n",
    "import torch.nn.functional as F\n",
    "from torchvision import datasets, transforms\n"
   ]
  },
  {
   "cell_type": "code",
   "execution_count": 2,
   "id": "5f43c26b",
   "metadata": {},
   "outputs": [],
   "source": [
    "# Os dados baixados devemn ser convertidos para Torch Tensors. Assim será instanciado um objeto para transformações:\n",
    "transform = transforms.Compose([transforms.ToTensor(), transforms.Normalize((0.5, ), (0.5, ))])"
   ]
  },
  {
   "cell_type": "code",
   "execution_count": 3,
   "id": "cda334a2",
   "metadata": {},
   "outputs": [],
   "source": [
    "# loading dos dados de treino (pipeline - aplicando transform)\n",
    "data_train = torch.utils.data.DataLoader(datasets.MNIST(\"data\", train= True, download= True,\n",
    "                                                       transform= transform), \n",
    "                                         batch_size= 64, shuffle= True)"
   ]
  },
  {
   "cell_type": "code",
   "execution_count": 4,
   "id": "166677d0",
   "metadata": {},
   "outputs": [],
   "source": [
    "# loading dos dados de teste\n",
    "data_test = torch.utils.data.DataLoader(datasets.MNIST(\"data\", train= False, transform= transform),\n",
    "                                       batch_size= 64, shuffle= True)"
   ]
  },
  {
   "cell_type": "code",
   "execution_count": 5,
   "id": "c6b0ec46",
   "metadata": {},
   "outputs": [
    {
     "data": {
      "text/plain": [
       "torch.Size([60000, 28, 28])"
      ]
     },
     "execution_count": 5,
     "metadata": {},
     "output_type": "execute_result"
    }
   ],
   "source": [
    "# dimensão dos dados de treino 1:\n",
    "data_train.dataset.data.shape"
   ]
  },
  {
   "cell_type": "code",
   "execution_count": 6,
   "id": "c4d01fc9",
   "metadata": {},
   "outputs": [
    {
     "data": {
      "text/plain": [
       "(torch.Size([64, 1, 28, 28]), torch.Size([64]))"
      ]
     },
     "execution_count": 6,
     "metadata": {},
     "output_type": "execute_result"
    }
   ],
   "source": [
    "# dimensão dos dados de treino 2: (dentro de 1 batch)\n",
    "dataiter = iter(data_train)\n",
    "images, labels = dataiter.next()\n",
    "images.shape, labels.shape"
   ]
  },
  {
   "cell_type": "code",
   "execution_count": 7,
   "id": "80ce27d5",
   "metadata": {},
   "outputs": [
    {
     "data": {
      "text/plain": [
       "<matplotlib.image.AxesImage at 0x26d97a425b0>"
      ]
     },
     "execution_count": 7,
     "metadata": {},
     "output_type": "execute_result"
    },
    {
     "data": {
      "image/png": "[encoded data removed]",
      "text/plain": [
       "<Figure size 432x288 with 1 Axes>"
      ]
     },
     "metadata": {
      "needs_background": "light"
     },
     "output_type": "display_data"
    }
   ],
   "source": [
    "# visualizando 1 imagem e o label\n",
    "plt.imshow(images[0][0].numpy())"
   ]
  },
  {
   "cell_type": "code",
   "execution_count": 8,
   "id": "0ed9d24d",
   "metadata": {},
   "outputs": [
    {
     "data": {
      "text/plain": [
       "<matplotlib.image.AxesImage at 0x26d97b2dbe0>"
      ]
     },
     "execution_count": 8,
     "metadata": {},
     "output_type": "execute_result"
    },
    {
     "data": {
      "image/png": "[encoded data removed]",
      "text/plain": [
       "<Figure size 432x288 with 1 Axes>"
      ]
     },
     "metadata": {
      "needs_background": "light"
     },
     "output_type": "display_data"
    }
   ],
   "source": [
    "# visualizando 1 imagem e o label com squeeze\n",
    "plt.imshow(images[0].numpy().squeeze())"
   ]
  },
  {
   "cell_type": "code",
   "execution_count": 9,
   "id": "76258bc9",
   "metadata": {},
   "outputs": [
    {
     "data": {
      "text/plain": [
       "Sequential(\n",
       "  (0): Linear(in_features=784, out_features=128, bias=True)\n",
       "  (1): ReLU()\n",
       "  (2): Linear(in_features=128, out_features=64, bias=True)\n",
       "  (3): ReLU()\n",
       "  (4): Linear(in_features=64, out_features=10, bias=True)\n",
       "  (5): LogSoftmax(dim=1)\n",
       ")"
      ]
     },
     "execution_count": 9,
     "metadata": {},
     "output_type": "execute_result"
    }
   ],
   "source": [
    "# Construindo o modelo:\n",
    "model = nn.Sequential(nn.Linear(in_features=784, out_features=128, bias=True),\n",
    "                     nn.ReLU(),\n",
    "                     nn.Linear(in_features=128, out_features=64),\n",
    "                     nn.ReLU(),\n",
    "                     nn.Linear(in_features=64, out_features=10),\n",
    "                     nn.LogSoftmax(dim=1))\n",
    "model"
   ]
  },
  {
   "cell_type": "code",
   "execution_count": 10,
   "id": "419bd937",
   "metadata": {},
   "outputs": [],
   "source": [
    "# Função de custo - NLLLOSS - negative Likelihood Loss\n",
    "criterion = nn.NLLLoss()"
   ]
  },
  {
   "cell_type": "code",
   "execution_count": 11,
   "id": "223ff337",
   "metadata": {},
   "outputs": [],
   "source": [
    "# data branchs\n",
    "images, labels = next(iter(data_train))"
   ]
  },
  {
   "cell_type": "code",
   "execution_count": 12,
   "id": "77bb65d9",
   "metadata": {},
   "outputs": [],
   "source": [
    "# shape adjustment\n",
    "images = images.view(images.shape[0], -1)"
   ]
  },
  {
   "cell_type": "code",
   "execution_count": 13,
   "id": "f3554e03",
   "metadata": {},
   "outputs": [],
   "source": [
    "# logs of probability class\n",
    "logps = model(images)"
   ]
  },
  {
   "cell_type": "code",
   "execution_count": 14,
   "id": "89fde0ba",
   "metadata": {},
   "outputs": [],
   "source": [
    "# loss\n",
    "loss = criterion(logps, labels)"
   ]
  },
  {
   "cell_type": "code",
   "execution_count": 15,
   "id": "0974a4e5",
   "metadata": {},
   "outputs": [
    {
     "name": "stdout",
     "output_type": "stream",
     "text": [
      "None\n",
      "tensor([[-0.0015, -0.0015, -0.0015,  ..., -0.0015, -0.0015, -0.0015],\n",
      "        [-0.0022, -0.0022, -0.0022,  ..., -0.0022, -0.0022, -0.0022],\n",
      "        [-0.0041, -0.0041, -0.0041,  ..., -0.0041, -0.0041, -0.0041],\n",
      "        ...,\n",
      "        [-0.0002, -0.0002, -0.0002,  ..., -0.0002, -0.0002, -0.0002],\n",
      "        [-0.0009, -0.0009, -0.0009,  ..., -0.0009, -0.0009, -0.0009],\n",
      "        [ 0.0000,  0.0000,  0.0000,  ...,  0.0000,  0.0000,  0.0000]])\n"
     ]
    }
   ],
   "source": [
    "# peso do gradiente antes do primeiro batch\n",
    "print(model[0].weight.grad)\n",
    "# peso do gradiente depois do batch\n",
    "loss.backward()\n",
    "print(model[0].weight.grad)"
   ]
  },
  {
   "cell_type": "markdown",
   "id": "62fec42d",
   "metadata": {},
   "source": [
    "#### training"
   ]
  },
  {
   "cell_type": "code",
   "execution_count": 18,
   "id": "ae37bdda",
   "metadata": {
    "scrolled": true
   },
   "outputs": [
    {
     "name": "stdout",
     "output_type": "stream",
     "text": [
      "Epoch: 0 .... Loss: 0.36880370989036776\n",
      "Epoch: 1 .... Loss: 0.16818148156862334\n",
      "Epoch: 2 .... Loss: 0.13165647643449496\n",
      "Epoch: 3 .... Loss: 0.11498844623813895\n",
      "Epoch: 4 .... Loss: 0.09999809097332348\n",
      "Epoch: 5 .... Loss: 0.08979770771837406\n",
      "Epoch: 6 .... Loss: 0.08134204961993952\n",
      "Epoch: 7 .... Loss: 0.07066143435262975\n",
      "Epoch: 8 .... Loss: 0.06696611644761231\n",
      "Epoch: 9 .... Loss: 0.06261395686461196\n"
     ]
    }
   ],
   "source": [
    "# optimizer\n",
    "optimizer = optim.SGD(params=model.parameters(), lr=0.03, momentum= 0.9)\n",
    "\n",
    "epochs = 10\n",
    "\n",
    "for e in range(epochs):\n",
    "    running_loss = 0 # erro da época zerado\n",
    "    \n",
    "    for images, labels in data_train:\n",
    "        images = images.view(images.shape[0], -1) # image flatten\n",
    "        optimizer.zero_grad() # training pass\n",
    "        output = model(images)\n",
    "        loss = criterion(output, labels)\n",
    "        loss.backward() # backpropagation\n",
    "        optimizer.step() # otimização dos passos\n",
    "        running_loss = running_loss + loss.item()\n",
    "    print(f\"Epoch: {e} .... Loss: {running_loss / len(data_train)}\")"
   ]
  },
  {
   "cell_type": "markdown",
   "id": "f243129f",
   "metadata": {},
   "source": [
    "### Evaluation and test"
   ]
  },
  {
   "cell_type": "code",
   "execution_count": null,
   "id": "d6efa3f7",
   "metadata": {},
   "outputs": [],
   "source": [
    "# Cáclulo por acurácia (True Positive / all tests)"
   ]
  },
  {
   "cell_type": "code",
   "execution_count": 74,
   "id": "518f77b8",
   "metadata": {
    "scrolled": false
   },
   "outputs": [
    {
     "name": "stdout",
     "output_type": "stream",
     "text": [
      "ACC: 0.9693\n"
     ]
    }
   ],
   "source": [
    "true_positive, all_data = 0, 0\n",
    "for images, labels in data_test:\n",
    "    for i in range(labels.shape[0]):\n",
    "        img = images[i].view(1, 784)\n",
    "        with torch.no_grad():\n",
    "            logps = model(img)\n",
    "        ps = torch.exp(logps)\n",
    "        probab = list(ps.numpy()[0])\n",
    "        pred_label = probab.index(max(probab))\n",
    "        true_label = labels.numpy()[i]\n",
    "        if(true_label == pred_label):\n",
    "            true_positive += 1\n",
    "        all_data += 1\n",
    "print(f\"ACC: {true_positive / all_data}\")"
   ]
  },
  {
   "cell_type": "code",
   "execution_count": 75,
   "id": "3c574128",
   "metadata": {},
   "outputs": [],
   "source": [
    "# salvar o modelo\n",
    "torch.save(model, \"modelo_torch_nn_medium.pt\")"
   ]
  },
  {
   "cell_type": "code",
   "execution_count": null,
   "id": "c7e04636",
   "metadata": {},
   "outputs": [],
   "source": []
  },
  {
   "cell_type": "code",
   "execution_count": null,
   "id": "6aaa2ec5",
   "metadata": {},
   "outputs": [],
   "source": []
  },
  {
   "cell_type": "code",
   "execution_count": null,
   "id": "116b5f3c",
   "metadata": {},
   "outputs": [],
   "source": []
  },
  {
   "cell_type": "code",
   "execution_count": null,
   "id": "09584e24",
   "metadata": {},
   "outputs": [],
   "source": []
  },
  {
   "cell_type": "code",
   "execution_count": null,
   "id": "cf3a692c",
   "metadata": {},
   "outputs": [],
   "source": []
  }
 ],
 "metadata": {
  "kernelspec": {
   "display_name": "Python 3 (ipykernel)",
   "language": "python",
   "name": "python3"
  },
  "language_info": {
   "codemirror_mode": {
    "name": "ipython",
    "version": 3
   },
   "file_extension": ".py",
   "mimetype": "text/x-python",
   "name": "python",
   "nbconvert_exporter": "python",
   "pygments_lexer": "ipython3",
   "version": "3.8.12"
  }
 },
 "nbformat": 4,
 "nbformat_minor": 5
}
