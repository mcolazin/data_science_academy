{
 "cells": [
  {
   "cell_type": "code",
   "execution_count": 44,
   "id": "cf857f21",
   "metadata": {},
   "outputs": [],
   "source": [
    "import pandas as pd\n",
    "import numpy as np\n",
    "import sklearn\n",
    "\n",
    "import torch\n",
    "import torch.nn as nn\n",
    "import torch.optim as optim\n",
    "import torch.nn.functional as F\n",
    "\n",
    "from torch.utils.data import DataLoader, Dataset\n",
    "from sklearn.feature_extraction.text import CountVectorizer\n",
    "\n",
    "import seaborn as sns\n",
    "import matplotlib.pyplot as plt\n",
    "\n",
    "from tqdm.notebook import tqdm, tqdm_notebook"
   ]
  },
  {
   "cell_type": "markdown",
   "id": "61d3dbc9",
   "metadata": {},
   "source": [
    "### load dataset"
   ]
  },
  {
   "cell_type": "code",
   "execution_count": 45,
   "id": "6b96e233",
   "metadata": {},
   "outputs": [
    {
     "data": {
      "text/plain": [
       "device(type='cpu')"
      ]
     },
     "execution_count": 45,
     "metadata": {},
     "output_type": "execute_result"
    }
   ],
   "source": [
    "# definir o device\n",
    "device = torch.device(\"cpu\")\n",
    "device"
   ]
  },
  {
   "cell_type": "code",
   "execution_count": 46,
   "id": "27ef4670",
   "metadata": {},
   "outputs": [
    {
     "data": {
      "text/html": [
       "<div>\n",
       "<style scoped>\n",
       "    .dataframe tbody tr th:only-of-type {\n",
       "        vertical-align: middle;\n",
       "    }\n",
       "\n",
       "    .dataframe tbody tr th {\n",
       "        vertical-align: top;\n",
       "    }\n",
       "\n",
       "    .dataframe thead th {\n",
       "        text-align: right;\n",
       "    }\n",
       "</style>\n",
       "<table border=\"1\" class=\"dataframe\">\n",
       "  <thead>\n",
       "    <tr style=\"text-align: right;\">\n",
       "      <th></th>\n",
       "      <th>review</th>\n",
       "      <th>sentiment</th>\n",
       "    </tr>\n",
       "  </thead>\n",
       "  <tbody>\n",
       "    <tr>\n",
       "      <th>0</th>\n",
       "      <td>A very, very, very slow-moving, aimless movie ...</td>\n",
       "      <td>0</td>\n",
       "    </tr>\n",
       "    <tr>\n",
       "      <th>1</th>\n",
       "      <td>Not sure who was more lost - the flat characte...</td>\n",
       "      <td>0</td>\n",
       "    </tr>\n",
       "    <tr>\n",
       "      <th>2</th>\n",
       "      <td>Attempting artiness with black &amp; white and cle...</td>\n",
       "      <td>0</td>\n",
       "    </tr>\n",
       "    <tr>\n",
       "      <th>3</th>\n",
       "      <td>Very little music or anything to speak of.</td>\n",
       "      <td>0</td>\n",
       "    </tr>\n",
       "    <tr>\n",
       "      <th>4</th>\n",
       "      <td>The best scene in the movie was when Gerardo i...</td>\n",
       "      <td>1</td>\n",
       "    </tr>\n",
       "    <tr>\n",
       "      <th>...</th>\n",
       "      <td>...</td>\n",
       "      <td>...</td>\n",
       "    </tr>\n",
       "    <tr>\n",
       "      <th>743</th>\n",
       "      <td>I just got bored watching Jessice Lange take h...</td>\n",
       "      <td>0</td>\n",
       "    </tr>\n",
       "    <tr>\n",
       "      <th>744</th>\n",
       "      <td>Unfortunately, any virtue in this film's produ...</td>\n",
       "      <td>0</td>\n",
       "    </tr>\n",
       "    <tr>\n",
       "      <th>745</th>\n",
       "      <td>In a word, it is embarrassing.</td>\n",
       "      <td>0</td>\n",
       "    </tr>\n",
       "    <tr>\n",
       "      <th>746</th>\n",
       "      <td>Exceptionally bad!</td>\n",
       "      <td>0</td>\n",
       "    </tr>\n",
       "    <tr>\n",
       "      <th>747</th>\n",
       "      <td>All in all its an insult to one's intelligence...</td>\n",
       "      <td>0</td>\n",
       "    </tr>\n",
       "  </tbody>\n",
       "</table>\n",
       "<p>748 rows × 2 columns</p>\n",
       "</div>"
      ],
      "text/plain": [
       "                                                review  sentiment\n",
       "0    A very, very, very slow-moving, aimless movie ...          0\n",
       "1    Not sure who was more lost - the flat characte...          0\n",
       "2    Attempting artiness with black & white and cle...          0\n",
       "3         Very little music or anything to speak of.            0\n",
       "4    The best scene in the movie was when Gerardo i...          1\n",
       "..                                                 ...        ...\n",
       "743  I just got bored watching Jessice Lange take h...          0\n",
       "744  Unfortunately, any virtue in this film's produ...          0\n",
       "745                   In a word, it is embarrassing.            0\n",
       "746                               Exceptionally bad!            0\n",
       "747  All in all its an insult to one's intelligence...          0\n",
       "\n",
       "[748 rows x 2 columns]"
      ]
     },
     "execution_count": 46,
     "metadata": {},
     "output_type": "execute_result"
    }
   ],
   "source": [
    "col_names = [\"review\", \"sentiment\"]\n",
    "dados_filmes = pd.read_csv(\"data/imdb_reviews.csv\", sep=\"\\t\", names=col_names)\n",
    "dados_filmes"
   ]
  },
  {
   "cell_type": "code",
   "execution_count": 47,
   "id": "80aaa972",
   "metadata": {},
   "outputs": [
    {
     "data": {
      "text/plain": [
       "(748, 2)"
      ]
     },
     "execution_count": 47,
     "metadata": {},
     "output_type": "execute_result"
    }
   ],
   "source": [
    "dados_filmes.shape"
   ]
  },
  {
   "cell_type": "code",
   "execution_count": 48,
   "id": "4e46c577",
   "metadata": {},
   "outputs": [
    {
     "data": {
      "text/plain": [
       "(<AxesSubplot:xlabel='sentiment', ylabel='Count'>,\n",
       " 1    386\n",
       " 0    362\n",
       " Name: sentiment, dtype: int64)"
      ]
     },
     "execution_count": 48,
     "metadata": {},
     "output_type": "execute_result"
    },
    {
     "data": {
      "image/png": "[encoded data removed]",
      "text/plain": [
       "<Figure size 432x288 with 1 Axes>"
      ]
     },
     "metadata": {
      "needs_background": "light"
     },
     "output_type": "display_data"
    }
   ],
   "source": [
    "sns.histplot(data=dados_filmes[\"sentiment\"]), dados_filmes[\"sentiment\"].value_counts()"
   ]
  },
  {
   "cell_type": "markdown",
   "id": "8b8fb4d9",
   "metadata": {},
   "source": [
    "### Manipulação do texto"
   ]
  },
  {
   "cell_type": "code",
   "execution_count": 49,
   "id": "85d30f65",
   "metadata": {},
   "outputs": [
    {
     "data": {
      "text/plain": [
       "CountVectorizer(max_df=0.99, min_df=0.005, stop_words='english')"
      ]
     },
     "execution_count": 49,
     "metadata": {},
     "output_type": "execute_result"
    }
   ],
   "source": [
    "# vetorização do texto com sklearn.\n",
    "# vectorizer -> sparse matrix\n",
    "vectorizer = CountVectorizer(stop_words= \"english\", max_df=0.99, min_df=0.005) # instância da classe CountVectorizer\n",
    "vectorizer"
   ]
  },
  {
   "cell_type": "code",
   "execution_count": 50,
   "id": "6fd41ac2",
   "metadata": {},
   "outputs": [
    {
     "data": {
      "text/plain": [
       "<748x320 sparse matrix of type '<class 'numpy.int64'>'\n",
       "\twith 2931 stored elements in Compressed Sparse Row format>"
      ]
     },
     "execution_count": 50,
     "metadata": {},
     "output_type": "execute_result"
    }
   ],
   "source": [
    "# Sequencias do texto com o vetorizador\n",
    "sequences = vectorizer.fit_transform(dados_filmes.review.to_list()) # fit realiza a construção da matriz esparsa\n",
    "sequences # matriz espars com 748 X 320"
   ]
  },
  {
   "cell_type": "code",
   "execution_count": 51,
   "id": "b02ae3e2",
   "metadata": {},
   "outputs": [],
   "source": [
    "labels = dados_filmes.sentiment.to_list()"
   ]
  },
  {
   "cell_type": "code",
   "execution_count": 52,
   "id": "f146a8ed",
   "metadata": {},
   "outputs": [],
   "source": [
    "# Dicionario de frequencia de palavras -> bago of words\n",
    "token2idx =vectorizer.vocabulary_ # o atributo vocabulary_ contem o dicionario de frquencia dos words"
   ]
  },
  {
   "cell_type": "code",
   "execution_count": 53,
   "id": "f5900bbf",
   "metadata": {},
   "outputs": [
    {
     "data": {
      "text/plain": [
       "({'slow': 248,\n",
       "  'moving': 185,\n",
       "  'movie': 183,\n",
       "  'young': 319,\n",
       "  'man': 171,\n",
       "  'lost': 162,\n",
       "  'characters': 41,\n",
       "  'audience': 14,\n",
       "  'half': 119,\n",
       "  'black': 28,\n",
       "  'white': 305,\n",
       "  'clever': 48,\n",
       "  'camera': 35,\n",
       "  'disappointed': 73,\n",
       "  'ridiculous': 227,\n",
       "  'acting': 3,\n",
       "  'poor': 211,\n",
       "  'plot': 209,\n",
       "  'lines': 156,\n",
       "  'non': 190,\n",
       "  'little': 157,\n",
       "  'music': 186,\n",
       "  'best': 24,\n",
       "  'scene': 234,\n",
       "  'trying': 285,\n",
       "  'rest': 226,\n",
       "  'lacks': 147,\n",
       "  'art': 12,\n",
       "  'works': 310,\n",
       "  'guess': 118,\n",
       "  'wasted': 300,\n",
       "  'saw': 232,\n",
       "  'today': 278,\n",
       "  'thought': 275,\n",
       "  'good': 115,\n",
       "  'kids': 144,\n",
       "  'bit': 27,\n",
       "  'predictable': 213,\n",
       "  'loved': 165,\n",
       "  'casting': 38,\n",
       "  'adorable': 8,\n",
       "  'lot': 163,\n",
       "  'look': 160,\n",
       "  'songs': 251,\n",
       "  'hilarious': 122,\n",
       "  'cool': 55,\n",
       "  'right': 228,\n",
       "  'face': 92,\n",
       "  'low': 167,\n",
       "  'budget': 33,\n",
       "  'long': 159,\n",
       "  'consider': 53,\n",
       "  'tale': 266,\n",
       "  'single': 247,\n",
       "  'film': 101,\n",
       "  'll': 158,\n",
       "  'cinematography': 46,\n",
       "  'production': 218,\n",
       "  'editing': 78,\n",
       "  'directing': 70,\n",
       "  'making': 170,\n",
       "  'perfect': 200,\n",
       "  'true': 283,\n",
       "  'history': 123,\n",
       "  'cinema': 45,\n",
       "  'think': 274,\n",
       "  'level': 151,\n",
       "  'films': 102,\n",
       "  'mind': 180,\n",
       "  'quite': 219,\n",
       "  'simply': 246,\n",
       "  'does': 74,\n",
       "  'beautiful': 20,\n",
       "  'short': 244,\n",
       "  'certainly': 39,\n",
       "  'far': 97,\n",
       "  'series': 242,\n",
       "  'strong': 260,\n",
       "  'love': 164,\n",
       "  'just': 143,\n",
       "  'waste': 299,\n",
       "  'money': 182,\n",
       "  'kind': 145,\n",
       "  'actually': 7,\n",
       "  'time': 276,\n",
       "  'crap': 58,\n",
       "  'say': 233,\n",
       "  'fun': 105,\n",
       "  'play': 206,\n",
       "  'enjoy': 83,\n",
       "  'flick': 104,\n",
       "  'idea': 131,\n",
       "  'lame': 148,\n",
       "  'character': 40,\n",
       "  'mediocre': 175,\n",
       "  'make': 168,\n",
       "  'family': 95,\n",
       "  'wasn': 298,\n",
       "  'did': 67,\n",
       "  'away': 16,\n",
       "  'entire': 86,\n",
       "  'point': 210,\n",
       "  'funny': 106,\n",
       "  'don': 76,\n",
       "  'better': 25,\n",
       "  'people': 199,\n",
       "  'like': 153,\n",
       "  'story': 258,\n",
       "  'real': 221,\n",
       "  'effects': 79,\n",
       "  'work': 309,\n",
       "  'scenes': 235,\n",
       "  'worst': 313,\n",
       "  'screen': 236,\n",
       "  've': 295,\n",
       "  'seen': 240,\n",
       "  'didn': 68,\n",
       "  'having': 120,\n",
       "  'lovely': 166,\n",
       "  'written': 316,\n",
       "  'girl': 111,\n",
       "  'life': 152,\n",
       "  'recommend': 223,\n",
       "  'let': 150,\n",
       "  'excellent': 88,\n",
       "  'cast': 37,\n",
       "  'line': 155,\n",
       "  'performances': 202,\n",
       "  'totally': 281,\n",
       "  'believable': 22,\n",
       "  'utterly': 294,\n",
       "  'convincing': 54,\n",
       "  'portrayal': 212,\n",
       "  'tv': 286,\n",
       "  '10': 0,\n",
       "  'tom': 279,\n",
       "  'actor': 5,\n",
       "  'enjoyed': 84,\n",
       "  'book': 29,\n",
       "  'annoying': 11,\n",
       "  'gives': 112,\n",
       "  'feeling': 99,\n",
       "  'absolutely': 2,\n",
       "  'actors': 6,\n",
       "  'dialogue': 66,\n",
       "  'doesn': 75,\n",
       "  'really': 222,\n",
       "  'energy': 82,\n",
       "  'generally': 109,\n",
       "  'great': 117,\n",
       "  'things': 273,\n",
       "  'worth': 314,\n",
       "  'suspense': 265,\n",
       "  'especially': 87,\n",
       "  'liked': 154,\n",
       "  'movies': 184,\n",
       "  'writing': 315,\n",
       "  'want': 297,\n",
       "  'amazing': 10,\n",
       "  'piece': 204,\n",
       "  'big': 26,\n",
       "  'years': 318,\n",
       "  'word': 308,\n",
       "  'overall': 195,\n",
       "  'interesting': 137,\n",
       "  'gave': 108,\n",
       "  'classic': 47,\n",
       "  'pretty': 215,\n",
       "  'horror': 127,\n",
       "  'definitely': 64,\n",
       "  'script': 237,\n",
       "  'terrific': 270,\n",
       "  'occasionally': 191,\n",
       "  'going': 114,\n",
       "  'way': 304,\n",
       "  'ending': 81,\n",
       "  'watch': 301,\n",
       "  'bad': 18,\n",
       "  'thing': 272,\n",
       "  'watching': 303,\n",
       "  'hour': 128,\n",
       "  'maybe': 173,\n",
       "  'played': 207,\n",
       "  'joy': 142,\n",
       "  'boring': 31,\n",
       "  'oh': 192,\n",
       "  'stupid': 261,\n",
       "  'director': 72,\n",
       "  'end': 80,\n",
       "  'night': 189,\n",
       "  'nice': 188,\n",
       "  'brilliant': 32,\n",
       "  'playing': 208,\n",
       "  'rent': 225,\n",
       "  'world': 311,\n",
       "  'fact': 93,\n",
       "  'chemistry': 43,\n",
       "  'couldn': 56,\n",
       "  'understand': 288,\n",
       "  'believe': 23,\n",
       "  'watched': 302,\n",
       "  'awful': 17,\n",
       "  'experience': 90,\n",
       "  'unfortunately': 289,\n",
       "  'direction': 71,\n",
       "  'depth': 65,\n",
       "  'imagination': 132,\n",
       "  'barely': 19,\n",
       "  'cult': 60,\n",
       "  'times': 277,\n",
       "  'truly': 284,\n",
       "  'terrible': 269,\n",
       "  'worse': 312,\n",
       "  'horrible': 126,\n",
       "  'minutes': 181,\n",
       "  'storyline': 259,\n",
       "  'know': 146,\n",
       "  'attempt': 13,\n",
       "  'self': 241,\n",
       "  'mean': 174,\n",
       "  'lead': 149,\n",
       "  'torture': 280,\n",
       "  'highly': 121,\n",
       "  'premise': 214,\n",
       "  'sound': 252,\n",
       "  'performance': 201,\n",
       "  'ups': 290,\n",
       "  'age': 9,\n",
       "  'john': 141,\n",
       "  'incredible': 133,\n",
       "  'job': 140,\n",
       "  'probably': 216,\n",
       "  'got': 116,\n",
       "  'new': 187,\n",
       "  'usual': 293,\n",
       "  'completely': 52,\n",
       "  'holes': 124,\n",
       "  'pathetic': 198,\n",
       "  'talk': 267,\n",
       "  'tell': 268,\n",
       "  'action': 4,\n",
       "  'master': 172,\n",
       "  'care': 36,\n",
       "  'fails': 94,\n",
       "  'visual': 296,\n",
       "  'drama': 77,\n",
       "  'used': 292,\n",
       "  'soundtrack': 253,\n",
       "  'cheap': 42,\n",
       "  'trash': 282,\n",
       "  'came': 34,\n",
       "  'said': 231,\n",
       "  'fans': 96,\n",
       "  'solid': 250,\n",
       "  'felt': 100,\n",
       "  'hope': 125,\n",
       "  'eyes': 91,\n",
       "  'child': 44,\n",
       "  'day': 62,\n",
       "  'started': 256,\n",
       "  'theater': 271,\n",
       "  'rating': 220,\n",
       "  'use': 291,\n",
       "  'shot': 245,\n",
       "  'subtle': 263,\n",
       "  'mention': 177,\n",
       "  'huge': 129,\n",
       "  'old': 193,\n",
       "  'wonderful': 307,\n",
       "  'year': 317,\n",
       "  'intelligence': 135,\n",
       "  'intelligent': 136,\n",
       "  'human': 130,\n",
       "  'entertaining': 85,\n",
       "  'memorable': 176,\n",
       "  'seeing': 239,\n",
       "  'bored': 30,\n",
       "  'special': 254,\n",
       "  'different': 69,\n",
       "  'roles': 230,\n",
       "  'gets': 110,\n",
       "  '90': 1,\n",
       "  'looked': 161,\n",
       "  'god': 113,\n",
       "  'parts': 197,\n",
       "  'sets': 243,\n",
       "  'stories': 257,\n",
       "  'makes': 169,\n",
       "  'second': 238,\n",
       "  'cover': 57,\n",
       "  'created': 59,\n",
       "  'garbage': 107,\n",
       "  'role': 229,\n",
       "  'comes': 51,\n",
       "  'involved': 138,\n",
       "  'place': 205,\n",
       "  'style': 262,\n",
       "  'star': 255,\n",
       "  'problems': 217,\n",
       "  'period': 203,\n",
       "  'won': 306,\n",
       "  'particularly': 196,\n",
       "  'insult': 134,\n",
       "  'death': 63,\n",
       "  'come': 49,\n",
       "  'comedy': 50,\n",
       "  'superb': 264,\n",
       "  'fine': 103,\n",
       "  'mess': 178,\n",
       "  'expect': 89,\n",
       "  'mickey': 179,\n",
       "  'original': 194,\n",
       "  'james': 139,\n",
       "  'recommended': 224,\n",
       "  'unbelievable': 287,\n",
       "  'avoid': 15,\n",
       "  'small': 249,\n",
       "  'dance': 61,\n",
       "  'beginning': 21,\n",
       "  'fast': 98},\n",
       " dict,\n",
       " 320)"
      ]
     },
     "execution_count": 53,
     "metadata": {},
     "output_type": "execute_result"
    }
   ],
   "source": [
    "token2idx, type(token2idx), len(token2idx)"
   ]
  },
  {
   "cell_type": "code",
   "execution_count": 54,
   "id": "f21e6838",
   "metadata": {},
   "outputs": [
    {
     "data": {
      "text/plain": [
       "18"
      ]
     },
     "execution_count": 54,
     "metadata": {},
     "output_type": "execute_result"
    }
   ],
   "source": [
    "token2idx[\"bad\"] # a palavra bad apareceu 18 vezes"
   ]
  },
  {
   "cell_type": "code",
   "execution_count": 55,
   "id": "03035f2a",
   "metadata": {},
   "outputs": [
    {
     "data": {
      "text/plain": [
       "{248: 'slow',\n",
       " 185: 'moving',\n",
       " 183: 'movie',\n",
       " 319: 'young',\n",
       " 171: 'man',\n",
       " 162: 'lost',\n",
       " 41: 'characters',\n",
       " 14: 'audience',\n",
       " 119: 'half',\n",
       " 28: 'black',\n",
       " 305: 'white',\n",
       " 48: 'clever',\n",
       " 35: 'camera',\n",
       " 73: 'disappointed',\n",
       " 227: 'ridiculous',\n",
       " 3: 'acting',\n",
       " 211: 'poor',\n",
       " 209: 'plot',\n",
       " 156: 'lines',\n",
       " 190: 'non',\n",
       " 157: 'little',\n",
       " 186: 'music',\n",
       " 24: 'best',\n",
       " 234: 'scene',\n",
       " 285: 'trying',\n",
       " 226: 'rest',\n",
       " 147: 'lacks',\n",
       " 12: 'art',\n",
       " 310: 'works',\n",
       " 118: 'guess',\n",
       " 300: 'wasted',\n",
       " 232: 'saw',\n",
       " 278: 'today',\n",
       " 275: 'thought',\n",
       " 115: 'good',\n",
       " 144: 'kids',\n",
       " 27: 'bit',\n",
       " 213: 'predictable',\n",
       " 165: 'loved',\n",
       " 38: 'casting',\n",
       " 8: 'adorable',\n",
       " 163: 'lot',\n",
       " 160: 'look',\n",
       " 251: 'songs',\n",
       " 122: 'hilarious',\n",
       " 55: 'cool',\n",
       " 228: 'right',\n",
       " 92: 'face',\n",
       " 167: 'low',\n",
       " 33: 'budget',\n",
       " 159: 'long',\n",
       " 53: 'consider',\n",
       " 266: 'tale',\n",
       " 247: 'single',\n",
       " 101: 'film',\n",
       " 158: 'll',\n",
       " 46: 'cinematography',\n",
       " 218: 'production',\n",
       " 78: 'editing',\n",
       " 70: 'directing',\n",
       " 170: 'making',\n",
       " 200: 'perfect',\n",
       " 283: 'true',\n",
       " 123: 'history',\n",
       " 45: 'cinema',\n",
       " 274: 'think',\n",
       " 151: 'level',\n",
       " 102: 'films',\n",
       " 180: 'mind',\n",
       " 219: 'quite',\n",
       " 246: 'simply',\n",
       " 74: 'does',\n",
       " 20: 'beautiful',\n",
       " 244: 'short',\n",
       " 39: 'certainly',\n",
       " 97: 'far',\n",
       " 242: 'series',\n",
       " 260: 'strong',\n",
       " 164: 'love',\n",
       " 143: 'just',\n",
       " 299: 'waste',\n",
       " 182: 'money',\n",
       " 145: 'kind',\n",
       " 7: 'actually',\n",
       " 276: 'time',\n",
       " 58: 'crap',\n",
       " 233: 'say',\n",
       " 105: 'fun',\n",
       " 206: 'play',\n",
       " 83: 'enjoy',\n",
       " 104: 'flick',\n",
       " 131: 'idea',\n",
       " 148: 'lame',\n",
       " 40: 'character',\n",
       " 175: 'mediocre',\n",
       " 168: 'make',\n",
       " 95: 'family',\n",
       " 298: 'wasn',\n",
       " 67: 'did',\n",
       " 16: 'away',\n",
       " 86: 'entire',\n",
       " 210: 'point',\n",
       " 106: 'funny',\n",
       " 76: 'don',\n",
       " 25: 'better',\n",
       " 199: 'people',\n",
       " 153: 'like',\n",
       " 258: 'story',\n",
       " 221: 'real',\n",
       " 79: 'effects',\n",
       " 309: 'work',\n",
       " 235: 'scenes',\n",
       " 313: 'worst',\n",
       " 236: 'screen',\n",
       " 295: 've',\n",
       " 240: 'seen',\n",
       " 68: 'didn',\n",
       " 120: 'having',\n",
       " 166: 'lovely',\n",
       " 316: 'written',\n",
       " 111: 'girl',\n",
       " 152: 'life',\n",
       " 223: 'recommend',\n",
       " 150: 'let',\n",
       " 88: 'excellent',\n",
       " 37: 'cast',\n",
       " 155: 'line',\n",
       " 202: 'performances',\n",
       " 281: 'totally',\n",
       " 22: 'believable',\n",
       " 294: 'utterly',\n",
       " 54: 'convincing',\n",
       " 212: 'portrayal',\n",
       " 286: 'tv',\n",
       " 0: '10',\n",
       " 279: 'tom',\n",
       " 5: 'actor',\n",
       " 84: 'enjoyed',\n",
       " 29: 'book',\n",
       " 11: 'annoying',\n",
       " 112: 'gives',\n",
       " 99: 'feeling',\n",
       " 2: 'absolutely',\n",
       " 6: 'actors',\n",
       " 66: 'dialogue',\n",
       " 75: 'doesn',\n",
       " 222: 'really',\n",
       " 82: 'energy',\n",
       " 109: 'generally',\n",
       " 117: 'great',\n",
       " 273: 'things',\n",
       " 314: 'worth',\n",
       " 265: 'suspense',\n",
       " 87: 'especially',\n",
       " 154: 'liked',\n",
       " 184: 'movies',\n",
       " 315: 'writing',\n",
       " 297: 'want',\n",
       " 10: 'amazing',\n",
       " 204: 'piece',\n",
       " 26: 'big',\n",
       " 318: 'years',\n",
       " 308: 'word',\n",
       " 195: 'overall',\n",
       " 137: 'interesting',\n",
       " 108: 'gave',\n",
       " 47: 'classic',\n",
       " 215: 'pretty',\n",
       " 127: 'horror',\n",
       " 64: 'definitely',\n",
       " 237: 'script',\n",
       " 270: 'terrific',\n",
       " 191: 'occasionally',\n",
       " 114: 'going',\n",
       " 304: 'way',\n",
       " 81: 'ending',\n",
       " 301: 'watch',\n",
       " 18: 'bad',\n",
       " 272: 'thing',\n",
       " 303: 'watching',\n",
       " 128: 'hour',\n",
       " 173: 'maybe',\n",
       " 207: 'played',\n",
       " 142: 'joy',\n",
       " 31: 'boring',\n",
       " 192: 'oh',\n",
       " 261: 'stupid',\n",
       " 72: 'director',\n",
       " 80: 'end',\n",
       " 189: 'night',\n",
       " 188: 'nice',\n",
       " 32: 'brilliant',\n",
       " 208: 'playing',\n",
       " 225: 'rent',\n",
       " 311: 'world',\n",
       " 93: 'fact',\n",
       " 43: 'chemistry',\n",
       " 56: 'couldn',\n",
       " 288: 'understand',\n",
       " 23: 'believe',\n",
       " 302: 'watched',\n",
       " 17: 'awful',\n",
       " 90: 'experience',\n",
       " 289: 'unfortunately',\n",
       " 71: 'direction',\n",
       " 65: 'depth',\n",
       " 132: 'imagination',\n",
       " 19: 'barely',\n",
       " 60: 'cult',\n",
       " 277: 'times',\n",
       " 284: 'truly',\n",
       " 269: 'terrible',\n",
       " 312: 'worse',\n",
       " 126: 'horrible',\n",
       " 181: 'minutes',\n",
       " 259: 'storyline',\n",
       " 146: 'know',\n",
       " 13: 'attempt',\n",
       " 241: 'self',\n",
       " 174: 'mean',\n",
       " 149: 'lead',\n",
       " 280: 'torture',\n",
       " 121: 'highly',\n",
       " 214: 'premise',\n",
       " 252: 'sound',\n",
       " 201: 'performance',\n",
       " 290: 'ups',\n",
       " 9: 'age',\n",
       " 141: 'john',\n",
       " 133: 'incredible',\n",
       " 140: 'job',\n",
       " 216: 'probably',\n",
       " 116: 'got',\n",
       " 187: 'new',\n",
       " 293: 'usual',\n",
       " 52: 'completely',\n",
       " 124: 'holes',\n",
       " 198: 'pathetic',\n",
       " 267: 'talk',\n",
       " 268: 'tell',\n",
       " 4: 'action',\n",
       " 172: 'master',\n",
       " 36: 'care',\n",
       " 94: 'fails',\n",
       " 296: 'visual',\n",
       " 77: 'drama',\n",
       " 292: 'used',\n",
       " 253: 'soundtrack',\n",
       " 42: 'cheap',\n",
       " 282: 'trash',\n",
       " 34: 'came',\n",
       " 231: 'said',\n",
       " 96: 'fans',\n",
       " 250: 'solid',\n",
       " 100: 'felt',\n",
       " 125: 'hope',\n",
       " 91: 'eyes',\n",
       " 44: 'child',\n",
       " 62: 'day',\n",
       " 256: 'started',\n",
       " 271: 'theater',\n",
       " 220: 'rating',\n",
       " 291: 'use',\n",
       " 245: 'shot',\n",
       " 263: 'subtle',\n",
       " 177: 'mention',\n",
       " 129: 'huge',\n",
       " 193: 'old',\n",
       " 307: 'wonderful',\n",
       " 317: 'year',\n",
       " 135: 'intelligence',\n",
       " 136: 'intelligent',\n",
       " 130: 'human',\n",
       " 85: 'entertaining',\n",
       " 176: 'memorable',\n",
       " 239: 'seeing',\n",
       " 30: 'bored',\n",
       " 254: 'special',\n",
       " 69: 'different',\n",
       " 230: 'roles',\n",
       " 110: 'gets',\n",
       " 1: '90',\n",
       " 161: 'looked',\n",
       " 113: 'god',\n",
       " 197: 'parts',\n",
       " 243: 'sets',\n",
       " 257: 'stories',\n",
       " 169: 'makes',\n",
       " 238: 'second',\n",
       " 57: 'cover',\n",
       " 59: 'created',\n",
       " 107: 'garbage',\n",
       " 229: 'role',\n",
       " 51: 'comes',\n",
       " 138: 'involved',\n",
       " 205: 'place',\n",
       " 262: 'style',\n",
       " 255: 'star',\n",
       " 217: 'problems',\n",
       " 203: 'period',\n",
       " 306: 'won',\n",
       " 196: 'particularly',\n",
       " 134: 'insult',\n",
       " 63: 'death',\n",
       " 49: 'come',\n",
       " 50: 'comedy',\n",
       " 264: 'superb',\n",
       " 103: 'fine',\n",
       " 178: 'mess',\n",
       " 89: 'expect',\n",
       " 179: 'mickey',\n",
       " 194: 'original',\n",
       " 139: 'james',\n",
       " 224: 'recommended',\n",
       " 287: 'unbelievable',\n",
       " 15: 'avoid',\n",
       " 249: 'small',\n",
       " 61: 'dance',\n",
       " 21: 'beginning',\n",
       " 98: 'fast'}"
      ]
     },
     "execution_count": 55,
     "metadata": {},
     "output_type": "execute_result"
    }
   ],
   "source": [
    "# É possível inverter os keys : values da lista:\n",
    "idx2token = {}\n",
    "for key, value in token2idx.items():\n",
    "    idx2token[value] = key\n",
    "idx2token"
   ]
  },
  {
   "cell_type": "markdown",
   "id": "97588a14",
   "metadata": {},
   "source": [
    "### classe para criação do bag of words - opção número 2"
   ]
  },
  {
   "cell_type": "code",
   "execution_count": 56,
   "id": "9331bfd9",
   "metadata": {},
   "outputs": [],
   "source": [
    "class Sequences():\n",
    "    def __init__(self):\n",
    "        self.vectorizer = CountVectorizer(stop_words= \"english\", max_df=0.99, min_df=0.005)\n",
    "        self.sequences = self.vectorizer.fit_transform(dados_filmes.review.tolist())\n",
    "        self.labels = dados_filmes.sentiment.tolist()\n",
    "        self.token2idx = self.vectorizer.vocabulary_\n",
    "        self.idx2token = {idx: token for token, idx in self.token2idx.items()}\n",
    "    \n",
    "    def __getitem__(self, i):\n",
    "        return(self.sequences[i, :].toarray(), self.labels[i])\n",
    "    \n",
    "    def __len__(self):\n",
    "        return(self.sequences.shape[0])\n",
    "    "
   ]
  },
  {
   "cell_type": "code",
   "execution_count": 57,
   "id": "c1aeb286",
   "metadata": {},
   "outputs": [],
   "source": [
    "# instancia da classe Sequences:\n",
    "transform_text = Sequences()"
   ]
  },
  {
   "cell_type": "code",
   "execution_count": 58,
   "id": "ac9991f6",
   "metadata": {},
   "outputs": [
    {
     "data": {
      "text/plain": [
       "{248: 'slow',\n",
       " 185: 'moving',\n",
       " 183: 'movie',\n",
       " 319: 'young',\n",
       " 171: 'man',\n",
       " 162: 'lost',\n",
       " 41: 'characters',\n",
       " 14: 'audience',\n",
       " 119: 'half',\n",
       " 28: 'black',\n",
       " 305: 'white',\n",
       " 48: 'clever',\n",
       " 35: 'camera',\n",
       " 73: 'disappointed',\n",
       " 227: 'ridiculous',\n",
       " 3: 'acting',\n",
       " 211: 'poor',\n",
       " 209: 'plot',\n",
       " 156: 'lines',\n",
       " 190: 'non',\n",
       " 157: 'little',\n",
       " 186: 'music',\n",
       " 24: 'best',\n",
       " 234: 'scene',\n",
       " 285: 'trying',\n",
       " 226: 'rest',\n",
       " 147: 'lacks',\n",
       " 12: 'art',\n",
       " 310: 'works',\n",
       " 118: 'guess',\n",
       " 300: 'wasted',\n",
       " 232: 'saw',\n",
       " 278: 'today',\n",
       " 275: 'thought',\n",
       " 115: 'good',\n",
       " 144: 'kids',\n",
       " 27: 'bit',\n",
       " 213: 'predictable',\n",
       " 165: 'loved',\n",
       " 38: 'casting',\n",
       " 8: 'adorable',\n",
       " 163: 'lot',\n",
       " 160: 'look',\n",
       " 251: 'songs',\n",
       " 122: 'hilarious',\n",
       " 55: 'cool',\n",
       " 228: 'right',\n",
       " 92: 'face',\n",
       " 167: 'low',\n",
       " 33: 'budget',\n",
       " 159: 'long',\n",
       " 53: 'consider',\n",
       " 266: 'tale',\n",
       " 247: 'single',\n",
       " 101: 'film',\n",
       " 158: 'll',\n",
       " 46: 'cinematography',\n",
       " 218: 'production',\n",
       " 78: 'editing',\n",
       " 70: 'directing',\n",
       " 170: 'making',\n",
       " 200: 'perfect',\n",
       " 283: 'true',\n",
       " 123: 'history',\n",
       " 45: 'cinema',\n",
       " 274: 'think',\n",
       " 151: 'level',\n",
       " 102: 'films',\n",
       " 180: 'mind',\n",
       " 219: 'quite',\n",
       " 246: 'simply',\n",
       " 74: 'does',\n",
       " 20: 'beautiful',\n",
       " 244: 'short',\n",
       " 39: 'certainly',\n",
       " 97: 'far',\n",
       " 242: 'series',\n",
       " 260: 'strong',\n",
       " 164: 'love',\n",
       " 143: 'just',\n",
       " 299: 'waste',\n",
       " 182: 'money',\n",
       " 145: 'kind',\n",
       " 7: 'actually',\n",
       " 276: 'time',\n",
       " 58: 'crap',\n",
       " 233: 'say',\n",
       " 105: 'fun',\n",
       " 206: 'play',\n",
       " 83: 'enjoy',\n",
       " 104: 'flick',\n",
       " 131: 'idea',\n",
       " 148: 'lame',\n",
       " 40: 'character',\n",
       " 175: 'mediocre',\n",
       " 168: 'make',\n",
       " 95: 'family',\n",
       " 298: 'wasn',\n",
       " 67: 'did',\n",
       " 16: 'away',\n",
       " 86: 'entire',\n",
       " 210: 'point',\n",
       " 106: 'funny',\n",
       " 76: 'don',\n",
       " 25: 'better',\n",
       " 199: 'people',\n",
       " 153: 'like',\n",
       " 258: 'story',\n",
       " 221: 'real',\n",
       " 79: 'effects',\n",
       " 309: 'work',\n",
       " 235: 'scenes',\n",
       " 313: 'worst',\n",
       " 236: 'screen',\n",
       " 295: 've',\n",
       " 240: 'seen',\n",
       " 68: 'didn',\n",
       " 120: 'having',\n",
       " 166: 'lovely',\n",
       " 316: 'written',\n",
       " 111: 'girl',\n",
       " 152: 'life',\n",
       " 223: 'recommend',\n",
       " 150: 'let',\n",
       " 88: 'excellent',\n",
       " 37: 'cast',\n",
       " 155: 'line',\n",
       " 202: 'performances',\n",
       " 281: 'totally',\n",
       " 22: 'believable',\n",
       " 294: 'utterly',\n",
       " 54: 'convincing',\n",
       " 212: 'portrayal',\n",
       " 286: 'tv',\n",
       " 0: '10',\n",
       " 279: 'tom',\n",
       " 5: 'actor',\n",
       " 84: 'enjoyed',\n",
       " 29: 'book',\n",
       " 11: 'annoying',\n",
       " 112: 'gives',\n",
       " 99: 'feeling',\n",
       " 2: 'absolutely',\n",
       " 6: 'actors',\n",
       " 66: 'dialogue',\n",
       " 75: 'doesn',\n",
       " 222: 'really',\n",
       " 82: 'energy',\n",
       " 109: 'generally',\n",
       " 117: 'great',\n",
       " 273: 'things',\n",
       " 314: 'worth',\n",
       " 265: 'suspense',\n",
       " 87: 'especially',\n",
       " 154: 'liked',\n",
       " 184: 'movies',\n",
       " 315: 'writing',\n",
       " 297: 'want',\n",
       " 10: 'amazing',\n",
       " 204: 'piece',\n",
       " 26: 'big',\n",
       " 318: 'years',\n",
       " 308: 'word',\n",
       " 195: 'overall',\n",
       " 137: 'interesting',\n",
       " 108: 'gave',\n",
       " 47: 'classic',\n",
       " 215: 'pretty',\n",
       " 127: 'horror',\n",
       " 64: 'definitely',\n",
       " 237: 'script',\n",
       " 270: 'terrific',\n",
       " 191: 'occasionally',\n",
       " 114: 'going',\n",
       " 304: 'way',\n",
       " 81: 'ending',\n",
       " 301: 'watch',\n",
       " 18: 'bad',\n",
       " 272: 'thing',\n",
       " 303: 'watching',\n",
       " 128: 'hour',\n",
       " 173: 'maybe',\n",
       " 207: 'played',\n",
       " 142: 'joy',\n",
       " 31: 'boring',\n",
       " 192: 'oh',\n",
       " 261: 'stupid',\n",
       " 72: 'director',\n",
       " 80: 'end',\n",
       " 189: 'night',\n",
       " 188: 'nice',\n",
       " 32: 'brilliant',\n",
       " 208: 'playing',\n",
       " 225: 'rent',\n",
       " 311: 'world',\n",
       " 93: 'fact',\n",
       " 43: 'chemistry',\n",
       " 56: 'couldn',\n",
       " 288: 'understand',\n",
       " 23: 'believe',\n",
       " 302: 'watched',\n",
       " 17: 'awful',\n",
       " 90: 'experience',\n",
       " 289: 'unfortunately',\n",
       " 71: 'direction',\n",
       " 65: 'depth',\n",
       " 132: 'imagination',\n",
       " 19: 'barely',\n",
       " 60: 'cult',\n",
       " 277: 'times',\n",
       " 284: 'truly',\n",
       " 269: 'terrible',\n",
       " 312: 'worse',\n",
       " 126: 'horrible',\n",
       " 181: 'minutes',\n",
       " 259: 'storyline',\n",
       " 146: 'know',\n",
       " 13: 'attempt',\n",
       " 241: 'self',\n",
       " 174: 'mean',\n",
       " 149: 'lead',\n",
       " 280: 'torture',\n",
       " 121: 'highly',\n",
       " 214: 'premise',\n",
       " 252: 'sound',\n",
       " 201: 'performance',\n",
       " 290: 'ups',\n",
       " 9: 'age',\n",
       " 141: 'john',\n",
       " 133: 'incredible',\n",
       " 140: 'job',\n",
       " 216: 'probably',\n",
       " 116: 'got',\n",
       " 187: 'new',\n",
       " 293: 'usual',\n",
       " 52: 'completely',\n",
       " 124: 'holes',\n",
       " 198: 'pathetic',\n",
       " 267: 'talk',\n",
       " 268: 'tell',\n",
       " 4: 'action',\n",
       " 172: 'master',\n",
       " 36: 'care',\n",
       " 94: 'fails',\n",
       " 296: 'visual',\n",
       " 77: 'drama',\n",
       " 292: 'used',\n",
       " 253: 'soundtrack',\n",
       " 42: 'cheap',\n",
       " 282: 'trash',\n",
       " 34: 'came',\n",
       " 231: 'said',\n",
       " 96: 'fans',\n",
       " 250: 'solid',\n",
       " 100: 'felt',\n",
       " 125: 'hope',\n",
       " 91: 'eyes',\n",
       " 44: 'child',\n",
       " 62: 'day',\n",
       " 256: 'started',\n",
       " 271: 'theater',\n",
       " 220: 'rating',\n",
       " 291: 'use',\n",
       " 245: 'shot',\n",
       " 263: 'subtle',\n",
       " 177: 'mention',\n",
       " 129: 'huge',\n",
       " 193: 'old',\n",
       " 307: 'wonderful',\n",
       " 317: 'year',\n",
       " 135: 'intelligence',\n",
       " 136: 'intelligent',\n",
       " 130: 'human',\n",
       " 85: 'entertaining',\n",
       " 176: 'memorable',\n",
       " 239: 'seeing',\n",
       " 30: 'bored',\n",
       " 254: 'special',\n",
       " 69: 'different',\n",
       " 230: 'roles',\n",
       " 110: 'gets',\n",
       " 1: '90',\n",
       " 161: 'looked',\n",
       " 113: 'god',\n",
       " 197: 'parts',\n",
       " 243: 'sets',\n",
       " 257: 'stories',\n",
       " 169: 'makes',\n",
       " 238: 'second',\n",
       " 57: 'cover',\n",
       " 59: 'created',\n",
       " 107: 'garbage',\n",
       " 229: 'role',\n",
       " 51: 'comes',\n",
       " 138: 'involved',\n",
       " 205: 'place',\n",
       " 262: 'style',\n",
       " 255: 'star',\n",
       " 217: 'problems',\n",
       " 203: 'period',\n",
       " 306: 'won',\n",
       " 196: 'particularly',\n",
       " 134: 'insult',\n",
       " 63: 'death',\n",
       " 49: 'come',\n",
       " 50: 'comedy',\n",
       " 264: 'superb',\n",
       " 103: 'fine',\n",
       " 178: 'mess',\n",
       " 89: 'expect',\n",
       " 179: 'mickey',\n",
       " 194: 'original',\n",
       " 139: 'james',\n",
       " 224: 'recommended',\n",
       " 287: 'unbelievable',\n",
       " 15: 'avoid',\n",
       " 249: 'small',\n",
       " 61: 'dance',\n",
       " 21: 'beginning',\n",
       " 98: 'fast'}"
      ]
     },
     "execution_count": 58,
     "metadata": {},
     "output_type": "execute_result"
    }
   ],
   "source": [
    "# método inverter os tokens\n",
    "transform_text.idx2token"
   ]
  },
  {
   "cell_type": "markdown",
   "id": "5657a990",
   "metadata": {},
   "source": [
    "###  Converter os dados para o formato Torch"
   ]
  },
  {
   "cell_type": "code",
   "execution_count": 59,
   "id": "e1e9771b",
   "metadata": {},
   "outputs": [
    {
     "data": {
      "text/plain": [
       "<torch.utils.data.dataloader.DataLoader at 0x1a74b044370>"
      ]
     },
     "execution_count": 59,
     "metadata": {},
     "output_type": "execute_result"
    }
   ],
   "source": [
    "train_loader = DataLoader(transform_text, batch_size = 4096)\n",
    "train_loader"
   ]
  },
  {
   "cell_type": "markdown",
   "id": "d6546033",
   "metadata": {},
   "source": [
    "### Construção do modelo"
   ]
  },
  {
   "cell_type": "code",
   "execution_count": 60,
   "id": "26e8892d",
   "metadata": {},
   "outputs": [],
   "source": [
    "# rede Neural\n",
    "class BagOfWordsClassifier(nn.Module):\n",
    "    def __init__(self, vocab_size, hidden1, hidden2):\n",
    "        super(BagOfWordsClassifier, self).__init__()\n",
    "        self.fc1 = nn.Linear(in_features=vocab_size, out_features=hidden1)\n",
    "        self.fc2 = nn.Linear(in_features=hidden1, out_features=hidden2)\n",
    "        self.fc3 = nn.Linear(in_features=hidden2, out_features=1) # ultima camada com 1 saida por ser binário.\n",
    "    \n",
    "    def forward(self, inputs):\n",
    "        x = F.relu(self.fc1(inputs.squeeze(1).float()))\n",
    "        x = F.relu(self.fc2(x))\n",
    "        return(self.fc3(x))"
   ]
  },
  {
   "cell_type": "code",
   "execution_count": 61,
   "id": "2b888c94",
   "metadata": {},
   "outputs": [
    {
     "data": {
      "text/plain": [
       "BagOfWordsClassifier(\n",
       "  (fc1): Linear(in_features=320, out_features=128, bias=True)\n",
       "  (fc2): Linear(in_features=128, out_features=64, bias=True)\n",
       "  (fc3): Linear(in_features=64, out_features=1, bias=True)\n",
       ")"
      ]
     },
     "execution_count": 61,
     "metadata": {},
     "output_type": "execute_result"
    }
   ],
   "source": [
    "# modelo\n",
    "model = BagOfWordsClassifier(vocab_size=len(transform_text.token2idx), hidden1= 128, hidden2=64)\n",
    "model"
   ]
  },
  {
   "cell_type": "code",
   "execution_count": 62,
   "id": "6a2edb98",
   "metadata": {},
   "outputs": [],
   "source": [
    "# Loss Function\n",
    "criterion = nn.BCEWithLogitsLoss() # Binary Cross Entropy -> por ser tratar de classificação binária"
   ]
  },
  {
   "cell_type": "code",
   "execution_count": 63,
   "id": "d5c11dac",
   "metadata": {},
   "outputs": [],
   "source": [
    "# optmizer\n",
    "optimizer = optim.Adam([p for p in model.parameters() if p.requires_grad], lr= 0.001)"
   ]
  },
  {
   "cell_type": "markdown",
   "id": "ea1b883e",
   "metadata": {},
   "source": [
    "### Model Training"
   ]
  },
  {
   "cell_type": "code",
   "execution_count": 65,
   "id": "1a160785",
   "metadata": {},
   "outputs": [
    {
     "data": {
      "application/vnd.jupyter.widget-view+json": {
       "model_id": "",
       "version_major": 2,
       "version_minor": 0
      },
      "text/plain": [
       "  0%|          | 0/1 [00:00<?, ?it/s]"
      ]
     },
     "metadata": {},
     "output_type": "display_data"
    },
    {
     "name": "stdout",
     "output_type": "stream",
     "text": [
      "0.6269261240959167\n"
     ]
    },
    {
     "data": {
      "application/vnd.jupyter.widget-view+json": {
       "model_id": "",
       "version_major": 2,
       "version_minor": 0
      },
      "text/plain": [
       "  0%|          | 0/1 [00:00<?, ?it/s]"
      ]
     },
     "metadata": {},
     "output_type": "display_data"
    },
    {
     "name": "stdout",
     "output_type": "stream",
     "text": [
      "0.619718611240387\n"
     ]
    },
    {
     "data": {
      "application/vnd.jupyter.widget-view+json": {
       "model_id": "",
       "version_major": 2,
       "version_minor": 0
      },
      "text/plain": [
       "  0%|          | 0/1 [00:00<?, ?it/s]"
      ]
     },
     "metadata": {},
     "output_type": "display_data"
    },
    {
     "name": "stdout",
     "output_type": "stream",
     "text": [
      "0.6119898557662964\n"
     ]
    },
    {
     "data": {
      "application/vnd.jupyter.widget-view+json": {
       "model_id": "",
       "version_major": 2,
       "version_minor": 0
      },
      "text/plain": [
       "  0%|          | 0/1 [00:00<?, ?it/s]"
      ]
     },
     "metadata": {},
     "output_type": "display_data"
    },
    {
     "name": "stdout",
     "output_type": "stream",
     "text": [
      "0.6037408113479614\n"
     ]
    },
    {
     "data": {
      "application/vnd.jupyter.widget-view+json": {
       "model_id": "",
       "version_major": 2,
       "version_minor": 0
      },
      "text/plain": [
       "  0%|          | 0/1 [00:00<?, ?it/s]"
      ]
     },
     "metadata": {},
     "output_type": "display_data"
    },
    {
     "name": "stdout",
     "output_type": "stream",
     "text": [
      "0.5949747562408447\n"
     ]
    },
    {
     "data": {
      "application/vnd.jupyter.widget-view+json": {
       "model_id": "",
       "version_major": 2,
       "version_minor": 0
      },
      "text/plain": [
       "  0%|          | 0/1 [00:00<?, ?it/s]"
      ]
     },
     "metadata": {},
     "output_type": "display_data"
    },
    {
     "name": "stdout",
     "output_type": "stream",
     "text": [
      "0.585700511932373\n"
     ]
    },
    {
     "data": {
      "application/vnd.jupyter.widget-view+json": {
       "model_id": "",
       "version_major": 2,
       "version_minor": 0
      },
      "text/plain": [
       "  0%|          | 0/1 [00:00<?, ?it/s]"
      ]
     },
     "metadata": {},
     "output_type": "display_data"
    },
    {
     "name": "stdout",
     "output_type": "stream",
     "text": [
      "0.5759017467498779\n"
     ]
    },
    {
     "data": {
      "application/vnd.jupyter.widget-view+json": {
       "model_id": "",
       "version_major": 2,
       "version_minor": 0
      },
      "text/plain": [
       "  0%|          | 0/1 [00:00<?, ?it/s]"
      ]
     },
     "metadata": {},
     "output_type": "display_data"
    },
    {
     "name": "stdout",
     "output_type": "stream",
     "text": [
      "0.5655960440635681\n"
     ]
    },
    {
     "data": {
      "application/vnd.jupyter.widget-view+json": {
       "model_id": "",
       "version_major": 2,
       "version_minor": 0
      },
      "text/plain": [
       "  0%|          | 0/1 [00:00<?, ?it/s]"
      ]
     },
     "metadata": {},
     "output_type": "display_data"
    },
    {
     "name": "stdout",
     "output_type": "stream",
     "text": [
      "0.5547959208488464\n"
     ]
    },
    {
     "data": {
      "application/vnd.jupyter.widget-view+json": {
       "model_id": "",
       "version_major": 2,
       "version_minor": 0
      },
      "text/plain": [
       "  0%|          | 0/1 [00:00<?, ?it/s]"
      ]
     },
     "metadata": {},
     "output_type": "display_data"
    },
    {
     "name": "stdout",
     "output_type": "stream",
     "text": [
      "0.5435391068458557\n"
     ]
    },
    {
     "data": {
      "application/vnd.jupyter.widget-view+json": {
       "model_id": "",
       "version_major": 2,
       "version_minor": 0
      },
      "text/plain": [
       "  0%|          | 0/1 [00:00<?, ?it/s]"
      ]
     },
     "metadata": {},
     "output_type": "display_data"
    },
    {
     "name": "stdout",
     "output_type": "stream",
     "text": [
      "0.5318428874015808\n"
     ]
    },
    {
     "data": {
      "application/vnd.jupyter.widget-view+json": {
       "model_id": "",
       "version_major": 2,
       "version_minor": 0
      },
      "text/plain": [
       "  0%|          | 0/1 [00:00<?, ?it/s]"
      ]
     },
     "metadata": {},
     "output_type": "display_data"
    },
    {
     "name": "stdout",
     "output_type": "stream",
     "text": [
      "0.5197474360466003\n"
     ]
    },
    {
     "data": {
      "application/vnd.jupyter.widget-view+json": {
       "model_id": "",
       "version_major": 2,
       "version_minor": 0
      },
      "text/plain": [
       "  0%|          | 0/1 [00:00<?, ?it/s]"
      ]
     },
     "metadata": {},
     "output_type": "display_data"
    },
    {
     "name": "stdout",
     "output_type": "stream",
     "text": [
      "0.5073107481002808\n"
     ]
    },
    {
     "data": {
      "application/vnd.jupyter.widget-view+json": {
       "model_id": "",
       "version_major": 2,
       "version_minor": 0
      },
      "text/plain": [
       "  0%|          | 0/1 [00:00<?, ?it/s]"
      ]
     },
     "metadata": {},
     "output_type": "display_data"
    },
    {
     "name": "stdout",
     "output_type": "stream",
     "text": [
      "0.4945979118347168\n"
     ]
    },
    {
     "data": {
      "application/vnd.jupyter.widget-view+json": {
       "model_id": "",
       "version_major": 2,
       "version_minor": 0
      },
      "text/plain": [
       "  0%|          | 0/1 [00:00<?, ?it/s]"
      ]
     },
     "metadata": {},
     "output_type": "display_data"
    },
    {
     "name": "stdout",
     "output_type": "stream",
     "text": [
      "0.4816548824310303\n"
     ]
    },
    {
     "data": {
      "application/vnd.jupyter.widget-view+json": {
       "model_id": "",
       "version_major": 2,
       "version_minor": 0
      },
      "text/plain": [
       "  0%|          | 0/1 [00:00<?, ?it/s]"
      ]
     },
     "metadata": {},
     "output_type": "display_data"
    },
    {
     "name": "stdout",
     "output_type": "stream",
     "text": [
      "0.46854135394096375\n"
     ]
    },
    {
     "data": {
      "application/vnd.jupyter.widget-view+json": {
       "model_id": "",
       "version_major": 2,
       "version_minor": 0
      },
      "text/plain": [
       "  0%|          | 0/1 [00:00<?, ?it/s]"
      ]
     },
     "metadata": {},
     "output_type": "display_data"
    },
    {
     "name": "stdout",
     "output_type": "stream",
     "text": [
      "0.455315500497818\n"
     ]
    },
    {
     "data": {
      "application/vnd.jupyter.widget-view+json": {
       "model_id": "",
       "version_major": 2,
       "version_minor": 0
      },
      "text/plain": [
       "  0%|          | 0/1 [00:00<?, ?it/s]"
      ]
     },
     "metadata": {},
     "output_type": "display_data"
    },
    {
     "name": "stdout",
     "output_type": "stream",
     "text": [
      "0.44205641746520996\n"
     ]
    },
    {
     "data": {
      "application/vnd.jupyter.widget-view+json": {
       "model_id": "",
       "version_major": 2,
       "version_minor": 0
      },
      "text/plain": [
       "  0%|          | 0/1 [00:00<?, ?it/s]"
      ]
     },
     "metadata": {},
     "output_type": "display_data"
    },
    {
     "name": "stdout",
     "output_type": "stream",
     "text": [
      "0.42884641885757446\n"
     ]
    },
    {
     "data": {
      "application/vnd.jupyter.widget-view+json": {
       "model_id": "",
       "version_major": 2,
       "version_minor": 0
      },
      "text/plain": [
       "  0%|          | 0/1 [00:00<?, ?it/s]"
      ]
     },
     "metadata": {},
     "output_type": "display_data"
    },
    {
     "name": "stdout",
     "output_type": "stream",
     "text": [
      "0.41576090455055237\n"
     ]
    },
    {
     "data": {
      "application/vnd.jupyter.widget-view+json": {
       "model_id": "",
       "version_major": 2,
       "version_minor": 0
      },
      "text/plain": [
       "  0%|          | 0/1 [00:00<?, ?it/s]"
      ]
     },
     "metadata": {},
     "output_type": "display_data"
    },
    {
     "name": "stdout",
     "output_type": "stream",
     "text": [
      "0.40284979343414307\n"
     ]
    },
    {
     "data": {
      "application/vnd.jupyter.widget-view+json": {
       "model_id": "",
       "version_major": 2,
       "version_minor": 0
      },
      "text/plain": [
       "  0%|          | 0/1 [00:00<?, ?it/s]"
      ]
     },
     "metadata": {},
     "output_type": "display_data"
    },
    {
     "name": "stdout",
     "output_type": "stream",
     "text": [
      "0.39017507433891296\n"
     ]
    },
    {
     "data": {
      "application/vnd.jupyter.widget-view+json": {
       "model_id": "",
       "version_major": 2,
       "version_minor": 0
      },
      "text/plain": [
       "  0%|          | 0/1 [00:00<?, ?it/s]"
      ]
     },
     "metadata": {},
     "output_type": "display_data"
    },
    {
     "name": "stdout",
     "output_type": "stream",
     "text": [
      "0.37778380513191223\n"
     ]
    },
    {
     "data": {
      "application/vnd.jupyter.widget-view+json": {
       "model_id": "",
       "version_major": 2,
       "version_minor": 0
      },
      "text/plain": [
       "  0%|          | 0/1 [00:00<?, ?it/s]"
      ]
     },
     "metadata": {},
     "output_type": "display_data"
    },
    {
     "name": "stdout",
     "output_type": "stream",
     "text": [
      "0.36572298407554626\n"
     ]
    },
    {
     "data": {
      "application/vnd.jupyter.widget-view+json": {
       "model_id": "",
       "version_major": 2,
       "version_minor": 0
      },
      "text/plain": [
       "  0%|          | 0/1 [00:00<?, ?it/s]"
      ]
     },
     "metadata": {},
     "output_type": "display_data"
    },
    {
     "name": "stdout",
     "output_type": "stream",
     "text": [
      "0.35402247309684753\n"
     ]
    },
    {
     "data": {
      "application/vnd.jupyter.widget-view+json": {
       "model_id": "",
       "version_major": 2,
       "version_minor": 0
      },
      "text/plain": [
       "  0%|          | 0/1 [00:00<?, ?it/s]"
      ]
     },
     "metadata": {},
     "output_type": "display_data"
    },
    {
     "name": "stdout",
     "output_type": "stream",
     "text": [
      "0.34271982312202454\n"
     ]
    },
    {
     "data": {
      "application/vnd.jupyter.widget-view+json": {
       "model_id": "",
       "version_major": 2,
       "version_minor": 0
      },
      "text/plain": [
       "  0%|          | 0/1 [00:00<?, ?it/s]"
      ]
     },
     "metadata": {},
     "output_type": "display_data"
    },
    {
     "name": "stdout",
     "output_type": "stream",
     "text": [
      "0.33184483647346497\n"
     ]
    },
    {
     "data": {
      "application/vnd.jupyter.widget-view+json": {
       "model_id": "",
       "version_major": 2,
       "version_minor": 0
      },
      "text/plain": [
       "  0%|          | 0/1 [00:00<?, ?it/s]"
      ]
     },
     "metadata": {},
     "output_type": "display_data"
    },
    {
     "name": "stdout",
     "output_type": "stream",
     "text": [
      "0.3214165270328522\n"
     ]
    },
    {
     "data": {
      "application/vnd.jupyter.widget-view+json": {
       "model_id": "",
       "version_major": 2,
       "version_minor": 0
      },
      "text/plain": [
       "  0%|          | 0/1 [00:00<?, ?it/s]"
      ]
     },
     "metadata": {},
     "output_type": "display_data"
    },
    {
     "name": "stdout",
     "output_type": "stream",
     "text": [
      "0.3114311993122101\n"
     ]
    },
    {
     "data": {
      "application/vnd.jupyter.widget-view+json": {
       "model_id": "",
       "version_major": 2,
       "version_minor": 0
      },
      "text/plain": [
       "  0%|          | 0/1 [00:00<?, ?it/s]"
      ]
     },
     "metadata": {},
     "output_type": "display_data"
    },
    {
     "name": "stdout",
     "output_type": "stream",
     "text": [
      "0.30188867449760437\n"
     ]
    },
    {
     "data": {
      "application/vnd.jupyter.widget-view+json": {
       "model_id": "",
       "version_major": 2,
       "version_minor": 0
      },
      "text/plain": [
       "  0%|          | 0/1 [00:00<?, ?it/s]"
      ]
     },
     "metadata": {},
     "output_type": "display_data"
    },
    {
     "name": "stdout",
     "output_type": "stream",
     "text": [
      "0.29278767108917236\n"
     ]
    },
    {
     "data": {
      "application/vnd.jupyter.widget-view+json": {
       "model_id": "",
       "version_major": 2,
       "version_minor": 0
      },
      "text/plain": [
       "  0%|          | 0/1 [00:00<?, ?it/s]"
      ]
     },
     "metadata": {},
     "output_type": "display_data"
    },
    {
     "name": "stdout",
     "output_type": "stream",
     "text": [
      "0.28411731123924255\n"
     ]
    },
    {
     "data": {
      "application/vnd.jupyter.widget-view+json": {
       "model_id": "",
       "version_major": 2,
       "version_minor": 0
      },
      "text/plain": [
       "  0%|          | 0/1 [00:00<?, ?it/s]"
      ]
     },
     "metadata": {},
     "output_type": "display_data"
    },
    {
     "name": "stdout",
     "output_type": "stream",
     "text": [
      "0.2758595943450928\n"
     ]
    },
    {
     "data": {
      "application/vnd.jupyter.widget-view+json": {
       "model_id": "",
       "version_major": 2,
       "version_minor": 0
      },
      "text/plain": [
       "  0%|          | 0/1 [00:00<?, ?it/s]"
      ]
     },
     "metadata": {},
     "output_type": "display_data"
    },
    {
     "name": "stdout",
     "output_type": "stream",
     "text": [
      "0.2679966688156128\n"
     ]
    },
    {
     "data": {
      "application/vnd.jupyter.widget-view+json": {
       "model_id": "",
       "version_major": 2,
       "version_minor": 0
      },
      "text/plain": [
       "  0%|          | 0/1 [00:00<?, ?it/s]"
      ]
     },
     "metadata": {},
     "output_type": "display_data"
    },
    {
     "name": "stdout",
     "output_type": "stream",
     "text": [
      "0.26051095128059387\n"
     ]
    },
    {
     "data": {
      "application/vnd.jupyter.widget-view+json": {
       "model_id": "",
       "version_major": 2,
       "version_minor": 0
      },
      "text/plain": [
       "  0%|          | 0/1 [00:00<?, ?it/s]"
      ]
     },
     "metadata": {},
     "output_type": "display_data"
    },
    {
     "name": "stdout",
     "output_type": "stream",
     "text": [
      "0.2533874809741974\n"
     ]
    },
    {
     "data": {
      "application/vnd.jupyter.widget-view+json": {
       "model_id": "",
       "version_major": 2,
       "version_minor": 0
      },
      "text/plain": [
       "  0%|          | 0/1 [00:00<?, ?it/s]"
      ]
     },
     "metadata": {},
     "output_type": "display_data"
    },
    {
     "name": "stdout",
     "output_type": "stream",
     "text": [
      "0.24660617113113403\n"
     ]
    },
    {
     "data": {
      "application/vnd.jupyter.widget-view+json": {
       "model_id": "",
       "version_major": 2,
       "version_minor": 0
      },
      "text/plain": [
       "  0%|          | 0/1 [00:00<?, ?it/s]"
      ]
     },
     "metadata": {},
     "output_type": "display_data"
    },
    {
     "name": "stdout",
     "output_type": "stream",
     "text": [
      "0.24015793204307556\n"
     ]
    },
    {
     "data": {
      "application/vnd.jupyter.widget-view+json": {
       "model_id": "",
       "version_major": 2,
       "version_minor": 0
      },
      "text/plain": [
       "  0%|          | 0/1 [00:00<?, ?it/s]"
      ]
     },
     "metadata": {},
     "output_type": "display_data"
    },
    {
     "name": "stdout",
     "output_type": "stream",
     "text": [
      "0.23402315378189087\n"
     ]
    },
    {
     "data": {
      "application/vnd.jupyter.widget-view+json": {
       "model_id": "",
       "version_major": 2,
       "version_minor": 0
      },
      "text/plain": [
       "  0%|          | 0/1 [00:00<?, ?it/s]"
      ]
     },
     "metadata": {},
     "output_type": "display_data"
    },
    {
     "name": "stdout",
     "output_type": "stream",
     "text": [
      "0.22817307710647583\n"
     ]
    },
    {
     "data": {
      "application/vnd.jupyter.widget-view+json": {
       "model_id": "",
       "version_major": 2,
       "version_minor": 0
      },
      "text/plain": [
       "  0%|          | 0/1 [00:00<?, ?it/s]"
      ]
     },
     "metadata": {},
     "output_type": "display_data"
    },
    {
     "name": "stdout",
     "output_type": "stream",
     "text": [
      "0.22260141372680664\n"
     ]
    },
    {
     "data": {
      "application/vnd.jupyter.widget-view+json": {
       "model_id": "",
       "version_major": 2,
       "version_minor": 0
      },
      "text/plain": [
       "  0%|          | 0/1 [00:00<?, ?it/s]"
      ]
     },
     "metadata": {},
     "output_type": "display_data"
    },
    {
     "name": "stdout",
     "output_type": "stream",
     "text": [
      "0.21728216111660004\n"
     ]
    },
    {
     "data": {
      "application/vnd.jupyter.widget-view+json": {
       "model_id": "",
       "version_major": 2,
       "version_minor": 0
      },
      "text/plain": [
       "  0%|          | 0/1 [00:00<?, ?it/s]"
      ]
     },
     "metadata": {},
     "output_type": "display_data"
    },
    {
     "name": "stdout",
     "output_type": "stream",
     "text": [
      "0.21221083402633667\n"
     ]
    },
    {
     "data": {
      "application/vnd.jupyter.widget-view+json": {
       "model_id": "",
       "version_major": 2,
       "version_minor": 0
      },
      "text/plain": [
       "  0%|          | 0/1 [00:00<?, ?it/s]"
      ]
     },
     "metadata": {},
     "output_type": "display_data"
    },
    {
     "name": "stdout",
     "output_type": "stream",
     "text": [
      "0.20736731588840485\n"
     ]
    },
    {
     "data": {
      "application/vnd.jupyter.widget-view+json": {
       "model_id": "",
       "version_major": 2,
       "version_minor": 0
      },
      "text/plain": [
       "  0%|          | 0/1 [00:00<?, ?it/s]"
      ]
     },
     "metadata": {},
     "output_type": "display_data"
    },
    {
     "name": "stdout",
     "output_type": "stream",
     "text": [
      "0.20273292064666748\n"
     ]
    },
    {
     "data": {
      "application/vnd.jupyter.widget-view+json": {
       "model_id": "",
       "version_major": 2,
       "version_minor": 0
      },
      "text/plain": [
       "  0%|          | 0/1 [00:00<?, ?it/s]"
      ]
     },
     "metadata": {},
     "output_type": "display_data"
    },
    {
     "name": "stdout",
     "output_type": "stream",
     "text": [
      "0.19830010831356049\n"
     ]
    },
    {
     "data": {
      "application/vnd.jupyter.widget-view+json": {
       "model_id": "",
       "version_major": 2,
       "version_minor": 0
      },
      "text/plain": [
       "  0%|          | 0/1 [00:00<?, ?it/s]"
      ]
     },
     "metadata": {},
     "output_type": "display_data"
    },
    {
     "name": "stdout",
     "output_type": "stream",
     "text": [
      "0.19405357539653778\n"
     ]
    },
    {
     "data": {
      "application/vnd.jupyter.widget-view+json": {
       "model_id": "",
       "version_major": 2,
       "version_minor": 0
      },
      "text/plain": [
       "  0%|          | 0/1 [00:00<?, ?it/s]"
      ]
     },
     "metadata": {},
     "output_type": "display_data"
    },
    {
     "name": "stdout",
     "output_type": "stream",
     "text": [
      "0.18997658789157867\n"
     ]
    },
    {
     "data": {
      "application/vnd.jupyter.widget-view+json": {
       "model_id": "",
       "version_major": 2,
       "version_minor": 0
      },
      "text/plain": [
       "  0%|          | 0/1 [00:00<?, ?it/s]"
      ]
     },
     "metadata": {},
     "output_type": "display_data"
    },
    {
     "name": "stdout",
     "output_type": "stream",
     "text": [
      "0.18606872856616974\n"
     ]
    },
    {
     "data": {
      "application/vnd.jupyter.widget-view+json": {
       "model_id": "",
       "version_major": 2,
       "version_minor": 0
      },
      "text/plain": [
       "  0%|          | 0/1 [00:00<?, ?it/s]"
      ]
     },
     "metadata": {},
     "output_type": "display_data"
    },
    {
     "name": "stdout",
     "output_type": "stream",
     "text": [
      "0.18231748044490814\n"
     ]
    },
    {
     "data": {
      "application/vnd.jupyter.widget-view+json": {
       "model_id": "",
       "version_major": 2,
       "version_minor": 0
      },
      "text/plain": [
       "  0%|          | 0/1 [00:00<?, ?it/s]"
      ]
     },
     "metadata": {},
     "output_type": "display_data"
    },
    {
     "name": "stdout",
     "output_type": "stream",
     "text": [
      "0.17872007191181183\n"
     ]
    },
    {
     "data": {
      "application/vnd.jupyter.widget-view+json": {
       "model_id": "",
       "version_major": 2,
       "version_minor": 0
      },
      "text/plain": [
       "  0%|          | 0/1 [00:00<?, ?it/s]"
      ]
     },
     "metadata": {},
     "output_type": "display_data"
    },
    {
     "name": "stdout",
     "output_type": "stream",
     "text": [
      "0.17526023089885712\n"
     ]
    },
    {
     "data": {
      "application/vnd.jupyter.widget-view+json": {
       "model_id": "",
       "version_major": 2,
       "version_minor": 0
      },
      "text/plain": [
       "  0%|          | 0/1 [00:00<?, ?it/s]"
      ]
     },
     "metadata": {},
     "output_type": "display_data"
    },
    {
     "name": "stdout",
     "output_type": "stream",
     "text": [
      "0.17192786931991577\n"
     ]
    },
    {
     "data": {
      "application/vnd.jupyter.widget-view+json": {
       "model_id": "",
       "version_major": 2,
       "version_minor": 0
      },
      "text/plain": [
       "  0%|          | 0/1 [00:00<?, ?it/s]"
      ]
     },
     "metadata": {},
     "output_type": "display_data"
    },
    {
     "name": "stdout",
     "output_type": "stream",
     "text": [
      "0.16871291399002075\n"
     ]
    },
    {
     "data": {
      "application/vnd.jupyter.widget-view+json": {
       "model_id": "",
       "version_major": 2,
       "version_minor": 0
      },
      "text/plain": [
       "  0%|          | 0/1 [00:00<?, ?it/s]"
      ]
     },
     "metadata": {},
     "output_type": "display_data"
    },
    {
     "name": "stdout",
     "output_type": "stream",
     "text": [
      "0.16561084985733032\n"
     ]
    },
    {
     "data": {
      "application/vnd.jupyter.widget-view+json": {
       "model_id": "",
       "version_major": 2,
       "version_minor": 0
      },
      "text/plain": [
       "  0%|          | 0/1 [00:00<?, ?it/s]"
      ]
     },
     "metadata": {},
     "output_type": "display_data"
    },
    {
     "name": "stdout",
     "output_type": "stream",
     "text": [
      "0.1626191884279251\n"
     ]
    },
    {
     "data": {
      "application/vnd.jupyter.widget-view+json": {
       "model_id": "",
       "version_major": 2,
       "version_minor": 0
      },
      "text/plain": [
       "  0%|          | 0/1 [00:00<?, ?it/s]"
      ]
     },
     "metadata": {},
     "output_type": "display_data"
    },
    {
     "name": "stdout",
     "output_type": "stream",
     "text": [
      "0.1597364842891693\n"
     ]
    },
    {
     "data": {
      "application/vnd.jupyter.widget-view+json": {
       "model_id": "",
       "version_major": 2,
       "version_minor": 0
      },
      "text/plain": [
       "  0%|          | 0/1 [00:00<?, ?it/s]"
      ]
     },
     "metadata": {},
     "output_type": "display_data"
    },
    {
     "name": "stdout",
     "output_type": "stream",
     "text": [
      "0.15695318579673767\n"
     ]
    },
    {
     "data": {
      "application/vnd.jupyter.widget-view+json": {
       "model_id": "",
       "version_major": 2,
       "version_minor": 0
      },
      "text/plain": [
       "  0%|          | 0/1 [00:00<?, ?it/s]"
      ]
     },
     "metadata": {},
     "output_type": "display_data"
    },
    {
     "name": "stdout",
     "output_type": "stream",
     "text": [
      "0.1542656570672989\n"
     ]
    },
    {
     "data": {
      "application/vnd.jupyter.widget-view+json": {
       "model_id": "",
       "version_major": 2,
       "version_minor": 0
      },
      "text/plain": [
       "  0%|          | 0/1 [00:00<?, ?it/s]"
      ]
     },
     "metadata": {},
     "output_type": "display_data"
    },
    {
     "name": "stdout",
     "output_type": "stream",
     "text": [
      "0.15166506171226501\n"
     ]
    },
    {
     "data": {
      "application/vnd.jupyter.widget-view+json": {
       "model_id": "",
       "version_major": 2,
       "version_minor": 0
      },
      "text/plain": [
       "  0%|          | 0/1 [00:00<?, ?it/s]"
      ]
     },
     "metadata": {},
     "output_type": "display_data"
    },
    {
     "name": "stdout",
     "output_type": "stream",
     "text": [
      "0.14913754165172577\n"
     ]
    },
    {
     "data": {
      "application/vnd.jupyter.widget-view+json": {
       "model_id": "",
       "version_major": 2,
       "version_minor": 0
      },
      "text/plain": [
       "  0%|          | 0/1 [00:00<?, ?it/s]"
      ]
     },
     "metadata": {},
     "output_type": "display_data"
    },
    {
     "name": "stdout",
     "output_type": "stream",
     "text": [
      "0.14667370915412903\n"
     ]
    },
    {
     "data": {
      "application/vnd.jupyter.widget-view+json": {
       "model_id": "",
       "version_major": 2,
       "version_minor": 0
      },
      "text/plain": [
       "  0%|          | 0/1 [00:00<?, ?it/s]"
      ]
     },
     "metadata": {},
     "output_type": "display_data"
    },
    {
     "name": "stdout",
     "output_type": "stream",
     "text": [
      "0.1442846953868866\n"
     ]
    },
    {
     "data": {
      "application/vnd.jupyter.widget-view+json": {
       "model_id": "",
       "version_major": 2,
       "version_minor": 0
      },
      "text/plain": [
       "  0%|          | 0/1 [00:00<?, ?it/s]"
      ]
     },
     "metadata": {},
     "output_type": "display_data"
    },
    {
     "name": "stdout",
     "output_type": "stream",
     "text": [
      "0.1419627070426941\n"
     ]
    },
    {
     "data": {
      "application/vnd.jupyter.widget-view+json": {
       "model_id": "",
       "version_major": 2,
       "version_minor": 0
      },
      "text/plain": [
       "  0%|          | 0/1 [00:00<?, ?it/s]"
      ]
     },
     "metadata": {},
     "output_type": "display_data"
    },
    {
     "name": "stdout",
     "output_type": "stream",
     "text": [
      "0.1397019922733307\n"
     ]
    },
    {
     "data": {
      "application/vnd.jupyter.widget-view+json": {
       "model_id": "",
       "version_major": 2,
       "version_minor": 0
      },
      "text/plain": [
       "  0%|          | 0/1 [00:00<?, ?it/s]"
      ]
     },
     "metadata": {},
     "output_type": "display_data"
    },
    {
     "name": "stdout",
     "output_type": "stream",
     "text": [
      "0.1375015676021576\n"
     ]
    },
    {
     "data": {
      "application/vnd.jupyter.widget-view+json": {
       "model_id": "",
       "version_major": 2,
       "version_minor": 0
      },
      "text/plain": [
       "  0%|          | 0/1 [00:00<?, ?it/s]"
      ]
     },
     "metadata": {},
     "output_type": "display_data"
    },
    {
     "name": "stdout",
     "output_type": "stream",
     "text": [
      "0.13537144660949707\n"
     ]
    },
    {
     "data": {
      "application/vnd.jupyter.widget-view+json": {
       "model_id": "",
       "version_major": 2,
       "version_minor": 0
      },
      "text/plain": [
       "  0%|          | 0/1 [00:00<?, ?it/s]"
      ]
     },
     "metadata": {},
     "output_type": "display_data"
    },
    {
     "name": "stdout",
     "output_type": "stream",
     "text": [
      "0.13329407572746277\n"
     ]
    },
    {
     "data": {
      "application/vnd.jupyter.widget-view+json": {
       "model_id": "",
       "version_major": 2,
       "version_minor": 0
      },
      "text/plain": [
       "  0%|          | 0/1 [00:00<?, ?it/s]"
      ]
     },
     "metadata": {},
     "output_type": "display_data"
    },
    {
     "name": "stdout",
     "output_type": "stream",
     "text": [
      "0.1312674731016159\n"
     ]
    },
    {
     "data": {
      "application/vnd.jupyter.widget-view+json": {
       "model_id": "",
       "version_major": 2,
       "version_minor": 0
      },
      "text/plain": [
       "  0%|          | 0/1 [00:00<?, ?it/s]"
      ]
     },
     "metadata": {},
     "output_type": "display_data"
    },
    {
     "name": "stdout",
     "output_type": "stream",
     "text": [
      "0.12929904460906982\n"
     ]
    },
    {
     "data": {
      "application/vnd.jupyter.widget-view+json": {
       "model_id": "",
       "version_major": 2,
       "version_minor": 0
      },
      "text/plain": [
       "  0%|          | 0/1 [00:00<?, ?it/s]"
      ]
     },
     "metadata": {},
     "output_type": "display_data"
    },
    {
     "name": "stdout",
     "output_type": "stream",
     "text": [
      "0.12739036977291107\n"
     ]
    },
    {
     "data": {
      "application/vnd.jupyter.widget-view+json": {
       "model_id": "",
       "version_major": 2,
       "version_minor": 0
      },
      "text/plain": [
       "  0%|          | 0/1 [00:00<?, ?it/s]"
      ]
     },
     "metadata": {},
     "output_type": "display_data"
    },
    {
     "name": "stdout",
     "output_type": "stream",
     "text": [
      "0.12553554773330688\n"
     ]
    },
    {
     "data": {
      "application/vnd.jupyter.widget-view+json": {
       "model_id": "",
       "version_major": 2,
       "version_minor": 0
      },
      "text/plain": [
       "  0%|          | 0/1 [00:00<?, ?it/s]"
      ]
     },
     "metadata": {},
     "output_type": "display_data"
    },
    {
     "name": "stdout",
     "output_type": "stream",
     "text": [
      "0.12373246997594833\n"
     ]
    },
    {
     "data": {
      "application/vnd.jupyter.widget-view+json": {
       "model_id": "",
       "version_major": 2,
       "version_minor": 0
      },
      "text/plain": [
       "  0%|          | 0/1 [00:00<?, ?it/s]"
      ]
     },
     "metadata": {},
     "output_type": "display_data"
    },
    {
     "name": "stdout",
     "output_type": "stream",
     "text": [
      "0.12197740375995636\n"
     ]
    },
    {
     "data": {
      "application/vnd.jupyter.widget-view+json": {
       "model_id": "",
       "version_major": 2,
       "version_minor": 0
      },
      "text/plain": [
       "  0%|          | 0/1 [00:00<?, ?it/s]"
      ]
     },
     "metadata": {},
     "output_type": "display_data"
    },
    {
     "name": "stdout",
     "output_type": "stream",
     "text": [
      "0.12027230858802795\n"
     ]
    },
    {
     "data": {
      "application/vnd.jupyter.widget-view+json": {
       "model_id": "",
       "version_major": 2,
       "version_minor": 0
      },
      "text/plain": [
       "  0%|          | 0/1 [00:00<?, ?it/s]"
      ]
     },
     "metadata": {},
     "output_type": "display_data"
    },
    {
     "name": "stdout",
     "output_type": "stream",
     "text": [
      "0.11861947923898697\n"
     ]
    },
    {
     "data": {
      "application/vnd.jupyter.widget-view+json": {
       "model_id": "",
       "version_major": 2,
       "version_minor": 0
      },
      "text/plain": [
       "  0%|          | 0/1 [00:00<?, ?it/s]"
      ]
     },
     "metadata": {},
     "output_type": "display_data"
    },
    {
     "name": "stdout",
     "output_type": "stream",
     "text": [
      "0.11701628565788269\n"
     ]
    },
    {
     "data": {
      "application/vnd.jupyter.widget-view+json": {
       "model_id": "",
       "version_major": 2,
       "version_minor": 0
      },
      "text/plain": [
       "  0%|          | 0/1 [00:00<?, ?it/s]"
      ]
     },
     "metadata": {},
     "output_type": "display_data"
    },
    {
     "name": "stdout",
     "output_type": "stream",
     "text": [
      "0.1154661551117897\n"
     ]
    },
    {
     "data": {
      "application/vnd.jupyter.widget-view+json": {
       "model_id": "",
       "version_major": 2,
       "version_minor": 0
      },
      "text/plain": [
       "  0%|          | 0/1 [00:00<?, ?it/s]"
      ]
     },
     "metadata": {},
     "output_type": "display_data"
    },
    {
     "name": "stdout",
     "output_type": "stream",
     "text": [
      "0.11396367102861404\n"
     ]
    },
    {
     "data": {
      "application/vnd.jupyter.widget-view+json": {
       "model_id": "",
       "version_major": 2,
       "version_minor": 0
      },
      "text/plain": [
       "  0%|          | 0/1 [00:00<?, ?it/s]"
      ]
     },
     "metadata": {},
     "output_type": "display_data"
    },
    {
     "name": "stdout",
     "output_type": "stream",
     "text": [
      "0.11250476539134979\n"
     ]
    },
    {
     "data": {
      "application/vnd.jupyter.widget-view+json": {
       "model_id": "",
       "version_major": 2,
       "version_minor": 0
      },
      "text/plain": [
       "  0%|          | 0/1 [00:00<?, ?it/s]"
      ]
     },
     "metadata": {},
     "output_type": "display_data"
    },
    {
     "name": "stdout",
     "output_type": "stream",
     "text": [
      "0.11108580231666565\n"
     ]
    },
    {
     "data": {
      "application/vnd.jupyter.widget-view+json": {
       "model_id": "",
       "version_major": 2,
       "version_minor": 0
      },
      "text/plain": [
       "  0%|          | 0/1 [00:00<?, ?it/s]"
      ]
     },
     "metadata": {},
     "output_type": "display_data"
    },
    {
     "name": "stdout",
     "output_type": "stream",
     "text": [
      "0.10970988869667053\n"
     ]
    },
    {
     "data": {
      "application/vnd.jupyter.widget-view+json": {
       "model_id": "",
       "version_major": 2,
       "version_minor": 0
      },
      "text/plain": [
       "  0%|          | 0/1 [00:00<?, ?it/s]"
      ]
     },
     "metadata": {},
     "output_type": "display_data"
    },
    {
     "name": "stdout",
     "output_type": "stream",
     "text": [
      "0.10837607830762863\n"
     ]
    },
    {
     "data": {
      "application/vnd.jupyter.widget-view+json": {
       "model_id": "",
       "version_major": 2,
       "version_minor": 0
      },
      "text/plain": [
       "  0%|          | 0/1 [00:00<?, ?it/s]"
      ]
     },
     "metadata": {},
     "output_type": "display_data"
    },
    {
     "name": "stdout",
     "output_type": "stream",
     "text": [
      "0.10708310455083847\n"
     ]
    },
    {
     "data": {
      "application/vnd.jupyter.widget-view+json": {
       "model_id": "",
       "version_major": 2,
       "version_minor": 0
      },
      "text/plain": [
       "  0%|          | 0/1 [00:00<?, ?it/s]"
      ]
     },
     "metadata": {},
     "output_type": "display_data"
    },
    {
     "name": "stdout",
     "output_type": "stream",
     "text": [
      "0.10583028197288513\n"
     ]
    },
    {
     "data": {
      "application/vnd.jupyter.widget-view+json": {
       "model_id": "",
       "version_major": 2,
       "version_minor": 0
      },
      "text/plain": [
       "  0%|          | 0/1 [00:00<?, ?it/s]"
      ]
     },
     "metadata": {},
     "output_type": "display_data"
    },
    {
     "name": "stdout",
     "output_type": "stream",
     "text": [
      "0.10462077707052231\n"
     ]
    },
    {
     "data": {
      "application/vnd.jupyter.widget-view+json": {
       "model_id": "",
       "version_major": 2,
       "version_minor": 0
      },
      "text/plain": [
       "  0%|          | 0/1 [00:00<?, ?it/s]"
      ]
     },
     "metadata": {},
     "output_type": "display_data"
    },
    {
     "name": "stdout",
     "output_type": "stream",
     "text": [
      "0.10345003753900528\n"
     ]
    },
    {
     "data": {
      "application/vnd.jupyter.widget-view+json": {
       "model_id": "",
       "version_major": 2,
       "version_minor": 0
      },
      "text/plain": [
       "  0%|          | 0/1 [00:00<?, ?it/s]"
      ]
     },
     "metadata": {},
     "output_type": "display_data"
    },
    {
     "name": "stdout",
     "output_type": "stream",
     "text": [
      "0.10231535881757736\n"
     ]
    },
    {
     "data": {
      "application/vnd.jupyter.widget-view+json": {
       "model_id": "",
       "version_major": 2,
       "version_minor": 0
      },
      "text/plain": [
       "  0%|          | 0/1 [00:00<?, ?it/s]"
      ]
     },
     "metadata": {},
     "output_type": "display_data"
    },
    {
     "name": "stdout",
     "output_type": "stream",
     "text": [
      "0.10121913999319077\n"
     ]
    },
    {
     "data": {
      "application/vnd.jupyter.widget-view+json": {
       "model_id": "",
       "version_major": 2,
       "version_minor": 0
      },
      "text/plain": [
       "  0%|          | 0/1 [00:00<?, ?it/s]"
      ]
     },
     "metadata": {},
     "output_type": "display_data"
    },
    {
     "name": "stdout",
     "output_type": "stream",
     "text": [
      "0.10015752166509628\n"
     ]
    },
    {
     "data": {
      "application/vnd.jupyter.widget-view+json": {
       "model_id": "",
       "version_major": 2,
       "version_minor": 0
      },
      "text/plain": [
       "  0%|          | 0/1 [00:00<?, ?it/s]"
      ]
     },
     "metadata": {},
     "output_type": "display_data"
    },
    {
     "name": "stdout",
     "output_type": "stream",
     "text": [
      "0.09912755340337753\n"
     ]
    },
    {
     "data": {
      "application/vnd.jupyter.widget-view+json": {
       "model_id": "",
       "version_major": 2,
       "version_minor": 0
      },
      "text/plain": [
       "  0%|          | 0/1 [00:00<?, ?it/s]"
      ]
     },
     "metadata": {},
     "output_type": "display_data"
    },
    {
     "name": "stdout",
     "output_type": "stream",
     "text": [
      "0.09813034534454346\n"
     ]
    },
    {
     "data": {
      "application/vnd.jupyter.widget-view+json": {
       "model_id": "",
       "version_major": 2,
       "version_minor": 0
      },
      "text/plain": [
       "  0%|          | 0/1 [00:00<?, ?it/s]"
      ]
     },
     "metadata": {},
     "output_type": "display_data"
    },
    {
     "name": "stdout",
     "output_type": "stream",
     "text": [
      "0.09716056287288666\n"
     ]
    },
    {
     "data": {
      "application/vnd.jupyter.widget-view+json": {
       "model_id": "",
       "version_major": 2,
       "version_minor": 0
      },
      "text/plain": [
       "  0%|          | 0/1 [00:00<?, ?it/s]"
      ]
     },
     "metadata": {},
     "output_type": "display_data"
    },
    {
     "name": "stdout",
     "output_type": "stream",
     "text": [
      "0.09621896594762802\n"
     ]
    },
    {
     "data": {
      "application/vnd.jupyter.widget-view+json": {
       "model_id": "",
       "version_major": 2,
       "version_minor": 0
      },
      "text/plain": [
       "  0%|          | 0/1 [00:00<?, ?it/s]"
      ]
     },
     "metadata": {},
     "output_type": "display_data"
    },
    {
     "name": "stdout",
     "output_type": "stream",
     "text": [
      "0.09530510008335114\n"
     ]
    },
    {
     "data": {
      "application/vnd.jupyter.widget-view+json": {
       "model_id": "",
       "version_major": 2,
       "version_minor": 0
      },
      "text/plain": [
       "  0%|          | 0/1 [00:00<?, ?it/s]"
      ]
     },
     "metadata": {},
     "output_type": "display_data"
    },
    {
     "name": "stdout",
     "output_type": "stream",
     "text": [
      "0.09441583603620529\n"
     ]
    },
    {
     "data": {
      "application/vnd.jupyter.widget-view+json": {
       "model_id": "",
       "version_major": 2,
       "version_minor": 0
      },
      "text/plain": [
       "  0%|          | 0/1 [00:00<?, ?it/s]"
      ]
     },
     "metadata": {},
     "output_type": "display_data"
    },
    {
     "name": "stdout",
     "output_type": "stream",
     "text": [
      "0.0935504138469696\n"
     ]
    },
    {
     "data": {
      "application/vnd.jupyter.widget-view+json": {
       "model_id": "",
       "version_major": 2,
       "version_minor": 0
      },
      "text/plain": [
       "  0%|          | 0/1 [00:00<?, ?it/s]"
      ]
     },
     "metadata": {},
     "output_type": "display_data"
    },
    {
     "name": "stdout",
     "output_type": "stream",
     "text": [
      "0.09270806610584259\n"
     ]
    },
    {
     "data": {
      "application/vnd.jupyter.widget-view+json": {
       "model_id": "",
       "version_major": 2,
       "version_minor": 0
      },
      "text/plain": [
       "  0%|          | 0/1 [00:00<?, ?it/s]"
      ]
     },
     "metadata": {},
     "output_type": "display_data"
    },
    {
     "name": "stdout",
     "output_type": "stream",
     "text": [
      "0.09188798069953918\n"
     ]
    },
    {
     "data": {
      "application/vnd.jupyter.widget-view+json": {
       "model_id": "",
       "version_major": 2,
       "version_minor": 0
      },
      "text/plain": [
       "  0%|          | 0/1 [00:00<?, ?it/s]"
      ]
     },
     "metadata": {},
     "output_type": "display_data"
    },
    {
     "name": "stdout",
     "output_type": "stream",
     "text": [
      "0.09108896553516388\n"
     ]
    },
    {
     "data": {
      "application/vnd.jupyter.widget-view+json": {
       "model_id": "",
       "version_major": 2,
       "version_minor": 0
      },
      "text/plain": [
       "  0%|          | 0/1 [00:00<?, ?it/s]"
      ]
     },
     "metadata": {},
     "output_type": "display_data"
    },
    {
     "name": "stdout",
     "output_type": "stream",
     "text": [
      "0.09031188488006592\n"
     ]
    },
    {
     "data": {
      "application/vnd.jupyter.widget-view+json": {
       "model_id": "",
       "version_major": 2,
       "version_minor": 0
      },
      "text/plain": [
       "  0%|          | 0/1 [00:00<?, ?it/s]"
      ]
     },
     "metadata": {},
     "output_type": "display_data"
    },
    {
     "name": "stdout",
     "output_type": "stream",
     "text": [
      "0.08955955505371094\n"
     ]
    },
    {
     "data": {
      "application/vnd.jupyter.widget-view+json": {
       "model_id": "",
       "version_major": 2,
       "version_minor": 0
      },
      "text/plain": [
       "  0%|          | 0/1 [00:00<?, ?it/s]"
      ]
     },
     "metadata": {},
     "output_type": "display_data"
    },
    {
     "name": "stdout",
     "output_type": "stream",
     "text": [
      "0.08883205056190491\n"
     ]
    },
    {
     "data": {
      "application/vnd.jupyter.widget-view+json": {
       "model_id": "",
       "version_major": 2,
       "version_minor": 0
      },
      "text/plain": [
       "  0%|          | 0/1 [00:00<?, ?it/s]"
      ]
     },
     "metadata": {},
     "output_type": "display_data"
    },
    {
     "name": "stdout",
     "output_type": "stream",
     "text": [
      "0.08812680840492249\n"
     ]
    },
    {
     "data": {
      "application/vnd.jupyter.widget-view+json": {
       "model_id": "",
       "version_major": 2,
       "version_minor": 0
      },
      "text/plain": [
       "  0%|          | 0/1 [00:00<?, ?it/s]"
      ]
     },
     "metadata": {},
     "output_type": "display_data"
    },
    {
     "name": "stdout",
     "output_type": "stream",
     "text": [
      "0.08744543045759201\n"
     ]
    },
    {
     "data": {
      "application/vnd.jupyter.widget-view+json": {
       "model_id": "",
       "version_major": 2,
       "version_minor": 0
      },
      "text/plain": [
       "  0%|          | 0/1 [00:00<?, ?it/s]"
      ]
     },
     "metadata": {},
     "output_type": "display_data"
    },
    {
     "name": "stdout",
     "output_type": "stream",
     "text": [
      "0.0867866799235344\n"
     ]
    },
    {
     "data": {
      "application/vnd.jupyter.widget-view+json": {
       "model_id": "",
       "version_major": 2,
       "version_minor": 0
      },
      "text/plain": [
       "  0%|          | 0/1 [00:00<?, ?it/s]"
      ]
     },
     "metadata": {},
     "output_type": "display_data"
    },
    {
     "name": "stdout",
     "output_type": "stream",
     "text": [
      "0.08614932000637054\n"
     ]
    },
    {
     "data": {
      "application/vnd.jupyter.widget-view+json": {
       "model_id": "",
       "version_major": 2,
       "version_minor": 0
      },
      "text/plain": [
       "  0%|          | 0/1 [00:00<?, ?it/s]"
      ]
     },
     "metadata": {},
     "output_type": "display_data"
    },
    {
     "name": "stdout",
     "output_type": "stream",
     "text": [
      "0.08553433418273926\n"
     ]
    },
    {
     "data": {
      "application/vnd.jupyter.widget-view+json": {
       "model_id": "",
       "version_major": 2,
       "version_minor": 0
      },
      "text/plain": [
       "  0%|          | 0/1 [00:00<?, ?it/s]"
      ]
     },
     "metadata": {},
     "output_type": "display_data"
    },
    {
     "name": "stdout",
     "output_type": "stream",
     "text": [
      "0.08494096994400024\n"
     ]
    },
    {
     "data": {
      "application/vnd.jupyter.widget-view+json": {
       "model_id": "",
       "version_major": 2,
       "version_minor": 0
      },
      "text/plain": [
       "  0%|          | 0/1 [00:00<?, ?it/s]"
      ]
     },
     "metadata": {},
     "output_type": "display_data"
    },
    {
     "name": "stdout",
     "output_type": "stream",
     "text": [
      "0.08436654508113861\n"
     ]
    },
    {
     "data": {
      "application/vnd.jupyter.widget-view+json": {
       "model_id": "",
       "version_major": 2,
       "version_minor": 0
      },
      "text/plain": [
       "  0%|          | 0/1 [00:00<?, ?it/s]"
      ]
     },
     "metadata": {},
     "output_type": "display_data"
    },
    {
     "name": "stdout",
     "output_type": "stream",
     "text": [
      "0.08381045609712601\n"
     ]
    },
    {
     "data": {
      "application/vnd.jupyter.widget-view+json": {
       "model_id": "",
       "version_major": 2,
       "version_minor": 0
      },
      "text/plain": [
       "  0%|          | 0/1 [00:00<?, ?it/s]"
      ]
     },
     "metadata": {},
     "output_type": "display_data"
    },
    {
     "name": "stdout",
     "output_type": "stream",
     "text": [
      "0.08327129483222961\n"
     ]
    },
    {
     "data": {
      "application/vnd.jupyter.widget-view+json": {
       "model_id": "",
       "version_major": 2,
       "version_minor": 0
      },
      "text/plain": [
       "  0%|          | 0/1 [00:00<?, ?it/s]"
      ]
     },
     "metadata": {},
     "output_type": "display_data"
    },
    {
     "name": "stdout",
     "output_type": "stream",
     "text": [
      "0.08274945616722107\n"
     ]
    },
    {
     "data": {
      "application/vnd.jupyter.widget-view+json": {
       "model_id": "",
       "version_major": 2,
       "version_minor": 0
      },
      "text/plain": [
       "  0%|          | 0/1 [00:00<?, ?it/s]"
      ]
     },
     "metadata": {},
     "output_type": "display_data"
    },
    {
     "name": "stdout",
     "output_type": "stream",
     "text": [
      "0.08224496245384216\n"
     ]
    },
    {
     "data": {
      "application/vnd.jupyter.widget-view+json": {
       "model_id": "",
       "version_major": 2,
       "version_minor": 0
      },
      "text/plain": [
       "  0%|          | 0/1 [00:00<?, ?it/s]"
      ]
     },
     "metadata": {},
     "output_type": "display_data"
    },
    {
     "name": "stdout",
     "output_type": "stream",
     "text": [
      "0.08175733685493469\n"
     ]
    },
    {
     "data": {
      "application/vnd.jupyter.widget-view+json": {
       "model_id": "",
       "version_major": 2,
       "version_minor": 0
      },
      "text/plain": [
       "  0%|          | 0/1 [00:00<?, ?it/s]"
      ]
     },
     "metadata": {},
     "output_type": "display_data"
    },
    {
     "name": "stdout",
     "output_type": "stream",
     "text": [
      "0.08128578960895538\n"
     ]
    },
    {
     "data": {
      "application/vnd.jupyter.widget-view+json": {
       "model_id": "",
       "version_major": 2,
       "version_minor": 0
      },
      "text/plain": [
       "  0%|          | 0/1 [00:00<?, ?it/s]"
      ]
     },
     "metadata": {},
     "output_type": "display_data"
    },
    {
     "name": "stdout",
     "output_type": "stream",
     "text": [
      "0.08082981407642365\n"
     ]
    },
    {
     "data": {
      "application/vnd.jupyter.widget-view+json": {
       "model_id": "",
       "version_major": 2,
       "version_minor": 0
      },
      "text/plain": [
       "  0%|          | 0/1 [00:00<?, ?it/s]"
      ]
     },
     "metadata": {},
     "output_type": "display_data"
    },
    {
     "name": "stdout",
     "output_type": "stream",
     "text": [
      "0.08038880676031113\n"
     ]
    },
    {
     "data": {
      "application/vnd.jupyter.widget-view+json": {
       "model_id": "",
       "version_major": 2,
       "version_minor": 0
      },
      "text/plain": [
       "  0%|          | 0/1 [00:00<?, ?it/s]"
      ]
     },
     "metadata": {},
     "output_type": "display_data"
    },
    {
     "name": "stdout",
     "output_type": "stream",
     "text": [
      "0.07996254414319992\n"
     ]
    },
    {
     "data": {
      "application/vnd.jupyter.widget-view+json": {
       "model_id": "",
       "version_major": 2,
       "version_minor": 0
      },
      "text/plain": [
       "  0%|          | 0/1 [00:00<?, ?it/s]"
      ]
     },
     "metadata": {},
     "output_type": "display_data"
    },
    {
     "name": "stdout",
     "output_type": "stream",
     "text": [
      "0.07954984158277512\n"
     ]
    },
    {
     "data": {
      "application/vnd.jupyter.widget-view+json": {
       "model_id": "",
       "version_major": 2,
       "version_minor": 0
      },
      "text/plain": [
       "  0%|          | 0/1 [00:00<?, ?it/s]"
      ]
     },
     "metadata": {},
     "output_type": "display_data"
    },
    {
     "name": "stdout",
     "output_type": "stream",
     "text": [
      "0.07914997637271881\n"
     ]
    },
    {
     "data": {
      "application/vnd.jupyter.widget-view+json": {
       "model_id": "",
       "version_major": 2,
       "version_minor": 0
      },
      "text/plain": [
       "  0%|          | 0/1 [00:00<?, ?it/s]"
      ]
     },
     "metadata": {},
     "output_type": "display_data"
    },
    {
     "name": "stdout",
     "output_type": "stream",
     "text": [
      "0.07876287400722504\n"
     ]
    },
    {
     "data": {
      "application/vnd.jupyter.widget-view+json": {
       "model_id": "",
       "version_major": 2,
       "version_minor": 0
      },
      "text/plain": [
       "  0%|          | 0/1 [00:00<?, ?it/s]"
      ]
     },
     "metadata": {},
     "output_type": "display_data"
    },
    {
     "name": "stdout",
     "output_type": "stream",
     "text": [
      "0.07838860154151917\n"
     ]
    },
    {
     "data": {
      "application/vnd.jupyter.widget-view+json": {
       "model_id": "",
       "version_major": 2,
       "version_minor": 0
      },
      "text/plain": [
       "  0%|          | 0/1 [00:00<?, ?it/s]"
      ]
     },
     "metadata": {},
     "output_type": "display_data"
    },
    {
     "name": "stdout",
     "output_type": "stream",
     "text": [
      "0.07802493125200272\n"
     ]
    },
    {
     "data": {
      "application/vnd.jupyter.widget-view+json": {
       "model_id": "",
       "version_major": 2,
       "version_minor": 0
      },
      "text/plain": [
       "  0%|          | 0/1 [00:00<?, ?it/s]"
      ]
     },
     "metadata": {},
     "output_type": "display_data"
    },
    {
     "name": "stdout",
     "output_type": "stream",
     "text": [
      "0.07767190784215927\n"
     ]
    },
    {
     "data": {
      "application/vnd.jupyter.widget-view+json": {
       "model_id": "",
       "version_major": 2,
       "version_minor": 0
      },
      "text/plain": [
       "  0%|          | 0/1 [00:00<?, ?it/s]"
      ]
     },
     "metadata": {},
     "output_type": "display_data"
    },
    {
     "name": "stdout",
     "output_type": "stream",
     "text": [
      "0.07733071595430374\n"
     ]
    },
    {
     "data": {
      "application/vnd.jupyter.widget-view+json": {
       "model_id": "",
       "version_major": 2,
       "version_minor": 0
      },
      "text/plain": [
       "  0%|          | 0/1 [00:00<?, ?it/s]"
      ]
     },
     "metadata": {},
     "output_type": "display_data"
    },
    {
     "name": "stdout",
     "output_type": "stream",
     "text": [
      "0.07699938118457794\n"
     ]
    },
    {
     "data": {
      "application/vnd.jupyter.widget-view+json": {
       "model_id": "",
       "version_major": 2,
       "version_minor": 0
      },
      "text/plain": [
       "  0%|          | 0/1 [00:00<?, ?it/s]"
      ]
     },
     "metadata": {},
     "output_type": "display_data"
    },
    {
     "name": "stdout",
     "output_type": "stream",
     "text": [
      "0.07667849212884903\n"
     ]
    },
    {
     "data": {
      "application/vnd.jupyter.widget-view+json": {
       "model_id": "",
       "version_major": 2,
       "version_minor": 0
      },
      "text/plain": [
       "  0%|          | 0/1 [00:00<?, ?it/s]"
      ]
     },
     "metadata": {},
     "output_type": "display_data"
    },
    {
     "name": "stdout",
     "output_type": "stream",
     "text": [
      "0.07636638730764389\n"
     ]
    },
    {
     "data": {
      "application/vnd.jupyter.widget-view+json": {
       "model_id": "",
       "version_major": 2,
       "version_minor": 0
      },
      "text/plain": [
       "  0%|          | 0/1 [00:00<?, ?it/s]"
      ]
     },
     "metadata": {},
     "output_type": "display_data"
    },
    {
     "name": "stdout",
     "output_type": "stream",
     "text": [
      "0.07606509327888489\n"
     ]
    },
    {
     "data": {
      "application/vnd.jupyter.widget-view+json": {
       "model_id": "",
       "version_major": 2,
       "version_minor": 0
      },
      "text/plain": [
       "  0%|          | 0/1 [00:00<?, ?it/s]"
      ]
     },
     "metadata": {},
     "output_type": "display_data"
    },
    {
     "name": "stdout",
     "output_type": "stream",
     "text": [
      "0.07577284425497055\n"
     ]
    },
    {
     "data": {
      "application/vnd.jupyter.widget-view+json": {
       "model_id": "",
       "version_major": 2,
       "version_minor": 0
      },
      "text/plain": [
       "  0%|          | 0/1 [00:00<?, ?it/s]"
      ]
     },
     "metadata": {},
     "output_type": "display_data"
    },
    {
     "name": "stdout",
     "output_type": "stream",
     "text": [
      "0.075489841401577\n"
     ]
    },
    {
     "data": {
      "application/vnd.jupyter.widget-view+json": {
       "model_id": "",
       "version_major": 2,
       "version_minor": 0
      },
      "text/plain": [
       "  0%|          | 0/1 [00:00<?, ?it/s]"
      ]
     },
     "metadata": {},
     "output_type": "display_data"
    },
    {
     "name": "stdout",
     "output_type": "stream",
     "text": [
      "0.07521501183509827\n"
     ]
    },
    {
     "data": {
      "application/vnd.jupyter.widget-view+json": {
       "model_id": "",
       "version_major": 2,
       "version_minor": 0
      },
      "text/plain": [
       "  0%|          | 0/1 [00:00<?, ?it/s]"
      ]
     },
     "metadata": {},
     "output_type": "display_data"
    },
    {
     "name": "stdout",
     "output_type": "stream",
     "text": [
      "0.07494843006134033\n"
     ]
    },
    {
     "data": {
      "application/vnd.jupyter.widget-view+json": {
       "model_id": "",
       "version_major": 2,
       "version_minor": 0
      },
      "text/plain": [
       "  0%|          | 0/1 [00:00<?, ?it/s]"
      ]
     },
     "metadata": {},
     "output_type": "display_data"
    },
    {
     "name": "stdout",
     "output_type": "stream",
     "text": [
      "0.0746903344988823\n"
     ]
    },
    {
     "data": {
      "application/vnd.jupyter.widget-view+json": {
       "model_id": "",
       "version_major": 2,
       "version_minor": 0
      },
      "text/plain": [
       "  0%|          | 0/1 [00:00<?, ?it/s]"
      ]
     },
     "metadata": {},
     "output_type": "display_data"
    },
    {
     "name": "stdout",
     "output_type": "stream",
     "text": [
      "0.07443983852863312\n"
     ]
    },
    {
     "data": {
      "application/vnd.jupyter.widget-view+json": {
       "model_id": "",
       "version_major": 2,
       "version_minor": 0
      },
      "text/plain": [
       "  0%|          | 0/1 [00:00<?, ?it/s]"
      ]
     },
     "metadata": {},
     "output_type": "display_data"
    },
    {
     "name": "stdout",
     "output_type": "stream",
     "text": [
      "0.07419680058956146\n"
     ]
    },
    {
     "data": {
      "application/vnd.jupyter.widget-view+json": {
       "model_id": "",
       "version_major": 2,
       "version_minor": 0
      },
      "text/plain": [
       "  0%|          | 0/1 [00:00<?, ?it/s]"
      ]
     },
     "metadata": {},
     "output_type": "display_data"
    },
    {
     "name": "stdout",
     "output_type": "stream",
     "text": [
      "0.07396040856838226\n"
     ]
    },
    {
     "data": {
      "application/vnd.jupyter.widget-view+json": {
       "model_id": "",
       "version_major": 2,
       "version_minor": 0
      },
      "text/plain": [
       "  0%|          | 0/1 [00:00<?, ?it/s]"
      ]
     },
     "metadata": {},
     "output_type": "display_data"
    },
    {
     "name": "stdout",
     "output_type": "stream",
     "text": [
      "0.07373127341270447\n"
     ]
    },
    {
     "data": {
      "application/vnd.jupyter.widget-view+json": {
       "model_id": "",
       "version_major": 2,
       "version_minor": 0
      },
      "text/plain": [
       "  0%|          | 0/1 [00:00<?, ?it/s]"
      ]
     },
     "metadata": {},
     "output_type": "display_data"
    },
    {
     "name": "stdout",
     "output_type": "stream",
     "text": [
      "0.07350948452949524\n"
     ]
    },
    {
     "data": {
      "application/vnd.jupyter.widget-view+json": {
       "model_id": "",
       "version_major": 2,
       "version_minor": 0
      },
      "text/plain": [
       "  0%|          | 0/1 [00:00<?, ?it/s]"
      ]
     },
     "metadata": {},
     "output_type": "display_data"
    },
    {
     "name": "stdout",
     "output_type": "stream",
     "text": [
      "0.07329331338405609\n"
     ]
    },
    {
     "data": {
      "application/vnd.jupyter.widget-view+json": {
       "model_id": "",
       "version_major": 2,
       "version_minor": 0
      },
      "text/plain": [
       "  0%|          | 0/1 [00:00<?, ?it/s]"
      ]
     },
     "metadata": {},
     "output_type": "display_data"
    },
    {
     "name": "stdout",
     "output_type": "stream",
     "text": [
      "0.07308366149663925\n"
     ]
    },
    {
     "data": {
      "application/vnd.jupyter.widget-view+json": {
       "model_id": "",
       "version_major": 2,
       "version_minor": 0
      },
      "text/plain": [
       "  0%|          | 0/1 [00:00<?, ?it/s]"
      ]
     },
     "metadata": {},
     "output_type": "display_data"
    },
    {
     "name": "stdout",
     "output_type": "stream",
     "text": [
      "0.07287951558828354\n"
     ]
    },
    {
     "data": {
      "application/vnd.jupyter.widget-view+json": {
       "model_id": "",
       "version_major": 2,
       "version_minor": 0
      },
      "text/plain": [
       "  0%|          | 0/1 [00:00<?, ?it/s]"
      ]
     },
     "metadata": {},
     "output_type": "display_data"
    },
    {
     "name": "stdout",
     "output_type": "stream",
     "text": [
      "0.07268037647008896\n"
     ]
    },
    {
     "data": {
      "application/vnd.jupyter.widget-view+json": {
       "model_id": "",
       "version_major": 2,
       "version_minor": 0
      },
      "text/plain": [
       "  0%|          | 0/1 [00:00<?, ?it/s]"
      ]
     },
     "metadata": {},
     "output_type": "display_data"
    },
    {
     "name": "stdout",
     "output_type": "stream",
     "text": [
      "0.07248593121767044\n"
     ]
    },
    {
     "data": {
      "application/vnd.jupyter.widget-view+json": {
       "model_id": "",
       "version_major": 2,
       "version_minor": 0
      },
      "text/plain": [
       "  0%|          | 0/1 [00:00<?, ?it/s]"
      ]
     },
     "metadata": {},
     "output_type": "display_data"
    },
    {
     "name": "stdout",
     "output_type": "stream",
     "text": [
      "0.07229629904031754\n"
     ]
    },
    {
     "data": {
      "application/vnd.jupyter.widget-view+json": {
       "model_id": "",
       "version_major": 2,
       "version_minor": 0
      },
      "text/plain": [
       "  0%|          | 0/1 [00:00<?, ?it/s]"
      ]
     },
     "metadata": {},
     "output_type": "display_data"
    },
    {
     "name": "stdout",
     "output_type": "stream",
     "text": [
      "0.07211141288280487\n"
     ]
    },
    {
     "data": {
      "application/vnd.jupyter.widget-view+json": {
       "model_id": "",
       "version_major": 2,
       "version_minor": 0
      },
      "text/plain": [
       "  0%|          | 0/1 [00:00<?, ?it/s]"
      ]
     },
     "metadata": {},
     "output_type": "display_data"
    },
    {
     "name": "stdout",
     "output_type": "stream",
     "text": [
      "0.07193135470151901\n"
     ]
    },
    {
     "data": {
      "application/vnd.jupyter.widget-view+json": {
       "model_id": "",
       "version_major": 2,
       "version_minor": 0
      },
      "text/plain": [
       "  0%|          | 0/1 [00:00<?, ?it/s]"
      ]
     },
     "metadata": {},
     "output_type": "display_data"
    },
    {
     "name": "stdout",
     "output_type": "stream",
     "text": [
      "0.07175697386264801\n"
     ]
    },
    {
     "data": {
      "application/vnd.jupyter.widget-view+json": {
       "model_id": "",
       "version_major": 2,
       "version_minor": 0
      },
      "text/plain": [
       "  0%|          | 0/1 [00:00<?, ?it/s]"
      ]
     },
     "metadata": {},
     "output_type": "display_data"
    },
    {
     "name": "stdout",
     "output_type": "stream",
     "text": [
      "0.07158678770065308\n"
     ]
    },
    {
     "data": {
      "application/vnd.jupyter.widget-view+json": {
       "model_id": "",
       "version_major": 2,
       "version_minor": 0
      },
      "text/plain": [
       "  0%|          | 0/1 [00:00<?, ?it/s]"
      ]
     },
     "metadata": {},
     "output_type": "display_data"
    },
    {
     "name": "stdout",
     "output_type": "stream",
     "text": [
      "0.07142125815153122\n"
     ]
    },
    {
     "data": {
      "application/vnd.jupyter.widget-view+json": {
       "model_id": "",
       "version_major": 2,
       "version_minor": 0
      },
      "text/plain": [
       "  0%|          | 0/1 [00:00<?, ?it/s]"
      ]
     },
     "metadata": {},
     "output_type": "display_data"
    },
    {
     "name": "stdout",
     "output_type": "stream",
     "text": [
      "0.07126007974147797\n"
     ]
    },
    {
     "data": {
      "application/vnd.jupyter.widget-view+json": {
       "model_id": "",
       "version_major": 2,
       "version_minor": 0
      },
      "text/plain": [
       "  0%|          | 0/1 [00:00<?, ?it/s]"
      ]
     },
     "metadata": {},
     "output_type": "display_data"
    },
    {
     "name": "stdout",
     "output_type": "stream",
     "text": [
      "0.07110349088907242\n"
     ]
    },
    {
     "data": {
      "application/vnd.jupyter.widget-view+json": {
       "model_id": "",
       "version_major": 2,
       "version_minor": 0
      },
      "text/plain": [
       "  0%|          | 0/1 [00:00<?, ?it/s]"
      ]
     },
     "metadata": {},
     "output_type": "display_data"
    },
    {
     "name": "stdout",
     "output_type": "stream",
     "text": [
      "0.07095085829496384\n"
     ]
    },
    {
     "data": {
      "application/vnd.jupyter.widget-view+json": {
       "model_id": "",
       "version_major": 2,
       "version_minor": 0
      },
      "text/plain": [
       "  0%|          | 0/1 [00:00<?, ?it/s]"
      ]
     },
     "metadata": {},
     "output_type": "display_data"
    },
    {
     "name": "stdout",
     "output_type": "stream",
     "text": [
      "0.07080182433128357\n"
     ]
    },
    {
     "data": {
      "application/vnd.jupyter.widget-view+json": {
       "model_id": "",
       "version_major": 2,
       "version_minor": 0
      },
      "text/plain": [
       "  0%|          | 0/1 [00:00<?, ?it/s]"
      ]
     },
     "metadata": {},
     "output_type": "display_data"
    },
    {
     "name": "stdout",
     "output_type": "stream",
     "text": [
      "0.07065660506486893\n"
     ]
    },
    {
     "data": {
      "application/vnd.jupyter.widget-view+json": {
       "model_id": "",
       "version_major": 2,
       "version_minor": 0
      },
      "text/plain": [
       "  0%|          | 0/1 [00:00<?, ?it/s]"
      ]
     },
     "metadata": {},
     "output_type": "display_data"
    },
    {
     "name": "stdout",
     "output_type": "stream",
     "text": [
      "0.07051541656255722\n"
     ]
    },
    {
     "data": {
      "application/vnd.jupyter.widget-view+json": {
       "model_id": "",
       "version_major": 2,
       "version_minor": 0
      },
      "text/plain": [
       "  0%|          | 0/1 [00:00<?, ?it/s]"
      ]
     },
     "metadata": {},
     "output_type": "display_data"
    },
    {
     "name": "stdout",
     "output_type": "stream",
     "text": [
      "0.07037806510925293\n"
     ]
    },
    {
     "data": {
      "application/vnd.jupyter.widget-view+json": {
       "model_id": "",
       "version_major": 2,
       "version_minor": 0
      },
      "text/plain": [
       "  0%|          | 0/1 [00:00<?, ?it/s]"
      ]
     },
     "metadata": {},
     "output_type": "display_data"
    },
    {
     "name": "stdout",
     "output_type": "stream",
     "text": [
      "0.070243701338768\n"
     ]
    },
    {
     "data": {
      "application/vnd.jupyter.widget-view+json": {
       "model_id": "",
       "version_major": 2,
       "version_minor": 0
      },
      "text/plain": [
       "  0%|          | 0/1 [00:00<?, ?it/s]"
      ]
     },
     "metadata": {},
     "output_type": "display_data"
    },
    {
     "name": "stdout",
     "output_type": "stream",
     "text": [
      "0.07011242210865021\n"
     ]
    },
    {
     "data": {
      "application/vnd.jupyter.widget-view+json": {
       "model_id": "",
       "version_major": 2,
       "version_minor": 0
      },
      "text/plain": [
       "  0%|          | 0/1 [00:00<?, ?it/s]"
      ]
     },
     "metadata": {},
     "output_type": "display_data"
    },
    {
     "name": "stdout",
     "output_type": "stream",
     "text": [
      "0.06998477131128311\n"
     ]
    },
    {
     "data": {
      "application/vnd.jupyter.widget-view+json": {
       "model_id": "",
       "version_major": 2,
       "version_minor": 0
      },
      "text/plain": [
       "  0%|          | 0/1 [00:00<?, ?it/s]"
      ]
     },
     "metadata": {},
     "output_type": "display_data"
    },
    {
     "name": "stdout",
     "output_type": "stream",
     "text": [
      "0.06985991448163986\n"
     ]
    },
    {
     "data": {
      "application/vnd.jupyter.widget-view+json": {
       "model_id": "",
       "version_major": 2,
       "version_minor": 0
      },
      "text/plain": [
       "  0%|          | 0/1 [00:00<?, ?it/s]"
      ]
     },
     "metadata": {},
     "output_type": "display_data"
    },
    {
     "name": "stdout",
     "output_type": "stream",
     "text": [
      "0.06973815709352493\n"
     ]
    },
    {
     "data": {
      "application/vnd.jupyter.widget-view+json": {
       "model_id": "",
       "version_major": 2,
       "version_minor": 0
      },
      "text/plain": [
       "  0%|          | 0/1 [00:00<?, ?it/s]"
      ]
     },
     "metadata": {},
     "output_type": "display_data"
    },
    {
     "name": "stdout",
     "output_type": "stream",
     "text": [
      "0.06961964070796967\n"
     ]
    },
    {
     "data": {
      "application/vnd.jupyter.widget-view+json": {
       "model_id": "",
       "version_major": 2,
       "version_minor": 0
      },
      "text/plain": [
       "  0%|          | 0/1 [00:00<?, ?it/s]"
      ]
     },
     "metadata": {},
     "output_type": "display_data"
    },
    {
     "name": "stdout",
     "output_type": "stream",
     "text": [
      "0.06950405985116959\n"
     ]
    },
    {
     "data": {
      "application/vnd.jupyter.widget-view+json": {
       "model_id": "",
       "version_major": 2,
       "version_minor": 0
      },
      "text/plain": [
       "  0%|          | 0/1 [00:00<?, ?it/s]"
      ]
     },
     "metadata": {},
     "output_type": "display_data"
    },
    {
     "name": "stdout",
     "output_type": "stream",
     "text": [
      "0.06939110904932022\n"
     ]
    },
    {
     "data": {
      "application/vnd.jupyter.widget-view+json": {
       "model_id": "",
       "version_major": 2,
       "version_minor": 0
      },
      "text/plain": [
       "  0%|          | 0/1 [00:00<?, ?it/s]"
      ]
     },
     "metadata": {},
     "output_type": "display_data"
    },
    {
     "name": "stdout",
     "output_type": "stream",
     "text": [
      "0.06928100436925888\n"
     ]
    },
    {
     "data": {
      "application/vnd.jupyter.widget-view+json": {
       "model_id": "",
       "version_major": 2,
       "version_minor": 0
      },
      "text/plain": [
       "  0%|          | 0/1 [00:00<?, ?it/s]"
      ]
     },
     "metadata": {},
     "output_type": "display_data"
    },
    {
     "name": "stdout",
     "output_type": "stream",
     "text": [
      "0.06917309015989304\n"
     ]
    },
    {
     "data": {
      "application/vnd.jupyter.widget-view+json": {
       "model_id": "",
       "version_major": 2,
       "version_minor": 0
      },
      "text/plain": [
       "  0%|          | 0/1 [00:00<?, ?it/s]"
      ]
     },
     "metadata": {},
     "output_type": "display_data"
    },
    {
     "name": "stdout",
     "output_type": "stream",
     "text": [
      "0.06906773149967194\n"
     ]
    },
    {
     "data": {
      "application/vnd.jupyter.widget-view+json": {
       "model_id": "",
       "version_major": 2,
       "version_minor": 0
      },
      "text/plain": [
       "  0%|          | 0/1 [00:00<?, ?it/s]"
      ]
     },
     "metadata": {},
     "output_type": "display_data"
    },
    {
     "name": "stdout",
     "output_type": "stream",
     "text": [
      "0.06896509230136871\n"
     ]
    },
    {
     "data": {
      "application/vnd.jupyter.widget-view+json": {
       "model_id": "",
       "version_major": 2,
       "version_minor": 0
      },
      "text/plain": [
       "  0%|          | 0/1 [00:00<?, ?it/s]"
      ]
     },
     "metadata": {},
     "output_type": "display_data"
    },
    {
     "name": "stdout",
     "output_type": "stream",
     "text": [
      "0.06886497884988785\n"
     ]
    },
    {
     "data": {
      "application/vnd.jupyter.widget-view+json": {
       "model_id": "",
       "version_major": 2,
       "version_minor": 0
      },
      "text/plain": [
       "  0%|          | 0/1 [00:00<?, ?it/s]"
      ]
     },
     "metadata": {},
     "output_type": "display_data"
    },
    {
     "name": "stdout",
     "output_type": "stream",
     "text": [
      "0.0687672570347786\n"
     ]
    },
    {
     "data": {
      "application/vnd.jupyter.widget-view+json": {
       "model_id": "",
       "version_major": 2,
       "version_minor": 0
      },
      "text/plain": [
       "  0%|          | 0/1 [00:00<?, ?it/s]"
      ]
     },
     "metadata": {},
     "output_type": "display_data"
    },
    {
     "name": "stdout",
     "output_type": "stream",
     "text": [
      "0.06867159903049469\n"
     ]
    },
    {
     "data": {
      "application/vnd.jupyter.widget-view+json": {
       "model_id": "",
       "version_major": 2,
       "version_minor": 0
      },
      "text/plain": [
       "  0%|          | 0/1 [00:00<?, ?it/s]"
      ]
     },
     "metadata": {},
     "output_type": "display_data"
    },
    {
     "name": "stdout",
     "output_type": "stream",
     "text": [
      "0.06857840716838837\n"
     ]
    },
    {
     "data": {
      "application/vnd.jupyter.widget-view+json": {
       "model_id": "",
       "version_major": 2,
       "version_minor": 0
      },
      "text/plain": [
       "  0%|          | 0/1 [00:00<?, ?it/s]"
      ]
     },
     "metadata": {},
     "output_type": "display_data"
    },
    {
     "name": "stdout",
     "output_type": "stream",
     "text": [
      "0.0684874877333641\n"
     ]
    },
    {
     "data": {
      "application/vnd.jupyter.widget-view+json": {
       "model_id": "",
       "version_major": 2,
       "version_minor": 0
      },
      "text/plain": [
       "  0%|          | 0/1 [00:00<?, ?it/s]"
      ]
     },
     "metadata": {},
     "output_type": "display_data"
    },
    {
     "name": "stdout",
     "output_type": "stream",
     "text": [
      "0.06839863210916519\n"
     ]
    },
    {
     "data": {
      "application/vnd.jupyter.widget-view+json": {
       "model_id": "",
       "version_major": 2,
       "version_minor": 0
      },
      "text/plain": [
       "  0%|          | 0/1 [00:00<?, ?it/s]"
      ]
     },
     "metadata": {},
     "output_type": "display_data"
    },
    {
     "name": "stdout",
     "output_type": "stream",
     "text": [
      "0.0683116689324379\n"
     ]
    },
    {
     "data": {
      "application/vnd.jupyter.widget-view+json": {
       "model_id": "",
       "version_major": 2,
       "version_minor": 0
      },
      "text/plain": [
       "  0%|          | 0/1 [00:00<?, ?it/s]"
      ]
     },
     "metadata": {},
     "output_type": "display_data"
    },
    {
     "name": "stdout",
     "output_type": "stream",
     "text": [
      "0.06822666525840759\n"
     ]
    },
    {
     "data": {
      "application/vnd.jupyter.widget-view+json": {
       "model_id": "",
       "version_major": 2,
       "version_minor": 0
      },
      "text/plain": [
       "  0%|          | 0/1 [00:00<?, ?it/s]"
      ]
     },
     "metadata": {},
     "output_type": "display_data"
    },
    {
     "name": "stdout",
     "output_type": "stream",
     "text": [
      "0.06814392656087875\n"
     ]
    },
    {
     "data": {
      "application/vnd.jupyter.widget-view+json": {
       "model_id": "",
       "version_major": 2,
       "version_minor": 0
      },
      "text/plain": [
       "  0%|          | 0/1 [00:00<?, ?it/s]"
      ]
     },
     "metadata": {},
     "output_type": "display_data"
    },
    {
     "name": "stdout",
     "output_type": "stream",
     "text": [
      "0.06806296855211258\n"
     ]
    },
    {
     "data": {
      "application/vnd.jupyter.widget-view+json": {
       "model_id": "",
       "version_major": 2,
       "version_minor": 0
      },
      "text/plain": [
       "  0%|          | 0/1 [00:00<?, ?it/s]"
      ]
     },
     "metadata": {},
     "output_type": "display_data"
    },
    {
     "name": "stdout",
     "output_type": "stream",
     "text": [
      "0.06798385828733444\n"
     ]
    },
    {
     "data": {
      "application/vnd.jupyter.widget-view+json": {
       "model_id": "",
       "version_major": 2,
       "version_minor": 0
      },
      "text/plain": [
       "  0%|          | 0/1 [00:00<?, ?it/s]"
      ]
     },
     "metadata": {},
     "output_type": "display_data"
    },
    {
     "name": "stdout",
     "output_type": "stream",
     "text": [
      "0.06790659576654434\n"
     ]
    },
    {
     "data": {
      "application/vnd.jupyter.widget-view+json": {
       "model_id": "",
       "version_major": 2,
       "version_minor": 0
      },
      "text/plain": [
       "  0%|          | 0/1 [00:00<?, ?it/s]"
      ]
     },
     "metadata": {},
     "output_type": "display_data"
    },
    {
     "name": "stdout",
     "output_type": "stream",
     "text": [
      "0.06783100217580795\n"
     ]
    },
    {
     "data": {
      "application/vnd.jupyter.widget-view+json": {
       "model_id": "",
       "version_major": 2,
       "version_minor": 0
      },
      "text/plain": [
       "  0%|          | 0/1 [00:00<?, ?it/s]"
      ]
     },
     "metadata": {},
     "output_type": "display_data"
    },
    {
     "name": "stdout",
     "output_type": "stream",
     "text": [
      "0.06775698065757751\n"
     ]
    },
    {
     "data": {
      "application/vnd.jupyter.widget-view+json": {
       "model_id": "",
       "version_major": 2,
       "version_minor": 0
      },
      "text/plain": [
       "  0%|          | 0/1 [00:00<?, ?it/s]"
      ]
     },
     "metadata": {},
     "output_type": "display_data"
    },
    {
     "name": "stdout",
     "output_type": "stream",
     "text": [
      "0.0676848515868187\n"
     ]
    },
    {
     "data": {
      "application/vnd.jupyter.widget-view+json": {
       "model_id": "",
       "version_major": 2,
       "version_minor": 0
      },
      "text/plain": [
       "  0%|          | 0/1 [00:00<?, ?it/s]"
      ]
     },
     "metadata": {},
     "output_type": "display_data"
    },
    {
     "name": "stdout",
     "output_type": "stream",
     "text": [
      "0.06761407107114792\n"
     ]
    },
    {
     "data": {
      "application/vnd.jupyter.widget-view+json": {
       "model_id": "",
       "version_major": 2,
       "version_minor": 0
      },
      "text/plain": [
       "  0%|          | 0/1 [00:00<?, ?it/s]"
      ]
     },
     "metadata": {},
     "output_type": "display_data"
    },
    {
     "name": "stdout",
     "output_type": "stream",
     "text": [
      "0.0675451010465622\n"
     ]
    },
    {
     "data": {
      "application/vnd.jupyter.widget-view+json": {
       "model_id": "",
       "version_major": 2,
       "version_minor": 0
      },
      "text/plain": [
       "  0%|          | 0/1 [00:00<?, ?it/s]"
      ]
     },
     "metadata": {},
     "output_type": "display_data"
    },
    {
     "name": "stdout",
     "output_type": "stream",
     "text": [
      "0.06747753918170929\n"
     ]
    },
    {
     "data": {
      "application/vnd.jupyter.widget-view+json": {
       "model_id": "",
       "version_major": 2,
       "version_minor": 0
      },
      "text/plain": [
       "  0%|          | 0/1 [00:00<?, ?it/s]"
      ]
     },
     "metadata": {},
     "output_type": "display_data"
    },
    {
     "name": "stdout",
     "output_type": "stream",
     "text": [
      "0.06741134822368622\n"
     ]
    },
    {
     "data": {
      "application/vnd.jupyter.widget-view+json": {
       "model_id": "",
       "version_major": 2,
       "version_minor": 0
      },
      "text/plain": [
       "  0%|          | 0/1 [00:00<?, ?it/s]"
      ]
     },
     "metadata": {},
     "output_type": "display_data"
    },
    {
     "name": "stdout",
     "output_type": "stream",
     "text": [
      "0.0673464983701706\n"
     ]
    },
    {
     "data": {
      "application/vnd.jupyter.widget-view+json": {
       "model_id": "",
       "version_major": 2,
       "version_minor": 0
      },
      "text/plain": [
       "  0%|          | 0/1 [00:00<?, ?it/s]"
      ]
     },
     "metadata": {},
     "output_type": "display_data"
    },
    {
     "name": "stdout",
     "output_type": "stream",
     "text": [
      "0.06728305667638779\n"
     ]
    },
    {
     "data": {
      "application/vnd.jupyter.widget-view+json": {
       "model_id": "",
       "version_major": 2,
       "version_minor": 0
      },
      "text/plain": [
       "  0%|          | 0/1 [00:00<?, ?it/s]"
      ]
     },
     "metadata": {},
     "output_type": "display_data"
    },
    {
     "name": "stdout",
     "output_type": "stream",
     "text": [
      "0.0672212615609169\n"
     ]
    },
    {
     "data": {
      "application/vnd.jupyter.widget-view+json": {
       "model_id": "",
       "version_major": 2,
       "version_minor": 0
      },
      "text/plain": [
       "  0%|          | 0/1 [00:00<?, ?it/s]"
      ]
     },
     "metadata": {},
     "output_type": "display_data"
    },
    {
     "name": "stdout",
     "output_type": "stream",
     "text": [
      "0.06716065108776093\n"
     ]
    },
    {
     "data": {
      "application/vnd.jupyter.widget-view+json": {
       "model_id": "",
       "version_major": 2,
       "version_minor": 0
      },
      "text/plain": [
       "  0%|          | 0/1 [00:00<?, ?it/s]"
      ]
     },
     "metadata": {},
     "output_type": "display_data"
    },
    {
     "name": "stdout",
     "output_type": "stream",
     "text": [
      "0.06710141897201538\n"
     ]
    },
    {
     "data": {
      "application/vnd.jupyter.widget-view+json": {
       "model_id": "",
       "version_major": 2,
       "version_minor": 0
      },
      "text/plain": [
       "  0%|          | 0/1 [00:00<?, ?it/s]"
      ]
     },
     "metadata": {},
     "output_type": "display_data"
    },
    {
     "name": "stdout",
     "output_type": "stream",
     "text": [
      "0.0670432299375534\n"
     ]
    },
    {
     "data": {
      "application/vnd.jupyter.widget-view+json": {
       "model_id": "",
       "version_major": 2,
       "version_minor": 0
      },
      "text/plain": [
       "  0%|          | 0/1 [00:00<?, ?it/s]"
      ]
     },
     "metadata": {},
     "output_type": "display_data"
    },
    {
     "name": "stdout",
     "output_type": "stream",
     "text": [
      "0.06698644906282425\n"
     ]
    },
    {
     "data": {
      "application/vnd.jupyter.widget-view+json": {
       "model_id": "",
       "version_major": 2,
       "version_minor": 0
      },
      "text/plain": [
       "  0%|          | 0/1 [00:00<?, ?it/s]"
      ]
     },
     "metadata": {},
     "output_type": "display_data"
    },
    {
     "name": "stdout",
     "output_type": "stream",
     "text": [
      "0.06693089753389359\n"
     ]
    },
    {
     "data": {
      "application/vnd.jupyter.widget-view+json": {
       "model_id": "",
       "version_major": 2,
       "version_minor": 0
      },
      "text/plain": [
       "  0%|          | 0/1 [00:00<?, ?it/s]"
      ]
     },
     "metadata": {},
     "output_type": "display_data"
    },
    {
     "name": "stdout",
     "output_type": "stream",
     "text": [
      "0.06687648594379425\n"
     ]
    },
    {
     "data": {
      "application/vnd.jupyter.widget-view+json": {
       "model_id": "",
       "version_major": 2,
       "version_minor": 0
      },
      "text/plain": [
       "  0%|          | 0/1 [00:00<?, ?it/s]"
      ]
     },
     "metadata": {},
     "output_type": "display_data"
    },
    {
     "name": "stdout",
     "output_type": "stream",
     "text": [
      "0.06682316213846207\n"
     ]
    },
    {
     "data": {
      "application/vnd.jupyter.widget-view+json": {
       "model_id": "",
       "version_major": 2,
       "version_minor": 0
      },
      "text/plain": [
       "  0%|          | 0/1 [00:00<?, ?it/s]"
      ]
     },
     "metadata": {},
     "output_type": "display_data"
    },
    {
     "name": "stdout",
     "output_type": "stream",
     "text": [
      "0.06677085906267166\n"
     ]
    }
   ],
   "source": [
    "train_losses = []\n",
    "epochs = 200\n",
    "model.train()\n",
    "\n",
    "for epochs in range(epochs):\n",
    "    losses = []\n",
    "    total = 0\n",
    "    progress_bar = tqdm_notebook(train_loader, leave=False)\n",
    "    \n",
    "    for inputs, target in progress_bar:\n",
    "        model.zero_grad() # inicialização dos gradientes\n",
    "        output = model(inputs)\n",
    "        loss = criterion(output.squeeze(), target.float())\n",
    "        loss.backward() # backpropagation instance\n",
    "        nn.utils.clip_grad_norm_(model.parameters(), 3) # atualizar os coeficientes\n",
    "        optimizer.step() # execução do optimizador\n",
    "        losses.append(loss.item())\n",
    "        total += 1\n",
    "    \n",
    "    epoch_loss = sum(losses) / total\n",
    "    train_losses.append(epoch_loss)\n",
    "    print(epoch_loss)"
   ]
  },
  {
   "cell_type": "code",
   "execution_count": 74,
   "id": "0cc73ef6",
   "metadata": {},
   "outputs": [],
   "source": [
    "### predict values\n",
    "def predict_sentiment(text):\n",
    "    model.eval() # load the train model\n",
    "    \n",
    "    # extract predictions\n",
    "    with torch.no_grad():\n",
    "        test_vector = torch.LongTensor(transform_text.vectorizer.transform([text]).toarray()) # transformar texto teste para o formato adequado\n",
    "        output = model(test_vector) # prediction\n",
    "        prediction = torch.sigmoid(output).item() # return the probability of class\n",
    "        return(prediction, output)"
   ]
  },
  {
   "cell_type": "code",
   "execution_count": 88,
   "id": "6870f5f4",
   "metadata": {},
   "outputs": [
    {
     "data": {
      "text/plain": [
       "(0.2904100716114044, tensor([[-0.8934]]))"
      ]
     },
     "execution_count": 88,
     "metadata": {},
     "output_type": "execute_result"
    }
   ],
   "source": [
    "predict_sentiment(\"its a bad day, is it dark , i fill poor and we want to die\")"
   ]
  },
  {
   "cell_type": "code",
   "execution_count": null,
   "id": "675a9e76",
   "metadata": {},
   "outputs": [],
   "source": []
  }
 ],
 "metadata": {
  "kernelspec": {
   "display_name": "Python 3 (ipykernel)",
   "language": "python",
   "name": "python3"
  },
  "language_info": {
   "codemirror_mode": {
    "name": "ipython",
    "version": 3
   },
   "file_extension": ".py",
   "mimetype": "text/x-python",
   "name": "python",
   "nbconvert_exporter": "python",
   "pygments_lexer": "ipython3",
   "version": "3.8.12"
  }
 },
 "nbformat": 4,
 "nbformat_minor": 5
}
