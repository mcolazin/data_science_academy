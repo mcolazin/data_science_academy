{
 "cells": [
  {
   "cell_type": "markdown",
   "id": "eb111644",
   "metadata": {},
   "source": [
    "## NNs with TF and Keras"
   ]
  },
  {
   "cell_type": "code",
   "execution_count": 1,
   "id": "28370eb1",
   "metadata": {},
   "outputs": [],
   "source": [
    "import tensorflow as tf\n",
    "from tensorflow.keras.datasets import mnist\n",
    "from tensorflow.keras.utils import to_categorical\n",
    "from tensorflow.keras.layers import Dense, Flatten\n",
    "import matplotlib.pyplot as plt\n"
   ]
  },
  {
   "cell_type": "code",
   "execution_count": 2,
   "id": "422b234e",
   "metadata": {},
   "outputs": [],
   "source": [
    "# load data\n",
    "(x_train, y_train), (x_test, y_test) = mnist.load_data()"
   ]
  },
  {
   "cell_type": "code",
   "execution_count": 3,
   "id": "aa6dade3",
   "metadata": {
    "scrolled": true
   },
   "outputs": [
    {
     "data": {
      "text/plain": [
       "(array([[[0, 0, 0, ..., 0, 0, 0],\n",
       "         [0, 0, 0, ..., 0, 0, 0],\n",
       "         [0, 0, 0, ..., 0, 0, 0],\n",
       "         ...,\n",
       "         [0, 0, 0, ..., 0, 0, 0],\n",
       "         [0, 0, 0, ..., 0, 0, 0],\n",
       "         [0, 0, 0, ..., 0, 0, 0]],\n",
       " \n",
       "        [[0, 0, 0, ..., 0, 0, 0],\n",
       "         [0, 0, 0, ..., 0, 0, 0],\n",
       "         [0, 0, 0, ..., 0, 0, 0],\n",
       "         ...,\n",
       "         [0, 0, 0, ..., 0, 0, 0],\n",
       "         [0, 0, 0, ..., 0, 0, 0],\n",
       "         [0, 0, 0, ..., 0, 0, 0]],\n",
       " \n",
       "        [[0, 0, 0, ..., 0, 0, 0],\n",
       "         [0, 0, 0, ..., 0, 0, 0],\n",
       "         [0, 0, 0, ..., 0, 0, 0],\n",
       "         ...,\n",
       "         [0, 0, 0, ..., 0, 0, 0],\n",
       "         [0, 0, 0, ..., 0, 0, 0],\n",
       "         [0, 0, 0, ..., 0, 0, 0]],\n",
       " \n",
       "        ...,\n",
       " \n",
       "        [[0, 0, 0, ..., 0, 0, 0],\n",
       "         [0, 0, 0, ..., 0, 0, 0],\n",
       "         [0, 0, 0, ..., 0, 0, 0],\n",
       "         ...,\n",
       "         [0, 0, 0, ..., 0, 0, 0],\n",
       "         [0, 0, 0, ..., 0, 0, 0],\n",
       "         [0, 0, 0, ..., 0, 0, 0]],\n",
       " \n",
       "        [[0, 0, 0, ..., 0, 0, 0],\n",
       "         [0, 0, 0, ..., 0, 0, 0],\n",
       "         [0, 0, 0, ..., 0, 0, 0],\n",
       "         ...,\n",
       "         [0, 0, 0, ..., 0, 0, 0],\n",
       "         [0, 0, 0, ..., 0, 0, 0],\n",
       "         [0, 0, 0, ..., 0, 0, 0]],\n",
       " \n",
       "        [[0, 0, 0, ..., 0, 0, 0],\n",
       "         [0, 0, 0, ..., 0, 0, 0],\n",
       "         [0, 0, 0, ..., 0, 0, 0],\n",
       "         ...,\n",
       "         [0, 0, 0, ..., 0, 0, 0],\n",
       "         [0, 0, 0, ..., 0, 0, 0],\n",
       "         [0, 0, 0, ..., 0, 0, 0]]], dtype=uint8),\n",
       " array([5, 0, 4, ..., 5, 6, 8], dtype=uint8))"
      ]
     },
     "execution_count": 3,
     "metadata": {},
     "output_type": "execute_result"
    }
   ],
   "source": [
    "x_train, y_train"
   ]
  },
  {
   "cell_type": "code",
   "execution_count": 6,
   "id": "3c39f8f3",
   "metadata": {},
   "outputs": [
    {
     "data": {
      "text/plain": [
       "((60000, 28, 28), (60000,), (10000, 28, 28), (10000,))"
      ]
     },
     "execution_count": 6,
     "metadata": {},
     "output_type": "execute_result"
    }
   ],
   "source": [
    "x_train.shape, y_train.shape, x_test.shape, y_test.shape"
   ]
  },
  {
   "cell_type": "code",
   "execution_count": 24,
   "id": "d7c2a345",
   "metadata": {},
   "outputs": [
    {
     "data": {
      "image/png": "[encoded data removed]",
      "text/plain": [
       "<Figure size 720x720 with 16 Axes>"
      ]
     },
     "metadata": {},
     "output_type": "display_data"
    }
   ],
   "source": [
    "# Images Class Names:\n",
    "class_names = [\"zero\", \"one\", \"two\", \"three\", \"four\", \"five\", \"six\", \"seven\", \"eigth\", \"nine\", \"ten\"]\n",
    "plt.figure(figsize=(10,10))\n",
    "for img in range(16):\n",
    "    plt.subplot(4,4, img+1)\n",
    "    plt.xticks([]), plt.yticks([])\n",
    "    plt.imshow(x_train[img], cmap=plt.cm.binary)\n",
    "    plt.xlabel(class_names[y_train[img]])\n",
    "plt.show()"
   ]
  },
  {
   "cell_type": "code",
   "execution_count": 28,
   "id": "107d41fb",
   "metadata": {},
   "outputs": [],
   "source": [
    "# Prepare Data. Normalize x_train, one hot encode y laBEL\n",
    "\n",
    "x_train = (x_train / 255).astype(\"float32\")\n",
    "y_train = to_categorical(y_train)"
   ]
  },
  {
   "cell_type": "code",
   "execution_count": 34,
   "id": "6d46db66",
   "metadata": {},
   "outputs": [],
   "source": [
    "# create the nn model\n",
    "model = tf.keras.Sequential()\n",
    "model.add(Flatten(input_shape = (28,28))) # primeira camada que converte os dados 3D para 2D\n",
    "model.add(Dense(128, activation = \"relu\"))\n",
    "model.add(Dense(124, activation = \"relu\"))\n",
    "model.add(Dense(10, activation = \"softmax\"))"
   ]
  },
  {
   "cell_type": "code",
   "execution_count": 35,
   "id": "06ffc156",
   "metadata": {},
   "outputs": [],
   "source": [
    "# Compilation and optmization\n",
    "model.compile(optimizer=\"Adam\", loss=\"categorical_crossentropy\", metrics=[\"accuracy\"])"
   ]
  },
  {
   "cell_type": "code",
   "execution_count": 36,
   "id": "2e1542fa",
   "metadata": {},
   "outputs": [
    {
     "name": "stdout",
     "output_type": "stream",
     "text": [
      "Epoch 1/10\n",
      "1875/1875 [==============================] - 2s 844us/step - loss: 0.2301 - accuracy: 0.9317\n",
      "Epoch 2/10\n",
      "1875/1875 [==============================] - 2s 803us/step - loss: 0.0967 - accuracy: 0.9704\n",
      "Epoch 3/10\n",
      "1875/1875 [==============================] - 1s 779us/step - loss: 0.0679 - accuracy: 0.9786\n",
      "Epoch 4/10\n",
      "1875/1875 [==============================] - 2s 849us/step - loss: 0.0524 - accuracy: 0.9832\n",
      "Epoch 5/10\n",
      "1875/1875 [==============================] - 2s 928us/step - loss: 0.0406 - accuracy: 0.9868\n",
      "Epoch 6/10\n",
      "1875/1875 [==============================] - 2s 821us/step - loss: 0.0337 - accuracy: 0.9888\n",
      "Epoch 7/10\n",
      "1875/1875 [==============================] - 2s 804us/step - loss: 0.0276 - accuracy: 0.9907\n",
      "Epoch 8/10\n",
      "1875/1875 [==============================] - 2s 807us/step - loss: 0.0236 - accuracy: 0.9920\n",
      "Epoch 9/10\n",
      "1875/1875 [==============================] - 2s 809us/step - loss: 0.0215 - accuracy: 0.9926\n",
      "Epoch 10/10\n",
      "1875/1875 [==============================] - 2s 956us/step - loss: 0.0184 - accuracy: 0.9941\n"
     ]
    },
    {
     "data": {
      "text/plain": [
       "<tensorflow.python.keras.callbacks.History at 0x1f195845460>"
      ]
     },
     "execution_count": 36,
     "metadata": {},
     "output_type": "execute_result"
    }
   ],
   "source": [
    "# train\n",
    "model.fit(x= x_train, y= y_train, epochs=10)"
   ]
  },
  {
   "cell_type": "code",
   "execution_count": 37,
   "id": "35b662e6",
   "metadata": {},
   "outputs": [
    {
     "name": "stdout",
     "output_type": "stream",
     "text": [
      "Model: \"sequential_2\"\n",
      "_________________________________________________________________\n",
      "Layer (type)                 Output Shape              Param #   \n",
      "=================================================================\n",
      "flatten_1 (Flatten)          (None, 784)               0         \n",
      "_________________________________________________________________\n",
      "dense_3 (Dense)              (None, 128)               100480    \n",
      "_________________________________________________________________\n",
      "dense_4 (Dense)              (None, 124)               15996     \n",
      "_________________________________________________________________\n",
      "dense_5 (Dense)              (None, 10)                1250      \n",
      "=================================================================\n",
      "Total params: 117,726\n",
      "Trainable params: 117,726\n",
      "Non-trainable params: 0\n",
      "_________________________________________________________________\n"
     ]
    }
   ],
   "source": [
    "model.summary()"
   ]
  },
  {
   "cell_type": "code",
   "execution_count": 38,
   "id": "0e434c32",
   "metadata": {},
   "outputs": [],
   "source": [
    "# test the network\n",
    "# prepare the test data\n",
    "x_test = (x_test / 255).astype(\"float32\")\n",
    "y_test = to_categorical(y_test)"
   ]
  },
  {
   "cell_type": "code",
   "execution_count": 39,
   "id": "92f0a210",
   "metadata": {},
   "outputs": [
    {
     "data": {
      "text/plain": [
       "((10000, 28, 28), (10000, 10))"
      ]
     },
     "execution_count": 39,
     "metadata": {},
     "output_type": "execute_result"
    }
   ],
   "source": [
    "x_test.shape, y_test.shape"
   ]
  },
  {
   "cell_type": "code",
   "execution_count": 40,
   "id": "782aec27",
   "metadata": {},
   "outputs": [
    {
     "data": {
      "text/plain": [
       "array([[1.1948986e-09, 1.1951879e-13, 2.1369063e-11, ..., 9.9999964e-01,\n",
       "        2.3620361e-10, 3.4689620e-07],\n",
       "       [9.0158762e-13, 1.4062938e-11, 1.0000000e+00, ..., 1.3964552e-18,\n",
       "        1.8384275e-13, 9.9273560e-18],\n",
       "       [1.3964775e-07, 9.9975389e-01, 1.3653127e-05, ..., 2.0209838e-04,\n",
       "        2.4111074e-05, 1.0156950e-08],\n",
       "       ...,\n",
       "       [2.9273780e-17, 1.7411510e-15, 2.1857644e-18, ..., 2.7559341e-10,\n",
       "        5.1826043e-11, 1.2901625e-08],\n",
       "       [4.7542011e-15, 2.9704851e-24, 6.7410814e-26, ..., 6.6836439e-20,\n",
       "        2.8518598e-12, 3.9123284e-21],\n",
       "       [1.2816046e-09, 2.0990654e-17, 3.6082457e-16, ..., 1.4055300e-18,\n",
       "        7.1295105e-12, 5.4246208e-16]], dtype=float32)"
      ]
     },
     "execution_count": 40,
     "metadata": {},
     "output_type": "execute_result"
    }
   ],
   "source": [
    "y_hat = model.predict(x_test)\n",
    "y_hat # probavilidade de cada classe"
   ]
  },
  {
   "cell_type": "code",
   "execution_count": 45,
   "id": "1bb28ef8",
   "metadata": {},
   "outputs": [
    {
     "name": "stdout",
     "output_type": "stream",
     "text": [
      "313/313 - 0s - loss: 0.0980 - accuracy: 0.9770\n"
     ]
    }
   ],
   "source": [
    "# model evaluate\n",
    "evaluation = model.evaluate(x_test, y_test, verbose=2)"
   ]
  },
  {
   "cell_type": "code",
   "execution_count": 47,
   "id": "1e14eff1",
   "metadata": {},
   "outputs": [
    {
     "data": {
      "text/plain": [
       "[0.09799356758594513, 0.9769999980926514]"
      ]
     },
     "execution_count": 47,
     "metadata": {},
     "output_type": "execute_result"
    }
   ],
   "source": [
    "evaluation"
   ]
  },
  {
   "cell_type": "code",
   "execution_count": null,
   "id": "ebc9ade3",
   "metadata": {},
   "outputs": [],
   "source": []
  }
 ],
 "metadata": {
  "kernelspec": {
   "display_name": "Python 3 (ipykernel)",
   "language": "python",
   "name": "python3"
  },
  "language_info": {
   "codemirror_mode": {
    "name": "ipython",
    "version": 3
   },
   "file_extension": ".py",
   "mimetype": "text/x-python",
   "name": "python",
   "nbconvert_exporter": "python",
   "pygments_lexer": "ipython3",
   "version": "3.8.12"
  }
 },
 "nbformat": 4,
 "nbformat_minor": 5
}
