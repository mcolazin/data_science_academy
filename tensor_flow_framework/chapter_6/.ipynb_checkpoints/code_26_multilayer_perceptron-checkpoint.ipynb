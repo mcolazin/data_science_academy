{
 "cells": [
  {
   "cell_type": "code",
   "execution_count": 17,
   "id": "af85ebcc",
   "metadata": {},
   "outputs": [],
   "source": [
    "import numpy as np\n",
    "import tensorflow as tf\n",
    "import os\n",
    "\n",
    "import matplotlib.pyplot as plt\n",
    "\n",
    "os.environ[\"TF_CPP_MIN_LOG_LEVEL\"] = \"3\""
   ]
  },
  {
   "cell_type": "code",
   "execution_count": 2,
   "id": "5acace9e",
   "metadata": {},
   "outputs": [],
   "source": [
    "### hiperparams\n",
    "size = 200000\n",
    "num_epochs = 10\n",
    "learning_rate = 0.001"
   ]
  },
  {
   "cell_type": "code",
   "execution_count": 9,
   "id": "578301e3",
   "metadata": {},
   "outputs": [],
   "source": [
    "### generate data with numpy\n",
    "x1 = np.random.randint(0, 100, size)\n",
    "x2 = np.random.randint(0, 100, size)"
   ]
  },
  {
   "cell_type": "code",
   "execution_count": 14,
   "id": "a0863b8e",
   "metadata": {},
   "outputs": [],
   "source": [
    "x_treino = np.dstack((x1,x2))[0]"
   ]
  },
  {
   "cell_type": "code",
   "execution_count": 25,
   "id": "5b625ac7",
   "metadata": {},
   "outputs": [],
   "source": [
    "y_treino = 3*(x1**(1/2)) + 2*(x2**2)"
   ]
  },
  {
   "cell_type": "code",
   "execution_count": 42,
   "id": "a2ca1497",
   "metadata": {},
   "outputs": [],
   "source": [
    "### construão da rede neural com keras\n",
    "modelo_v1 = tf.keras.Sequential()"
   ]
  },
  {
   "cell_type": "code",
   "execution_count": 43,
   "id": "34233772",
   "metadata": {},
   "outputs": [],
   "source": [
    "# camada in\n",
    "modelo_v1.add(tf.keras.layers.Dense(64, input_shape = (2,), activation = \"sigmoid\"))\n",
    "# camada intermediaria 1\n",
    "modelo_v1.add(tf.keras.layers.Dense(128, activation = \"relu\"))\n",
    "# camada saída\n",
    "modelo_v1.add(tf.keras.layers.Dense(1))"
   ]
  },
  {
   "cell_type": "code",
   "execution_count": 44,
   "id": "2d7ad090",
   "metadata": {},
   "outputs": [],
   "source": [
    "# otimização do modelo com gradiente adam\n",
    "modelo_v1.compile(optimizer= tf.keras.optimizers.Adam(learning_rate= learning_rate), loss= tf.keras.losses.MSE)"
   ]
  },
  {
   "cell_type": "code",
   "execution_count": 45,
   "id": "696c2991",
   "metadata": {},
   "outputs": [
    {
     "name": "stdout",
     "output_type": "stream",
     "text": [
      "Model: \"sequential_2\"\n",
      "_________________________________________________________________\n",
      "Layer (type)                 Output Shape              Param #   \n",
      "=================================================================\n",
      "dense_10 (Dense)             (None, 64)                192       \n",
      "_________________________________________________________________\n",
      "dense_11 (Dense)             (None, 128)               8320      \n",
      "_________________________________________________________________\n",
      "dense_12 (Dense)             (None, 1)                 129       \n",
      "=================================================================\n",
      "Total params: 8,641\n",
      "Trainable params: 8,641\n",
      "Non-trainable params: 0\n",
      "_________________________________________________________________\n"
     ]
    }
   ],
   "source": [
    "modelo_v1.summary()"
   ]
  },
  {
   "cell_type": "code",
   "execution_count": 47,
   "id": "14ea1110",
   "metadata": {},
   "outputs": [
    {
     "name": "stdout",
     "output_type": "stream",
     "text": [
      "Epoch 1/10\n",
      "6250/6250 [==============================] - 4s 632us/step - loss: 2068.7603\n",
      "Epoch 2/10\n",
      "6250/6250 [==============================] - 4s 606us/step - loss: 1678.4882\n",
      "Epoch 3/10\n",
      "6250/6250 [==============================] - 3s 550us/step - loss: 1790.8512\n",
      "Epoch 4/10\n",
      "6250/6250 [==============================] - 3s 557us/step - loss: 1734.7538\n",
      "Epoch 5/10\n",
      "6250/6250 [==============================] - 3s 551us/step - loss: 2040.1750\n",
      "Epoch 6/10\n",
      "6250/6250 [==============================] - 3s 556us/step - loss: 1700.1389\n",
      "Epoch 7/10\n",
      "6250/6250 [==============================] - 3s 544us/step - loss: 1580.4653\n",
      "Epoch 8/10\n",
      "6250/6250 [==============================] - 3s 512us/step - loss: 1614.5299\n",
      "Epoch 9/10\n",
      "6250/6250 [==============================] - 3s 511us/step - loss: 1526.1416\n",
      "Epoch 10/10\n",
      "6250/6250 [==============================] - 3s 512us/step - loss: 1458.6500\n"
     ]
    },
    {
     "data": {
      "text/plain": [
       "<tensorflow.python.keras.callbacks.History at 0x1e87f1c1a90>"
      ]
     },
     "execution_count": 47,
     "metadata": {},
     "output_type": "execute_result"
    }
   ],
   "source": [
    "# Treinando o modelo:\n",
    "modelo_v1.fit(x = x_treino, y = y_treino, epochs=  num_epochs)"
   ]
  },
  {
   "cell_type": "code",
   "execution_count": 48,
   "id": "be456efa",
   "metadata": {},
   "outputs": [
    {
     "name": "stdout",
     "output_type": "stream",
     "text": [
      "6250/6250 [==============================] - 3s 481us/step - loss: 2291.4541\n"
     ]
    },
    {
     "data": {
      "text/plain": [
       "2291.4541015625"
      ]
     },
     "execution_count": 48,
     "metadata": {},
     "output_type": "execute_result"
    }
   ],
   "source": [
    "# avaliação\n",
    "modelo_v1.evaluate(x_treino, y_treino)"
   ]
  },
  {
   "cell_type": "code",
   "execution_count": 51,
   "id": "d063fec8",
   "metadata": {},
   "outputs": [
    {
     "name": "stdout",
     "output_type": "stream",
     "text": [
      "Model: \"sequential_2\"\n",
      "_________________________________________________________________\n",
      "Layer (type)                 Output Shape              Param #   \n",
      "=================================================================\n",
      "dense_10 (Dense)             (None, 64)                192       \n",
      "_________________________________________________________________\n",
      "dense_11 (Dense)             (None, 128)               8320      \n",
      "_________________________________________________________________\n",
      "dense_12 (Dense)             (None, 1)                 129       \n",
      "=================================================================\n",
      "Total params: 8,641\n",
      "Trainable params: 8,641\n",
      "Non-trainable params: 0\n",
      "_________________________________________________________________\n"
     ]
    }
   ],
   "source": [
    "modelo_v1.summary()"
   ]
  },
  {
   "cell_type": "code",
   "execution_count": null,
   "id": "5ce4cd83",
   "metadata": {},
   "outputs": [],
   "source": []
  },
  {
   "cell_type": "code",
   "execution_count": null,
   "id": "3c4f2629",
   "metadata": {},
   "outputs": [],
   "source": []
  },
  {
   "cell_type": "code",
   "execution_count": null,
   "id": "7b5e915a",
   "metadata": {},
   "outputs": [],
   "source": []
  },
  {
   "cell_type": "code",
   "execution_count": null,
   "id": "2f602710",
   "metadata": {},
   "outputs": [],
   "source": []
  },
  {
   "cell_type": "code",
   "execution_count": null,
   "id": "82321919",
   "metadata": {},
   "outputs": [],
   "source": []
  },
  {
   "cell_type": "code",
   "execution_count": null,
   "id": "05e912e9",
   "metadata": {},
   "outputs": [],
   "source": []
  },
  {
   "cell_type": "code",
   "execution_count": null,
   "id": "03f34b7b",
   "metadata": {},
   "outputs": [],
   "source": []
  },
  {
   "cell_type": "code",
   "execution_count": null,
   "id": "9c294d8f",
   "metadata": {},
   "outputs": [],
   "source": []
  },
  {
   "cell_type": "code",
   "execution_count": null,
   "id": "99488a3d",
   "metadata": {},
   "outputs": [],
   "source": []
  },
  {
   "cell_type": "code",
   "execution_count": null,
   "id": "9f9cf07e",
   "metadata": {},
   "outputs": [],
   "source": []
  },
  {
   "cell_type": "code",
   "execution_count": null,
   "id": "8f2d567c",
   "metadata": {},
   "outputs": [],
   "source": []
  },
  {
   "cell_type": "code",
   "execution_count": null,
   "id": "b4fb6f44",
   "metadata": {},
   "outputs": [],
   "source": []
  }
 ],
 "metadata": {
  "kernelspec": {
   "display_name": "Python 3 (ipykernel)",
   "language": "python",
   "name": "python3"
  },
  "language_info": {
   "codemirror_mode": {
    "name": "ipython",
    "version": 3
   },
   "file_extension": ".py",
   "mimetype": "text/x-python",
   "name": "python",
   "nbconvert_exporter": "python",
   "pygments_lexer": "ipython3",
   "version": "3.8.12"
  }
 },
 "nbformat": 4,
 "nbformat_minor": 5
}
