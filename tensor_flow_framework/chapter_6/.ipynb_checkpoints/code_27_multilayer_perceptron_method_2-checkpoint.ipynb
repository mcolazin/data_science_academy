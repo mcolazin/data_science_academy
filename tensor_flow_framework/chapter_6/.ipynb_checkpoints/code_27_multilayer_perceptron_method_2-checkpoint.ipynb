{
 "cells": [
  {
   "cell_type": "code",
   "execution_count": 3,
   "id": "fad0d612",
   "metadata": {},
   "outputs": [],
   "source": [
    "import numpy as np\n",
    "import tensorflow as tf\n",
    "import os\n",
    "\n",
    "import matplotlib.pyplot as plt\n",
    "\n",
    "os.environ[\"TF_CPP_MIN_LOG_LEVEL\"] = \"3\"\n",
    "\n",
    "### hiperparams\n",
    "size = 20000\n",
    "num_epochs = 10\n",
    "learning_rate = 0.01\n",
    "\n",
    "### generate data with numpy\n",
    "x1 = np.random.randint(0, 100, size)\n",
    "x2 = np.random.randint(0, 100, size)\n",
    "\n",
    "x_treino = np.dstack((x1,x2))[0]\n",
    "\n",
    "y_treino = 3*(x1**(1/2)) + 2*(x2**2)\n",
    "\n"
   ]
  },
  {
   "cell_type": "code",
   "execution_count": 4,
   "id": "066e463f",
   "metadata": {},
   "outputs": [],
   "source": [
    "# criando uma classe para a rede\n",
    "class Modelo(tf.keras.Model):\n",
    "    \n",
    "    def __init__(self):\n",
    "        super(Modelo, self).__init__()\n",
    "        self.entrada = tf.keras.layers.Dense(64, input_shape = (2,) , activation = \"sigmoid\")\n",
    "        self.oculta = tf.keras.layers.Dense(128, activation = \"relu\")\n",
    "        self.saida = tf.keras.layers.Dense(2)\n",
    "        self.compile(optimizer= tf.keras.optimizers.RMSprop(learning_rate), loss= tf.keras.losses.MSE)\n",
    "    \n",
    "    def call(self, inputs):\n",
    "        x = self.entrada(inputs)\n",
    "        x = self.oculta(x)\n",
    "        x = self.saida(x)\n",
    "        return(x)"
   ]
  },
  {
   "cell_type": "code",
   "execution_count": 5,
   "id": "fbc6f507",
   "metadata": {},
   "outputs": [],
   "source": [
    "modelo_v1 = Modelo()"
   ]
  },
  {
   "cell_type": "code",
   "execution_count": 6,
   "id": "334c8eec",
   "metadata": {},
   "outputs": [
    {
     "name": "stdout",
     "output_type": "stream",
     "text": [
      "Epoch 1/10\n",
      "625/625 [==============================] - 0s 601us/step - loss: 16857718.0000\n",
      "Epoch 2/10\n",
      "625/625 [==============================] - 0s 605us/step - loss: 4080775.2500\n",
      "Epoch 3/10\n",
      "625/625 [==============================] - 0s 602us/step - loss: 3125182.7500\n",
      "Epoch 4/10\n",
      "625/625 [==============================] - 0s 589us/step - loss: 2683403.2500\n",
      "Epoch 5/10\n",
      "625/625 [==============================] - 0s 590us/step - loss: 2343920.7500\n",
      "Epoch 6/10\n",
      "625/625 [==============================] - 0s 577us/step - loss: 2080683.8750\n",
      "Epoch 7/10\n",
      "625/625 [==============================] - 0s 549us/step - loss: 1915353.7500\n",
      "Epoch 8/10\n",
      "625/625 [==============================] - 0s 570us/step - loss: 1744718.8750\n",
      "Epoch 9/10\n",
      "625/625 [==============================] - 0s 556us/step - loss: 1581479.7500\n",
      "Epoch 10/10\n",
      "625/625 [==============================] - 0s 528us/step - loss: 1497525.5000\n"
     ]
    },
    {
     "data": {
      "text/plain": [
       "<tensorflow.python.keras.callbacks.History at 0x2a52a07a760>"
      ]
     },
     "execution_count": 6,
     "metadata": {},
     "output_type": "execute_result"
    }
   ],
   "source": [
    "# Treinando o modelo:\n",
    "modelo_v1.fit(x = x_treino, y = y_treino, epochs=  num_epochs)"
   ]
  },
  {
   "cell_type": "code",
   "execution_count": 7,
   "id": "6bc4d4d0",
   "metadata": {},
   "outputs": [
    {
     "name": "stdout",
     "output_type": "stream",
     "text": [
      "625/625 [==============================] - 0s 496us/step - loss: 2275251.5000\n"
     ]
    },
    {
     "data": {
      "text/plain": [
       "2275251.5"
      ]
     },
     "execution_count": 7,
     "metadata": {},
     "output_type": "execute_result"
    }
   ],
   "source": [
    "# avaliação\n",
    "modelo_v1.evaluate(x_treino, y_treino)"
   ]
  },
  {
   "cell_type": "code",
   "execution_count": 8,
   "id": "c49c8bd5",
   "metadata": {},
   "outputs": [
    {
     "name": "stdout",
     "output_type": "stream",
     "text": [
      "Model: \"modelo\"\n",
      "_________________________________________________________________\n",
      "Layer (type)                 Output Shape              Param #   \n",
      "=================================================================\n",
      "dense (Dense)                multiple                  192       \n",
      "_________________________________________________________________\n",
      "dense_1 (Dense)              multiple                  8320      \n",
      "_________________________________________________________________\n",
      "dense_2 (Dense)              multiple                  258       \n",
      "=================================================================\n",
      "Total params: 8,770\n",
      "Trainable params: 8,770\n",
      "Non-trainable params: 0\n",
      "_________________________________________________________________\n"
     ]
    }
   ],
   "source": [
    "modelo_v1.summary()"
   ]
  },
  {
   "cell_type": "code",
   "execution_count": null,
   "id": "72ff8a85",
   "metadata": {},
   "outputs": [],
   "source": []
  },
  {
   "cell_type": "code",
   "execution_count": null,
   "id": "275f6b20",
   "metadata": {},
   "outputs": [],
   "source": []
  },
  {
   "cell_type": "code",
   "execution_count": null,
   "id": "bb872326",
   "metadata": {},
   "outputs": [],
   "source": []
  },
  {
   "cell_type": "code",
   "execution_count": null,
   "id": "4a9a16dd",
   "metadata": {},
   "outputs": [],
   "source": []
  }
 ],
 "metadata": {
  "kernelspec": {
   "display_name": "Python 3 (ipykernel)",
   "language": "python",
   "name": "python3"
  },
  "language_info": {
   "codemirror_mode": {
    "name": "ipython",
    "version": 3
   },
   "file_extension": ".py",
   "mimetype": "text/x-python",
   "name": "python",
   "nbconvert_exporter": "python",
   "pygments_lexer": "ipython3",
   "version": "3.8.12"
  }
 },
 "nbformat": 4,
 "nbformat_minor": 5
}
