{
 "cells": [
  {
   "cell_type": "code",
   "execution_count": 1,
   "id": "8ab27582",
   "metadata": {},
   "outputs": [],
   "source": [
    "import tensorflow as tf\n",
    "import numpy as np\n",
    "from tensorflow.keras.datasets import mnist\n",
    "import pandas as pd\n",
    "import matplotlib.pyplot as plt"
   ]
  },
  {
   "cell_type": "markdown",
   "id": "ed573a3b",
   "metadata": {},
   "source": [
    "### Model 1"
   ]
  },
  {
   "cell_type": "code",
   "execution_count": 2,
   "id": "5f10bab5",
   "metadata": {},
   "outputs": [],
   "source": [
    "(x_train, y_train), (x_test, y_test) = mnist.load_data()"
   ]
  },
  {
   "cell_type": "code",
   "execution_count": 3,
   "id": "a78949a2",
   "metadata": {},
   "outputs": [
    {
     "data": {
      "text/plain": [
       "(60000, 28, 28)"
      ]
     },
     "execution_count": 3,
     "metadata": {},
     "output_type": "execute_result"
    }
   ],
   "source": [
    "# x_train é composto por 60000 matrizes de 28 * 28\n",
    "x_train.shape\n",
    "# os dados devem ser reorgazinados para 2D 28 * 28 = 784 1D array por 60000obs"
   ]
  },
  {
   "cell_type": "code",
   "execution_count": 4,
   "id": "ca09ec00",
   "metadata": {},
   "outputs": [],
   "source": [
    "# Reshape dos dados para 2D\n",
    "x_train = x_train.reshape(60000, 784)\n",
    "x_test = x_test.reshape(10000, 784)\n",
    "x_train = x_train.astype(\"float32\")\n",
    "x_test = x_test.astype(\"float32\")"
   ]
  },
  {
   "cell_type": "code",
   "execution_count": 5,
   "id": "328dc28d",
   "metadata": {},
   "outputs": [
    {
     "data": {
      "text/plain": [
       "(60000, 784)"
      ]
     },
     "execution_count": 5,
     "metadata": {},
     "output_type": "execute_result"
    }
   ],
   "source": [
    "x_train.shape"
   ]
  },
  {
   "cell_type": "code",
   "execution_count": 6,
   "id": "d4ea4309",
   "metadata": {
    "scrolled": false
   },
   "outputs": [],
   "source": [
    "# normalize the dataset\n",
    "x_train = x_train / 255\n",
    "x_test = x_test / 255"
   ]
  },
  {
   "cell_type": "code",
   "execution_count": 7,
   "id": "2ee9bff5",
   "metadata": {},
   "outputs": [],
   "source": [
    "# one hot encode the categorical label\n",
    "from tensorflow.keras import utils"
   ]
  },
  {
   "cell_type": "code",
   "execution_count": 8,
   "id": "0c9cf633",
   "metadata": {},
   "outputs": [],
   "source": [
    "# One hot encode with utils.to_categorical\n",
    "y_train = utils.to_categorical(y_train, 10) # 10 is the number of classes\n",
    "y_test = utils.to_categorical(y_test, 10)"
   ]
  },
  {
   "cell_type": "markdown",
   "id": "a410eb0e",
   "metadata": {},
   "source": [
    "### construção da rede neural\n",
    "\n"
   ]
  },
  {
   "cell_type": "code",
   "execution_count": 9,
   "id": "ecdf9efb",
   "metadata": {},
   "outputs": [],
   "source": [
    "from tensorflow.keras.models import Sequential\n",
    "from tensorflow.keras.layers import Dense, Activation"
   ]
  },
  {
   "cell_type": "code",
   "execution_count": 10,
   "id": "6f4f632b",
   "metadata": {},
   "outputs": [
    {
     "name": "stdout",
     "output_type": "stream",
     "text": [
      "Model: \"sequential\"\n",
      "_________________________________________________________________\n",
      "Layer (type)                 Output Shape              Param #   \n",
      "=================================================================\n",
      "dense (Dense)                (None, 10)                7850      \n",
      "_________________________________________________________________\n",
      "activation (Activation)      (None, 10)                0         \n",
      "=================================================================\n",
      "Total params: 7,850\n",
      "Trainable params: 7,850\n",
      "Non-trainable params: 0\n",
      "_________________________________________________________________\n"
     ]
    }
   ],
   "source": [
    "model = Sequential()\n",
    "model.add(Dense(10, input_shape = (784,))) # 10 classes of input 784\n",
    "model.add(Activation(\"softmax\"))\n",
    "\n",
    "model.summary()"
   ]
  },
  {
   "cell_type": "code",
   "execution_count": 11,
   "id": "8c00de0e",
   "metadata": {},
   "outputs": [],
   "source": [
    "from tensorflow.keras.optimizers import SGD"
   ]
  },
  {
   "cell_type": "code",
   "execution_count": 13,
   "id": "03d356ee",
   "metadata": {},
   "outputs": [],
   "source": [
    "# compilação do modelo: perda categ_cross para classificação, SGD = otimização com Gradiente Descent\n",
    "model.compile(loss=\"categorical_crossentropy\", optimizer = SGD(), metrics=[\"accuracy\", \"AUC\"])"
   ]
  },
  {
   "cell_type": "code",
   "execution_count": 14,
   "id": "70ac23a6",
   "metadata": {},
   "outputs": [
    {
     "name": "stdout",
     "output_type": "stream",
     "text": [
      "Epoch 1/50\n",
      "94/94 [==============================] - 2s 19ms/step - loss: 2.0194 - accuracy: 0.3662 - auc: 0.7621 - val_loss: 1.6516 - val_accuracy: 0.6384 - val_auc: 0.9237\n",
      "Epoch 2/50\n",
      "94/94 [==============================] - 1s 14ms/step - loss: 1.4569 - accuracy: 0.6959 - auc: 0.9452 - val_loss: 1.2552 - val_accuracy: 0.7628 - val_auc: 0.9637\n",
      "Epoch 3/50\n",
      "94/94 [==============================] - 1s 14ms/step - loss: 1.1674 - accuracy: 0.7688 - auc: 0.9660 - val_loss: 1.0376 - val_accuracy: 0.8043 - val_auc: 0.9737\n",
      "Epoch 4/50\n",
      "94/94 [==============================] - 1s 14ms/step - loss: 0.9999 - accuracy: 0.7979 - auc: 0.9732 - val_loss: 0.9038 - val_accuracy: 0.8242 - val_auc: 0.9783\n",
      "Epoch 5/50\n",
      "94/94 [==============================] - 1s 14ms/step - loss: 0.8919 - accuracy: 0.8149 - auc: 0.9769 - val_loss: 0.8137 - val_accuracy: 0.8349 - val_auc: 0.9809\n",
      "Epoch 6/50\n",
      "94/94 [==============================] - 1s 15ms/step - loss: 0.8164 - accuracy: 0.8260 - auc: 0.9792 - val_loss: 0.7489 - val_accuracy: 0.8425 - val_auc: 0.9826\n",
      "Epoch 7/50\n",
      "94/94 [==============================] - 1s 14ms/step - loss: 0.7606 - accuracy: 0.8342 - auc: 0.9808 - val_loss: 0.6998 - val_accuracy: 0.8505 - val_auc: 0.9839\n",
      "Epoch 8/50\n",
      "94/94 [==============================] - 1s 15ms/step - loss: 0.7173 - accuracy: 0.8404 - auc: 0.9821 - val_loss: 0.6613 - val_accuracy: 0.8557 - val_auc: 0.9848\n",
      "Epoch 9/50\n",
      "94/94 [==============================] - 1s 15ms/step - loss: 0.6827 - accuracy: 0.8449 - auc: 0.9830 - val_loss: 0.6302 - val_accuracy: 0.8594 - val_auc: 0.9856\n",
      "Epoch 10/50\n",
      "94/94 [==============================] - 1s 14ms/step - loss: 0.6542 - accuracy: 0.8495 - auc: 0.9838 - val_loss: 0.6044 - val_accuracy: 0.8637 - val_auc: 0.9862\n",
      "Epoch 11/50\n",
      "94/94 [==============================] - 1s 14ms/step - loss: 0.6304 - accuracy: 0.8526 - auc: 0.9844 - val_loss: 0.5828 - val_accuracy: 0.8671 - val_auc: 0.9867\n",
      "Epoch 12/50\n",
      "94/94 [==============================] - 1s 14ms/step - loss: 0.6101 - accuracy: 0.8557 - auc: 0.9849 - val_loss: 0.5643 - val_accuracy: 0.8692 - val_auc: 0.9871\n",
      "Epoch 13/50\n",
      "94/94 [==============================] - 1s 14ms/step - loss: 0.5926 - accuracy: 0.8583 - auc: 0.9854 - val_loss: 0.5483 - val_accuracy: 0.8714 - val_auc: 0.9874\n",
      "Epoch 14/50\n",
      "94/94 [==============================] - 1s 14ms/step - loss: 0.5773 - accuracy: 0.8605 - auc: 0.9858 - val_loss: 0.5342 - val_accuracy: 0.8734 - val_auc: 0.9877\n",
      "Epoch 15/50\n",
      "94/94 [==============================] - 1s 14ms/step - loss: 0.5637 - accuracy: 0.8623 - auc: 0.9861 - val_loss: 0.5218 - val_accuracy: 0.8751 - val_auc: 0.9880\n",
      "Epoch 16/50\n",
      "94/94 [==============================] - 1s 14ms/step - loss: 0.5517 - accuracy: 0.8641 - auc: 0.9865 - val_loss: 0.5108 - val_accuracy: 0.8766 - val_auc: 0.9882\n",
      "Epoch 17/50\n",
      "94/94 [==============================] - 1s 14ms/step - loss: 0.5408 - accuracy: 0.8658 - auc: 0.9867 - val_loss: 0.5009 - val_accuracy: 0.8777 - val_auc: 0.9885\n",
      "Epoch 18/50\n",
      "94/94 [==============================] - 1s 14ms/step - loss: 0.5310 - accuracy: 0.8676 - auc: 0.9870 - val_loss: 0.4919 - val_accuracy: 0.8794 - val_auc: 0.9887\n",
      "Epoch 19/50\n",
      "94/94 [==============================] - 1s 14ms/step - loss: 0.5221 - accuracy: 0.8693 - auc: 0.9872 - val_loss: 0.4838 - val_accuracy: 0.8812 - val_auc: 0.9888\n",
      "Epoch 20/50\n",
      "94/94 [==============================] - 1s 14ms/step - loss: 0.5139 - accuracy: 0.8704 - auc: 0.9874 - val_loss: 0.4763 - val_accuracy: 0.8817 - val_auc: 0.9890\n",
      "Epoch 21/50\n",
      "94/94 [==============================] - 1s 14ms/step - loss: 0.5064 - accuracy: 0.8715 - auc: 0.9876 - val_loss: 0.4695 - val_accuracy: 0.8823 - val_auc: 0.9891\n",
      "Epoch 22/50\n",
      "94/94 [==============================] - 1s 14ms/step - loss: 0.4995 - accuracy: 0.8727 - auc: 0.9878 - val_loss: 0.4632 - val_accuracy: 0.8830 - val_auc: 0.9893\n",
      "Epoch 23/50\n",
      "94/94 [==============================] - 1s 14ms/step - loss: 0.4931 - accuracy: 0.8741 - auc: 0.9879 - val_loss: 0.4573 - val_accuracy: 0.8836 - val_auc: 0.9894\n",
      "Epoch 24/50\n",
      "94/94 [==============================] - 1s 14ms/step - loss: 0.4872 - accuracy: 0.8755 - auc: 0.9881 - val_loss: 0.4519 - val_accuracy: 0.8846 - val_auc: 0.9895\n",
      "Epoch 25/50\n",
      "94/94 [==============================] - 1s 14ms/step - loss: 0.4816 - accuracy: 0.8763 - auc: 0.9882 - val_loss: 0.4469 - val_accuracy: 0.8860 - val_auc: 0.9896\n",
      "Epoch 26/50\n",
      "94/94 [==============================] - 1s 14ms/step - loss: 0.4764 - accuracy: 0.8775 - auc: 0.9883 - val_loss: 0.4422 - val_accuracy: 0.8865 - val_auc: 0.9897\n",
      "Epoch 27/50\n",
      "94/94 [==============================] - 1s 14ms/step - loss: 0.4715 - accuracy: 0.8784 - auc: 0.9885 - val_loss: 0.4378 - val_accuracy: 0.8867 - val_auc: 0.9898\n",
      "Epoch 28/50\n",
      "94/94 [==============================] - 1s 14ms/step - loss: 0.4670 - accuracy: 0.8788 - auc: 0.9886 - val_loss: 0.4336 - val_accuracy: 0.8881 - val_auc: 0.9898\n",
      "Epoch 29/50\n",
      "94/94 [==============================] - 1s 14ms/step - loss: 0.4626 - accuracy: 0.8799 - auc: 0.9887 - val_loss: 0.4298 - val_accuracy: 0.8889 - val_auc: 0.9899\n",
      "Epoch 30/50\n",
      "94/94 [==============================] - 1s 14ms/step - loss: 0.4585 - accuracy: 0.8804 - auc: 0.9887 - val_loss: 0.4261 - val_accuracy: 0.8896 - val_auc: 0.9900\n",
      "Epoch 31/50\n",
      "94/94 [==============================] - 1s 14ms/step - loss: 0.4547 - accuracy: 0.8813 - auc: 0.9889 - val_loss: 0.4226 - val_accuracy: 0.8903 - val_auc: 0.9901\n",
      "Epoch 32/50\n",
      "94/94 [==============================] - 1s 14ms/step - loss: 0.4510 - accuracy: 0.8819 - auc: 0.9890 - val_loss: 0.4192 - val_accuracy: 0.8910 - val_auc: 0.9901\n",
      "Epoch 33/50\n",
      "94/94 [==============================] - 1s 14ms/step - loss: 0.4475 - accuracy: 0.8828 - auc: 0.9891 - val_loss: 0.4161 - val_accuracy: 0.8923 - val_auc: 0.9902\n",
      "Epoch 34/50\n",
      "94/94 [==============================] - 1s 14ms/step - loss: 0.4442 - accuracy: 0.8832 - auc: 0.9891 - val_loss: 0.4131 - val_accuracy: 0.8927 - val_auc: 0.9903\n",
      "Epoch 35/50\n",
      "94/94 [==============================] - 1s 14ms/step - loss: 0.4410 - accuracy: 0.8838 - auc: 0.9892 - val_loss: 0.4103 - val_accuracy: 0.8933 - val_auc: 0.9904\n",
      "Epoch 36/50\n",
      "94/94 [==============================] - 1s 14ms/step - loss: 0.4380 - accuracy: 0.8841 - auc: 0.9893 - val_loss: 0.4076 - val_accuracy: 0.8939 - val_auc: 0.9904\n",
      "Epoch 37/50\n",
      "94/94 [==============================] - 1s 14ms/step - loss: 0.4351 - accuracy: 0.8850 - auc: 0.9894 - val_loss: 0.4050 - val_accuracy: 0.8941 - val_auc: 0.9904\n",
      "Epoch 38/50\n",
      "94/94 [==============================] - 1s 14ms/step - loss: 0.4324 - accuracy: 0.8856 - auc: 0.9894 - val_loss: 0.4026 - val_accuracy: 0.8948 - val_auc: 0.9904\n",
      "Epoch 39/50\n",
      "94/94 [==============================] - 1s 14ms/step - loss: 0.4297 - accuracy: 0.8861 - auc: 0.9895 - val_loss: 0.4002 - val_accuracy: 0.8957 - val_auc: 0.9905\n",
      "Epoch 40/50\n",
      "94/94 [==============================] - 1s 14ms/step - loss: 0.4272 - accuracy: 0.8869 - auc: 0.9895 - val_loss: 0.3980 - val_accuracy: 0.8957 - val_auc: 0.9906\n",
      "Epoch 41/50\n",
      "94/94 [==============================] - 1s 13ms/step - loss: 0.4247 - accuracy: 0.8870 - auc: 0.9896 - val_loss: 0.3958 - val_accuracy: 0.8964 - val_auc: 0.9906\n",
      "Epoch 42/50\n",
      "94/94 [==============================] - 1s 14ms/step - loss: 0.4224 - accuracy: 0.8874 - auc: 0.9896 - val_loss: 0.3937 - val_accuracy: 0.8969 - val_auc: 0.9907\n",
      "Epoch 43/50\n",
      "94/94 [==============================] - 1s 14ms/step - loss: 0.4201 - accuracy: 0.8878 - auc: 0.9897 - val_loss: 0.3917 - val_accuracy: 0.8972 - val_auc: 0.9907\n",
      "Epoch 44/50\n",
      "94/94 [==============================] - 1s 14ms/step - loss: 0.4180 - accuracy: 0.8882 - auc: 0.9898 - val_loss: 0.3898 - val_accuracy: 0.8976 - val_auc: 0.9908\n",
      "Epoch 45/50\n",
      "94/94 [==============================] - 1s 14ms/step - loss: 0.4158 - accuracy: 0.8888 - auc: 0.9898 - val_loss: 0.3879 - val_accuracy: 0.8981 - val_auc: 0.9908\n",
      "Epoch 46/50\n",
      "94/94 [==============================] - 1s 13ms/step - loss: 0.4138 - accuracy: 0.8891 - auc: 0.9899 - val_loss: 0.3861 - val_accuracy: 0.8984 - val_auc: 0.9909\n",
      "Epoch 47/50\n",
      "94/94 [==============================] - 1s 13ms/step - loss: 0.4119 - accuracy: 0.8896 - auc: 0.9899 - val_loss: 0.3844 - val_accuracy: 0.8989 - val_auc: 0.9909\n",
      "Epoch 48/50\n"
     ]
    },
    {
     "name": "stdout",
     "output_type": "stream",
     "text": [
      "94/94 [==============================] - 1s 13ms/step - loss: 0.4100 - accuracy: 0.8900 - auc: 0.9900 - val_loss: 0.3827 - val_accuracy: 0.8995 - val_auc: 0.9909\n",
      "Epoch 49/50\n",
      "94/94 [==============================] - 1s 13ms/step - loss: 0.4081 - accuracy: 0.8903 - auc: 0.9900 - val_loss: 0.3811 - val_accuracy: 0.8994 - val_auc: 0.9909\n",
      "Epoch 50/50\n",
      "94/94 [==============================] - 1s 13ms/step - loss: 0.4064 - accuracy: 0.8907 - auc: 0.9900 - val_loss: 0.3796 - val_accuracy: 0.8997 - val_auc: 0.9910\n"
     ]
    }
   ],
   "source": [
    "model_v1 = model.fit(x_train, y_train, batch_size=512, epochs = 50, validation_split= 0.2)"
   ]
  },
  {
   "cell_type": "code",
   "execution_count": 15,
   "id": "ca58ca9a",
   "metadata": {},
   "outputs": [
    {
     "data": {
      "text/plain": [
       "[<tf.Variable 'dense/kernel:0' shape=(784, 10) dtype=float32, numpy=\n",
       " array([[ 0.02506088,  0.02634597, -0.04620939, ...,  0.01387101,\n",
       "          0.07352791, -0.00919262],\n",
       "        [-0.03074459, -0.01896317,  0.06044398, ..., -0.0831952 ,\n",
       "          0.07381774,  0.05795602],\n",
       "        [-0.02060129,  0.0400378 , -0.02057829, ...,  0.07854839,\n",
       "         -0.007622  , -0.00874066],\n",
       "        ...,\n",
       "        [-0.04922417, -0.01076341,  0.03166841, ..., -0.06172864,\n",
       "          0.04649072,  0.01140527],\n",
       "        [-0.01469251,  0.00882194,  0.04814356, ...,  0.02736749,\n",
       "          0.03120953,  0.01468633],\n",
       "        [-0.00679186,  0.04637954, -0.07592913, ...,  0.07760201,\n",
       "         -0.04970075,  0.01249266]], dtype=float32)>,\n",
       " <tf.Variable 'dense/bias:0' shape=(10,) dtype=float32, numpy=\n",
       " array([-0.11682054,  0.19585092, -0.0339179 , -0.07562049,  0.06690545,\n",
       "         0.23689103, -0.008663  ,  0.14042073, -0.3417801 , -0.06326532],\n",
       "       dtype=float32)>]"
      ]
     },
     "execution_count": 15,
     "metadata": {},
     "output_type": "execute_result"
    }
   ],
   "source": [
    "model.weights"
   ]
  },
  {
   "cell_type": "code",
   "execution_count": 16,
   "id": "55e40b2a",
   "metadata": {},
   "outputs": [
    {
     "name": "stdout",
     "output_type": "stream",
     "text": [
      "313/313 [==============================] - 0s 965us/step - loss: 0.3809 - accuracy: 0.8983 - auc: 0.9909\n"
     ]
    },
    {
     "data": {
      "text/plain": [
       "[0.38088440895080566, 0.8982999920845032, 0.9909396171569824]"
      ]
     },
     "execution_count": 16,
     "metadata": {},
     "output_type": "execute_result"
    }
   ],
   "source": [
    "model.evaluate(x_test, y_test, verbose=1)"
   ]
  },
  {
   "cell_type": "code",
   "execution_count": null,
   "id": "ff7078e5",
   "metadata": {},
   "outputs": [],
   "source": []
  },
  {
   "cell_type": "markdown",
   "id": "055023b1",
   "metadata": {},
   "source": [
    "### Modelo 2 - adicionando camadas"
   ]
  },
  {
   "cell_type": "code",
   "execution_count": 19,
   "id": "d4ba2cef",
   "metadata": {},
   "outputs": [
    {
     "name": "stdout",
     "output_type": "stream",
     "text": [
      "Model: \"sequential_3\"\n",
      "_________________________________________________________________\n",
      "Layer (type)                 Output Shape              Param #   \n",
      "=================================================================\n",
      "dense_7 (Dense)              (None, 128)               100480    \n",
      "_________________________________________________________________\n",
      "activation_7 (Activation)    (None, 128)               0         \n",
      "_________________________________________________________________\n",
      "dense_8 (Dense)              (None, 128)               16512     \n",
      "_________________________________________________________________\n",
      "activation_8 (Activation)    (None, 128)               0         \n",
      "_________________________________________________________________\n",
      "dense_9 (Dense)              (None, 10)                1290      \n",
      "_________________________________________________________________\n",
      "activation_9 (Activation)    (None, 10)                0         \n",
      "=================================================================\n",
      "Total params: 118,282\n",
      "Trainable params: 118,282\n",
      "Non-trainable params: 0\n",
      "_________________________________________________________________\n"
     ]
    }
   ],
   "source": [
    "model = Sequential()\n",
    "model.add(Dense(128, input_shape = (784,))) # 128 neurons in\n",
    "model.add(Activation(\"relu\"))\n",
    "model.add(Dense(128))\n",
    "model.add(Activation(\"relu\"))\n",
    "model.add(Dense(10)) # output classes = 10\n",
    "model.add(Activation(\"softmax\")) # probs of each class\n",
    "model.summary()"
   ]
  },
  {
   "cell_type": "code",
   "execution_count": 20,
   "id": "0549fe7a",
   "metadata": {},
   "outputs": [
    {
     "name": "stdout",
     "output_type": "stream",
     "text": [
      "Epoch 1/50\n",
      "375/375 [==============================] - 1s 4ms/step - loss: 1.4800 - accuracy: 0.6290 - auc: 0.9124 - val_loss: 0.7408 - val_accuracy: 0.8412 - val_auc: 0.9819\n",
      "Epoch 2/50\n",
      "375/375 [==============================] - 1s 3ms/step - loss: 0.5877 - accuracy: 0.8569 - auc: 0.9846 - val_loss: 0.4494 - val_accuracy: 0.8852 - val_auc: 0.9894\n",
      "Epoch 3/50\n",
      "375/375 [==============================] - 1s 3ms/step - loss: 0.4334 - accuracy: 0.8835 - auc: 0.9891 - val_loss: 0.3714 - val_accuracy: 0.9002 - val_auc: 0.9912\n",
      "Epoch 4/50\n",
      "375/375 [==============================] - 1s 3ms/step - loss: 0.3754 - accuracy: 0.8955 - auc: 0.9907 - val_loss: 0.3337 - val_accuracy: 0.9072 - val_auc: 0.9923\n",
      "Epoch 5/50\n",
      "375/375 [==============================] - 1s 3ms/step - loss: 0.3424 - accuracy: 0.9037 - auc: 0.9917 - val_loss: 0.3106 - val_accuracy: 0.9118 - val_auc: 0.9929\n",
      "Epoch 6/50\n",
      "375/375 [==============================] - 1s 3ms/step - loss: 0.3191 - accuracy: 0.9087 - auc: 0.9924 - val_loss: 0.2926 - val_accuracy: 0.9165 - val_auc: 0.9934\n",
      "Epoch 7/50\n",
      "375/375 [==============================] - 1s 3ms/step - loss: 0.3014 - accuracy: 0.9146 - auc: 0.9930 - val_loss: 0.2791 - val_accuracy: 0.9210 - val_auc: 0.9937\n",
      "Epoch 8/50\n",
      "375/375 [==============================] - 1s 3ms/step - loss: 0.2863 - accuracy: 0.9185 - auc: 0.9935 - val_loss: 0.2677 - val_accuracy: 0.9237 - val_auc: 0.9942\n",
      "Epoch 9/50\n",
      "375/375 [==============================] - 1s 3ms/step - loss: 0.2738 - accuracy: 0.9219 - auc: 0.9939 - val_loss: 0.2581 - val_accuracy: 0.9273 - val_auc: 0.9945\n",
      "Epoch 10/50\n",
      "375/375 [==============================] - 1s 3ms/step - loss: 0.2623 - accuracy: 0.9257 - auc: 0.9943 - val_loss: 0.2485 - val_accuracy: 0.9293 - val_auc: 0.9947\n",
      "Epoch 11/50\n",
      "375/375 [==============================] - 1s 3ms/step - loss: 0.2522 - accuracy: 0.9285 - auc: 0.9946 - val_loss: 0.2404 - val_accuracy: 0.9318 - val_auc: 0.9950\n",
      "Epoch 12/50\n",
      "375/375 [==============================] - 1s 3ms/step - loss: 0.2431 - accuracy: 0.9313 - auc: 0.9950 - val_loss: 0.2317 - val_accuracy: 0.9349 - val_auc: 0.9952\n",
      "Epoch 13/50\n",
      "375/375 [==============================] - 1s 3ms/step - loss: 0.2346 - accuracy: 0.9330 - auc: 0.9953 - val_loss: 0.2248 - val_accuracy: 0.9369 - val_auc: 0.9955\n",
      "Epoch 14/50\n",
      "375/375 [==============================] - 1s 3ms/step - loss: 0.2264 - accuracy: 0.9361 - auc: 0.9956 - val_loss: 0.2198 - val_accuracy: 0.9383 - val_auc: 0.9956\n",
      "Epoch 15/50\n",
      "375/375 [==============================] - 1s 3ms/step - loss: 0.2197 - accuracy: 0.9377 - auc: 0.9957 - val_loss: 0.2130 - val_accuracy: 0.9408 - val_auc: 0.9957\n",
      "Epoch 16/50\n",
      "375/375 [==============================] - 1s 3ms/step - loss: 0.2126 - accuracy: 0.9398 - auc: 0.9960 - val_loss: 0.2083 - val_accuracy: 0.9421 - val_auc: 0.9959\n",
      "Epoch 17/50\n",
      "375/375 [==============================] - 1s 3ms/step - loss: 0.2063 - accuracy: 0.9412 - auc: 0.9962 - val_loss: 0.2024 - val_accuracy: 0.9442 - val_auc: 0.9960\n",
      "Epoch 18/50\n",
      "375/375 [==============================] - 1s 3ms/step - loss: 0.2003 - accuracy: 0.9426 - auc: 0.9964 - val_loss: 0.1978 - val_accuracy: 0.9450 - val_auc: 0.9962\n",
      "Epoch 19/50\n",
      "375/375 [==============================] - 1s 3ms/step - loss: 0.1946 - accuracy: 0.9447 - auc: 0.9965 - val_loss: 0.1929 - val_accuracy: 0.9466 - val_auc: 0.9963\n",
      "Epoch 20/50\n",
      "375/375 [==============================] - 1s 3ms/step - loss: 0.1890 - accuracy: 0.9463 - auc: 0.9967 - val_loss: 0.1893 - val_accuracy: 0.9477 - val_auc: 0.9964\n",
      "Epoch 21/50\n",
      "375/375 [==============================] - 1s 3ms/step - loss: 0.1840 - accuracy: 0.9474 - auc: 0.9968 - val_loss: 0.1860 - val_accuracy: 0.9485 - val_auc: 0.9965\n",
      "Epoch 22/50\n",
      "375/375 [==============================] - 1s 3ms/step - loss: 0.1790 - accuracy: 0.9492 - auc: 0.9969 - val_loss: 0.1818 - val_accuracy: 0.9498 - val_auc: 0.9966\n",
      "Epoch 23/50\n",
      "375/375 [==============================] - 1s 3ms/step - loss: 0.1745 - accuracy: 0.9503 - auc: 0.9971 - val_loss: 0.1789 - val_accuracy: 0.9513 - val_auc: 0.9966\n",
      "Epoch 24/50\n",
      "375/375 [==============================] - 1s 3ms/step - loss: 0.1699 - accuracy: 0.9515 - auc: 0.9972 - val_loss: 0.1752 - val_accuracy: 0.9513 - val_auc: 0.9968\n",
      "Epoch 25/50\n",
      "375/375 [==============================] - 1s 3ms/step - loss: 0.1658 - accuracy: 0.9531 - auc: 0.9973 - val_loss: 0.1716 - val_accuracy: 0.9532 - val_auc: 0.9968\n",
      "Epoch 26/50\n",
      "375/375 [==============================] - 1s 3ms/step - loss: 0.1618 - accuracy: 0.9540 - auc: 0.9974 - val_loss: 0.1696 - val_accuracy: 0.9542 - val_auc: 0.9969\n",
      "Epoch 27/50\n",
      "375/375 [==============================] - 1s 3ms/step - loss: 0.1580 - accuracy: 0.9545 - auc: 0.9975 - val_loss: 0.1654 - val_accuracy: 0.9546 - val_auc: 0.9970\n",
      "Epoch 28/50\n",
      "375/375 [==============================] - 1s 3ms/step - loss: 0.1541 - accuracy: 0.9556 - auc: 0.9976 - val_loss: 0.1627 - val_accuracy: 0.9550 - val_auc: 0.9970\n",
      "Epoch 29/50\n",
      "375/375 [==============================] - 1s 3ms/step - loss: 0.1506 - accuracy: 0.9564 - auc: 0.9977 - val_loss: 0.1602 - val_accuracy: 0.9555 - val_auc: 0.9971\n",
      "Epoch 30/50\n",
      "375/375 [==============================] - 1s 3ms/step - loss: 0.1471 - accuracy: 0.9576 - auc: 0.9978 - val_loss: 0.1587 - val_accuracy: 0.9560 - val_auc: 0.9972\n",
      "Epoch 31/50\n",
      "375/375 [==============================] - 1s 3ms/step - loss: 0.1441 - accuracy: 0.9583 - auc: 0.9978 - val_loss: 0.1562 - val_accuracy: 0.9563 - val_auc: 0.9972\n",
      "Epoch 32/50\n",
      "375/375 [==============================] - 1s 3ms/step - loss: 0.1408 - accuracy: 0.9594 - auc: 0.9979 - val_loss: 0.1537 - val_accuracy: 0.9569 - val_auc: 0.9973\n",
      "Epoch 33/50\n",
      "375/375 [==============================] - 1s 3ms/step - loss: 0.1379 - accuracy: 0.9603 - auc: 0.9979 - val_loss: 0.1515 - val_accuracy: 0.9575 - val_auc: 0.9973\n",
      "Epoch 34/50\n",
      "375/375 [==============================] - 1s 3ms/step - loss: 0.1351 - accuracy: 0.9611 - auc: 0.9980 - val_loss: 0.1495 - val_accuracy: 0.9583 - val_auc: 0.9974\n",
      "Epoch 35/50\n",
      "375/375 [==============================] - 1s 3ms/step - loss: 0.1322 - accuracy: 0.9619 - auc: 0.9981 - val_loss: 0.1470 - val_accuracy: 0.9591 - val_auc: 0.9974\n",
      "Epoch 36/50\n",
      "375/375 [==============================] - 1s 3ms/step - loss: 0.1297 - accuracy: 0.9625 - auc: 0.9981 - val_loss: 0.1455 - val_accuracy: 0.9592 - val_auc: 0.9975\n",
      "Epoch 37/50\n",
      "375/375 [==============================] - 1s 3ms/step - loss: 0.1269 - accuracy: 0.9638 - auc: 0.9982 - val_loss: 0.1441 - val_accuracy: 0.9600 - val_auc: 0.9975\n",
      "Epoch 38/50\n",
      "375/375 [==============================] - 1s 3ms/step - loss: 0.1246 - accuracy: 0.9647 - auc: 0.9982 - val_loss: 0.1420 - val_accuracy: 0.9599 - val_auc: 0.9975\n",
      "Epoch 39/50\n",
      "375/375 [==============================] - 1s 3ms/step - loss: 0.1222 - accuracy: 0.9654 - auc: 0.9983 - val_loss: 0.1404 - val_accuracy: 0.9610 - val_auc: 0.9977\n",
      "Epoch 40/50\n",
      "375/375 [==============================] - 1s 3ms/step - loss: 0.1200 - accuracy: 0.9658 - auc: 0.9984 - val_loss: 0.1385 - val_accuracy: 0.9613 - val_auc: 0.9976\n",
      "Epoch 41/50\n",
      "375/375 [==============================] - 1s 3ms/step - loss: 0.1176 - accuracy: 0.9668 - auc: 0.9984 - val_loss: 0.1381 - val_accuracy: 0.9607 - val_auc: 0.9977\n",
      "Epoch 42/50\n",
      "375/375 [==============================] - 1s 3ms/step - loss: 0.1154 - accuracy: 0.9674 - auc: 0.9984 - val_loss: 0.1359 - val_accuracy: 0.9616 - val_auc: 0.9977\n",
      "Epoch 43/50\n",
      "375/375 [==============================] - 1s 3ms/step - loss: 0.1134 - accuracy: 0.9684 - auc: 0.9984 - val_loss: 0.1355 - val_accuracy: 0.9616 - val_auc: 0.9976\n",
      "Epoch 44/50\n",
      "375/375 [==============================] - 1s 3ms/step - loss: 0.1113 - accuracy: 0.9688 - auc: 0.9985 - val_loss: 0.1329 - val_accuracy: 0.9626 - val_auc: 0.9978\n",
      "Epoch 45/50\n",
      "375/375 [==============================] - 1s 3ms/step - loss: 0.1093 - accuracy: 0.9689 - auc: 0.9985 - val_loss: 0.1320 - val_accuracy: 0.9625 - val_auc: 0.9978\n",
      "Epoch 46/50\n",
      "375/375 [==============================] - 1s 3ms/step - loss: 0.1074 - accuracy: 0.9700 - auc: 0.9986 - val_loss: 0.1305 - val_accuracy: 0.9626 - val_auc: 0.9978\n",
      "Epoch 47/50\n",
      "375/375 [==============================] - 1s 3ms/step - loss: 0.1055 - accuracy: 0.9703 - auc: 0.9986 - val_loss: 0.1307 - val_accuracy: 0.9623 - val_auc: 0.9978\n"
     ]
    },
    {
     "name": "stdout",
     "output_type": "stream",
     "text": [
      "Epoch 48/50\n",
      "375/375 [==============================] - 1s 3ms/step - loss: 0.1037 - accuracy: 0.9712 - auc: 0.9987 - val_loss: 0.1291 - val_accuracy: 0.9631 - val_auc: 0.9979\n",
      "Epoch 49/50\n",
      "375/375 [==============================] - 1s 3ms/step - loss: 0.1020 - accuracy: 0.9712 - auc: 0.9987 - val_loss: 0.1273 - val_accuracy: 0.9638 - val_auc: 0.9978\n",
      "Epoch 50/50\n",
      "375/375 [==============================] - 1s 3ms/step - loss: 0.1003 - accuracy: 0.9722 - auc: 0.9987 - val_loss: 0.1271 - val_accuracy: 0.9631 - val_auc: 0.9979\n"
     ]
    }
   ],
   "source": [
    "model.compile(optimizer= SGD(), loss = \"categorical_crossentropy\", metrics= [\"accuracy\", \"AUC\"])\n",
    "model_v2 = model.fit(x_train, y_train, batch_size= 128, epochs=50, verbose=1, validation_split= 0.2)"
   ]
  },
  {
   "cell_type": "code",
   "execution_count": 21,
   "id": "022c6347",
   "metadata": {},
   "outputs": [
    {
     "data": {
      "text/plain": [
       "[<tf.Variable 'dense_7/kernel:0' shape=(784, 128) dtype=float32, numpy=\n",
       " array([[-0.07316081, -0.04890074, -0.03520124, ...,  0.00067518,\n",
       "          0.07850253, -0.06002444],\n",
       "        [-0.05552708,  0.04555397, -0.04591947, ..., -0.06983137,\n",
       "          0.03746219,  0.02436214],\n",
       "        [ 0.01640151, -0.01616529, -0.03441625, ...,  0.07971545,\n",
       "          0.00738937, -0.05002683],\n",
       "        ...,\n",
       "        [-0.00431834,  0.06665825, -0.0016769 , ..., -0.01484907,\n",
       "         -0.07959327, -0.0474051 ],\n",
       "        [-0.06805256, -0.04622154, -0.06768208, ...,  0.00603277,\n",
       "         -0.05188502,  0.02472471],\n",
       "        [-0.04472229,  0.01807545, -0.02652666, ...,  0.05592141,\n",
       "         -0.0258123 ,  0.01290742]], dtype=float32)>,\n",
       " <tf.Variable 'dense_7/bias:0' shape=(128,) dtype=float32, numpy=\n",
       " array([-2.7514495e-02,  3.0091785e-02,  2.6303567e-03,  8.8499114e-02,\n",
       "         2.8758727e-02, -8.5286862e-05, -1.4971614e-02,  3.4519741e-03,\n",
       "         5.3557135e-02, -1.8616188e-02,  2.3080720e-02,  6.4982891e-02,\n",
       "         4.7121312e-02,  2.4981294e-02,  4.2059477e-02, -4.3951973e-02,\n",
       "         4.5466933e-02,  1.0808474e-02, -1.6105641e-02,  6.2431525e-03,\n",
       "         3.0431427e-02,  4.0973471e-03,  4.2782743e-03,  1.6030522e-02,\n",
       "         1.0092371e-02,  2.9429290e-02,  1.6442167e-02,  8.5950591e-02,\n",
       "         1.6508516e-02, -8.7133674e-03,  5.3091954e-02,  1.0271937e-02,\n",
       "         1.7831113e-02, -1.1788756e-02,  2.6122674e-02, -4.3232241e-03,\n",
       "         1.4308366e-01,  2.0494727e-02, -4.7550220e-02, -1.6421607e-02,\n",
       "        -2.4257425e-02, -2.1928977e-02, -1.1661509e-02,  1.2267213e-01,\n",
       "         3.2602344e-02,  6.3956510e-03, -1.9125059e-02, -2.7217977e-03,\n",
       "        -2.8390290e-02,  3.1335806e-03,  6.0742047e-02, -1.9650750e-02,\n",
       "        -1.3628689e-02,  4.1937910e-02, -2.1269696e-02,  6.5343775e-02,\n",
       "         1.4746514e-02,  6.1252177e-02,  1.0786332e-02,  4.8060142e-02,\n",
       "         4.5949932e-02,  3.6476627e-02,  3.2725345e-02,  6.9679424e-02,\n",
       "         3.7795186e-02,  1.1161719e-02,  6.3432634e-02,  2.0292170e-02,\n",
       "        -5.8747549e-03,  2.7041426e-02,  8.7539693e-03,  1.5738195e-02,\n",
       "         1.1272753e-01,  3.1062905e-03,  3.8635883e-02,  6.6137992e-02,\n",
       "        -7.2074251e-04,  3.7210234e-02, -2.2479769e-02, -1.9571623e-02,\n",
       "        -8.8791093e-03,  9.3041159e-02,  2.8244397e-02,  7.0578702e-02,\n",
       "         5.5353221e-02,  1.4533354e-02,  2.6996790e-05,  4.3269001e-02,\n",
       "        -3.7491541e-02, -3.3905909e-03,  3.2582164e-02,  2.0444307e-02,\n",
       "         3.4029052e-02, -5.0714497e-02,  2.8152032e-02,  1.2444321e-02,\n",
       "         6.0381554e-03, -5.7905107e-03,  2.0826690e-02, -3.4438580e-02,\n",
       "         1.6342973e-02,  4.1496310e-02,  1.9793192e-02, -7.3322378e-02,\n",
       "         5.8206774e-02,  2.0654969e-02,  2.2961685e-02, -7.6190867e-03,\n",
       "         3.3485296e-03, -3.8177509e-02, -2.6994808e-02,  6.2972531e-03,\n",
       "         3.8004108e-02,  1.0032734e-02,  7.3456481e-02,  6.2643990e-02,\n",
       "        -3.0960785e-02, -2.9704552e-03, -2.6854477e-03, -1.0826905e-02,\n",
       "        -2.1386297e-02,  4.2759687e-02, -2.1008227e-02, -2.0018695e-02,\n",
       "         2.5687711e-02,  2.3257945e-02, -4.6176247e-02,  3.6349218e-02],\n",
       "       dtype=float32)>,\n",
       " <tf.Variable 'dense_8/kernel:0' shape=(128, 128) dtype=float32, numpy=\n",
       " array([[ 0.08942902, -0.03961203,  0.00750031, ...,  0.10840648,\n",
       "         -0.1214844 ,  0.12428142],\n",
       "        [-0.08856303,  0.10896371,  0.03213166, ...,  0.12706281,\n",
       "         -0.02424026, -0.12259132],\n",
       "        [-0.11617646,  0.10916898, -0.13278733, ..., -0.11030398,\n",
       "         -0.13234793,  0.10146026],\n",
       "        ...,\n",
       "        [ 0.02677238,  0.1600881 ,  0.03133189, ..., -0.03926802,\n",
       "          0.10530645, -0.01162726],\n",
       "        [-0.02377844,  0.15327832,  0.064238  , ...,  0.1627542 ,\n",
       "         -0.10105943, -0.12673919],\n",
       "        [ 0.02442187, -0.11859107,  0.10533681, ...,  0.06295146,\n",
       "         -0.12375834, -0.06071474]], dtype=float32)>,\n",
       " <tf.Variable 'dense_8/bias:0' shape=(128,) dtype=float32, numpy=\n",
       " array([ 6.03727922e-02,  1.00812782e-02,  3.11304573e-02, -2.39320550e-04,\n",
       "        -3.28054316e-02,  1.23315426e-02, -5.50275929e-02,  2.09437646e-02,\n",
       "         4.21722594e-04,  3.92731428e-02, -6.69213710e-03,  2.85903295e-03,\n",
       "        -1.70964971e-02,  5.81323914e-02,  3.16084512e-02,  1.47418594e-02,\n",
       "         4.75070141e-02,  3.57725248e-02, -1.73532136e-03,  2.74001360e-02,\n",
       "         7.65875867e-03,  1.23079009e-02,  1.31396670e-02, -1.35355527e-02,\n",
       "        -3.11185257e-04,  7.49075273e-03, -1.58641879e-02, -2.50242045e-03,\n",
       "        -6.34454307e-04,  8.03430974e-02,  2.25516278e-02, -1.12860110e-02,\n",
       "         1.52314606e-03, -1.87301487e-02, -1.52779999e-03,  3.42304409e-02,\n",
       "         8.21634755e-03,  1.51166357e-02, -2.69958429e-04,  9.33538228e-02,\n",
       "         2.78421305e-03,  3.24703790e-02,  4.88740765e-03, -3.03181857e-02,\n",
       "         4.25375849e-02,  6.96966648e-02,  1.77287739e-02, -3.26460600e-02,\n",
       "         1.43894693e-02, -1.35987634e-02, -3.80064547e-03, -5.29302051e-03,\n",
       "        -4.46024016e-02, -2.48449924e-03,  1.26789720e-03,  1.16798384e-02,\n",
       "         5.52147903e-05,  1.14427805e-02, -4.19249162e-02, -5.13770571e-03,\n",
       "         2.04228237e-02,  1.52674317e-02,  1.71687659e-02, -1.41506651e-02,\n",
       "         2.45131906e-02,  3.00269201e-03,  8.21960997e-03,  6.70562908e-02,\n",
       "         4.56304336e-03,  9.35832560e-02,  4.60365694e-03, -2.15733759e-02,\n",
       "         3.41046154e-02,  2.37307437e-02, -2.89759021e-02,  4.06673476e-02,\n",
       "        -3.77941504e-03,  5.25298119e-02,  9.50033404e-03, -4.81817313e-03,\n",
       "         2.35410519e-02, -4.45357487e-02,  1.36425806e-04,  1.50132999e-02,\n",
       "         6.14588484e-02,  2.07315497e-02, -6.93818321e-04,  2.04228796e-02,\n",
       "         2.48508248e-02,  1.91045422e-02,  3.61536480e-02,  4.73137386e-03,\n",
       "         1.74157713e-02,  4.82098870e-02,  4.07045707e-02,  4.35874135e-05,\n",
       "         4.58594412e-03,  3.10646780e-02,  3.51582542e-02,  8.98693055e-02,\n",
       "         4.11349013e-02,  1.01538803e-02,  5.04794791e-02,  2.07413975e-02,\n",
       "         6.56846154e-04,  7.94376284e-02,  2.08381424e-03,  1.80334542e-02,\n",
       "        -3.88132338e-03,  3.40115204e-02,  3.28755501e-04,  2.95405295e-02,\n",
       "        -1.01556713e-02,  5.02335699e-03,  3.83668505e-02, -1.01474915e-02,\n",
       "         1.56548817e-03,  2.48071942e-02, -1.93041284e-02,  3.11810113e-02,\n",
       "        -3.90648376e-03,  3.99819128e-02, -3.61335369e-05,  4.40864898e-02,\n",
       "        -4.76931296e-02,  2.07412709e-03, -2.90518557e-03,  1.91220697e-02],\n",
       "       dtype=float32)>,\n",
       " <tf.Variable 'dense_9/kernel:0' shape=(128, 10) dtype=float32, numpy=\n",
       " array([[ 0.19265716,  0.27252516, -0.03327305, ...,  0.1370056 ,\n",
       "          0.15770869, -0.31570992],\n",
       "        [-0.000569  , -0.03236694,  0.09028955, ..., -0.1981063 ,\n",
       "          0.18259522, -0.04718534],\n",
       "        [ 0.21925204, -0.27678916,  0.13221525, ...,  0.2485278 ,\n",
       "         -0.21039802, -0.01709397],\n",
       "        ...,\n",
       "        [ 0.4006812 , -0.24498607,  0.4381588 , ..., -0.02522881,\n",
       "         -0.14419547, -0.22978234],\n",
       "        [-0.03841767, -0.13319397, -0.1640316 , ..., -0.11547183,\n",
       "         -0.1559877 , -0.1837142 ],\n",
       "        [ 0.07567459, -0.13825129,  0.21446379, ...,  0.08817007,\n",
       "          0.35662743, -0.09060486]], dtype=float32)>,\n",
       " <tf.Variable 'dense_9/bias:0' shape=(10,) dtype=float32, numpy=\n",
       " array([-0.05786566,  0.11572041, -0.05311958, -0.09190407,  0.01598467,\n",
       "         0.12391055,  0.04989336,  0.04112959, -0.06629516, -0.0774548 ],\n",
       "       dtype=float32)>]"
      ]
     },
     "execution_count": 21,
     "metadata": {},
     "output_type": "execute_result"
    }
   ],
   "source": [
    "model.weights"
   ]
  },
  {
   "cell_type": "code",
   "execution_count": 22,
   "id": "60359810",
   "metadata": {
    "scrolled": true
   },
   "outputs": [
    {
     "name": "stdout",
     "output_type": "stream",
     "text": [
      "313/313 [==============================] - 0s 1ms/step - loss: 0.1181 - accuracy: 0.9657 - auc: 0.9984\n"
     ]
    },
    {
     "data": {
      "text/plain": [
       "[0.11813680082559586, 0.9656999707221985, 0.9983786940574646]"
      ]
     },
     "execution_count": 22,
     "metadata": {},
     "output_type": "execute_result"
    }
   ],
   "source": [
    "model.evaluate(x= x_test, y= y_test, )"
   ]
  },
  {
   "cell_type": "code",
   "execution_count": 34,
   "id": "8446a7b0",
   "metadata": {},
   "outputs": [],
   "source": [
    "from tensorflow.keras.layers import Dropout"
   ]
  },
  {
   "cell_type": "code",
   "execution_count": 35,
   "id": "25975f1a",
   "metadata": {},
   "outputs": [
    {
     "name": "stdout",
     "output_type": "stream",
     "text": [
      "Model: \"sequential_6\"\n",
      "_________________________________________________________________\n",
      "Layer (type)                 Output Shape              Param #   \n",
      "=================================================================\n",
      "dense_16 (Dense)             (None, 128)               100480    \n",
      "_________________________________________________________________\n",
      "activation_16 (Activation)   (None, 128)               0         \n",
      "_________________________________________________________________\n",
      "dropout_4 (Dropout)          (None, 128)               0         \n",
      "_________________________________________________________________\n",
      "dense_17 (Dense)             (None, 128)               16512     \n",
      "_________________________________________________________________\n",
      "activation_17 (Activation)   (None, 128)               0         \n",
      "_________________________________________________________________\n",
      "dropout_5 (Dropout)          (None, 128)               0         \n",
      "_________________________________________________________________\n",
      "dense_18 (Dense)             (None, 10)                1290      \n",
      "_________________________________________________________________\n",
      "activation_18 (Activation)   (None, 10)                0         \n",
      "=================================================================\n",
      "Total params: 118,282\n",
      "Trainable params: 118,282\n",
      "Non-trainable params: 0\n",
      "_________________________________________________________________\n"
     ]
    }
   ],
   "source": [
    "model = Sequential()\n",
    "model.add(Dense(128, input_shape = (784,)))\n",
    "model.add(Activation(\"relu\"))\n",
    "model.add(Dropout(0.3))\n",
    "model.add(Dense(128))\n",
    "model.add(Activation(\"relu\"))\n",
    "model.add(Dropout(0.3))\n",
    "model.add(Dense(10))\n",
    "model.add(Activation(\"softmax\"))\n",
    "\n",
    "model.summary()"
   ]
  },
  {
   "cell_type": "code",
   "execution_count": 36,
   "id": "53361f3e",
   "metadata": {},
   "outputs": [],
   "source": [
    "model.compile(optimizer=SGD(), loss=\"categorical_crossentropy\", metrics=[\"accuracy\"])"
   ]
  },
  {
   "cell_type": "code",
   "execution_count": 38,
   "id": "a7288113",
   "metadata": {},
   "outputs": [
    {
     "name": "stdout",
     "output_type": "stream",
     "text": [
      "Epoch 1/50\n",
      "375/375 [==============================] - 1s 2ms/step - loss: 0.8088 - accuracy: 0.7490 - val_loss: 0.4752 - val_accuracy: 0.8815\n",
      "Epoch 2/50\n",
      "375/375 [==============================] - 1s 2ms/step - loss: 0.6413 - accuracy: 0.8046 - val_loss: 0.3919 - val_accuracy: 0.8943\n",
      "Epoch 3/50\n",
      "375/375 [==============================] - 1s 2ms/step - loss: 0.5622 - accuracy: 0.8289 - val_loss: 0.3498 - val_accuracy: 0.9053\n",
      "Epoch 4/50\n",
      "375/375 [==============================] - 1s 2ms/step - loss: 0.5059 - accuracy: 0.8484 - val_loss: 0.3200 - val_accuracy: 0.9108\n",
      "Epoch 5/50\n",
      "375/375 [==============================] - 1s 2ms/step - loss: 0.4649 - accuracy: 0.8624 - val_loss: 0.2982 - val_accuracy: 0.9143\n",
      "Epoch 6/50\n",
      "375/375 [==============================] - 1s 2ms/step - loss: 0.4373 - accuracy: 0.8700 - val_loss: 0.2807 - val_accuracy: 0.9200\n",
      "Epoch 7/50\n",
      "375/375 [==============================] - 1s 2ms/step - loss: 0.4159 - accuracy: 0.8760 - val_loss: 0.2665 - val_accuracy: 0.9227\n",
      "Epoch 8/50\n",
      "375/375 [==============================] - 1s 2ms/step - loss: 0.3936 - accuracy: 0.8840 - val_loss: 0.2550 - val_accuracy: 0.9267\n",
      "Epoch 9/50\n",
      "375/375 [==============================] - 1s 2ms/step - loss: 0.3787 - accuracy: 0.8875 - val_loss: 0.2451 - val_accuracy: 0.9293\n",
      "Epoch 10/50\n",
      "375/375 [==============================] - 1s 2ms/step - loss: 0.3633 - accuracy: 0.8921 - val_loss: 0.2346 - val_accuracy: 0.9328\n",
      "Epoch 11/50\n",
      "375/375 [==============================] - 1s 2ms/step - loss: 0.3462 - accuracy: 0.8991 - val_loss: 0.2264 - val_accuracy: 0.9337\n",
      "Epoch 12/50\n",
      "375/375 [==============================] - 1s 2ms/step - loss: 0.3350 - accuracy: 0.9011 - val_loss: 0.2191 - val_accuracy: 0.9365\n",
      "Epoch 13/50\n",
      "375/375 [==============================] - 1s 2ms/step - loss: 0.3242 - accuracy: 0.9043 - val_loss: 0.2119 - val_accuracy: 0.9386\n",
      "Epoch 14/50\n",
      "375/375 [==============================] - 1s 2ms/step - loss: 0.3167 - accuracy: 0.9082 - val_loss: 0.2061 - val_accuracy: 0.9404\n",
      "Epoch 15/50\n",
      "375/375 [==============================] - 1s 2ms/step - loss: 0.3071 - accuracy: 0.9097 - val_loss: 0.2002 - val_accuracy: 0.9418\n",
      "Epoch 16/50\n",
      "375/375 [==============================] - 1s 2ms/step - loss: 0.2979 - accuracy: 0.9117 - val_loss: 0.1954 - val_accuracy: 0.9434\n",
      "Epoch 17/50\n",
      "375/375 [==============================] - 1s 2ms/step - loss: 0.2920 - accuracy: 0.9146 - val_loss: 0.1904 - val_accuracy: 0.9456\n",
      "Epoch 18/50\n",
      "375/375 [==============================] - 1s 2ms/step - loss: 0.2844 - accuracy: 0.9158 - val_loss: 0.1861 - val_accuracy: 0.9468\n",
      "Epoch 19/50\n",
      "375/375 [==============================] - 1s 2ms/step - loss: 0.2801 - accuracy: 0.9165 - val_loss: 0.1823 - val_accuracy: 0.9475\n",
      "Epoch 20/50\n",
      "375/375 [==============================] - 1s 2ms/step - loss: 0.2707 - accuracy: 0.9205 - val_loss: 0.1783 - val_accuracy: 0.9491\n",
      "Epoch 21/50\n",
      "375/375 [==============================] - 1s 2ms/step - loss: 0.2639 - accuracy: 0.9225 - val_loss: 0.1757 - val_accuracy: 0.9494\n",
      "Epoch 22/50\n",
      "375/375 [==============================] - 1s 2ms/step - loss: 0.2596 - accuracy: 0.9238 - val_loss: 0.1707 - val_accuracy: 0.9525\n",
      "Epoch 23/50\n",
      "375/375 [==============================] - 1s 2ms/step - loss: 0.2553 - accuracy: 0.9240 - val_loss: 0.1681 - val_accuracy: 0.9523\n",
      "Epoch 24/50\n",
      "375/375 [==============================] - 1s 2ms/step - loss: 0.2485 - accuracy: 0.9257 - val_loss: 0.1652 - val_accuracy: 0.9530\n",
      "Epoch 25/50\n",
      "375/375 [==============================] - 1s 2ms/step - loss: 0.2428 - accuracy: 0.9293 - val_loss: 0.1623 - val_accuracy: 0.9545\n",
      "Epoch 26/50\n",
      "375/375 [==============================] - 1s 2ms/step - loss: 0.2405 - accuracy: 0.9283 - val_loss: 0.1597 - val_accuracy: 0.9544\n",
      "Epoch 27/50\n",
      "375/375 [==============================] - 1s 2ms/step - loss: 0.2363 - accuracy: 0.9316 - val_loss: 0.1576 - val_accuracy: 0.9550\n",
      "Epoch 28/50\n",
      "375/375 [==============================] - 1s 2ms/step - loss: 0.2327 - accuracy: 0.9321 - val_loss: 0.1546 - val_accuracy: 0.9562\n",
      "Epoch 29/50\n",
      "375/375 [==============================] - 1s 2ms/step - loss: 0.2281 - accuracy: 0.9333 - val_loss: 0.1529 - val_accuracy: 0.9569\n",
      "Epoch 30/50\n",
      "375/375 [==============================] - 1s 2ms/step - loss: 0.2268 - accuracy: 0.9333 - val_loss: 0.1508 - val_accuracy: 0.9568\n",
      "Epoch 31/50\n",
      "375/375 [==============================] - 1s 2ms/step - loss: 0.2210 - accuracy: 0.9350 - val_loss: 0.1492 - val_accuracy: 0.9574\n",
      "Epoch 32/50\n",
      "375/375 [==============================] - 1s 2ms/step - loss: 0.2174 - accuracy: 0.9364 - val_loss: 0.1464 - val_accuracy: 0.9578\n",
      "Epoch 33/50\n",
      "375/375 [==============================] - 1s 2ms/step - loss: 0.2157 - accuracy: 0.9369 - val_loss: 0.1445 - val_accuracy: 0.9588\n",
      "Epoch 34/50\n",
      "375/375 [==============================] - 1s 2ms/step - loss: 0.2135 - accuracy: 0.9371 - val_loss: 0.1428 - val_accuracy: 0.9592\n",
      "Epoch 35/50\n",
      "375/375 [==============================] - 1s 2ms/step - loss: 0.2093 - accuracy: 0.9376 - val_loss: 0.1409 - val_accuracy: 0.9597\n",
      "Epoch 36/50\n",
      "375/375 [==============================] - 1s 2ms/step - loss: 0.2105 - accuracy: 0.9395 - val_loss: 0.1390 - val_accuracy: 0.9605\n",
      "Epoch 37/50\n",
      "375/375 [==============================] - 1s 2ms/step - loss: 0.2011 - accuracy: 0.9400 - val_loss: 0.1374 - val_accuracy: 0.9610\n",
      "Epoch 38/50\n",
      "375/375 [==============================] - 1s 2ms/step - loss: 0.2010 - accuracy: 0.9409 - val_loss: 0.1360 - val_accuracy: 0.9605\n",
      "Epoch 39/50\n",
      "375/375 [==============================] - 1s 2ms/step - loss: 0.1959 - accuracy: 0.9417 - val_loss: 0.1347 - val_accuracy: 0.9617\n",
      "Epoch 40/50\n",
      "375/375 [==============================] - 1s 2ms/step - loss: 0.1976 - accuracy: 0.9424 - val_loss: 0.1332 - val_accuracy: 0.9619\n",
      "Epoch 41/50\n",
      "375/375 [==============================] - 1s 2ms/step - loss: 0.1922 - accuracy: 0.9438 - val_loss: 0.1316 - val_accuracy: 0.9617\n",
      "Epoch 42/50\n",
      "375/375 [==============================] - 1s 2ms/step - loss: 0.1897 - accuracy: 0.9450 - val_loss: 0.1301 - val_accuracy: 0.9623\n",
      "Epoch 43/50\n",
      "375/375 [==============================] - 1s 2ms/step - loss: 0.1872 - accuracy: 0.9450 - val_loss: 0.1293 - val_accuracy: 0.9625\n",
      "Epoch 44/50\n",
      "375/375 [==============================] - 1s 2ms/step - loss: 0.1882 - accuracy: 0.9448 - val_loss: 0.1279 - val_accuracy: 0.9628\n",
      "Epoch 45/50\n",
      "375/375 [==============================] - 1s 2ms/step - loss: 0.1834 - accuracy: 0.9452 - val_loss: 0.1262 - val_accuracy: 0.9632\n",
      "Epoch 46/50\n",
      "375/375 [==============================] - 1s 2ms/step - loss: 0.1833 - accuracy: 0.9454 - val_loss: 0.1253 - val_accuracy: 0.9633\n",
      "Epoch 47/50\n",
      "375/375 [==============================] - 1s 2ms/step - loss: 0.1811 - accuracy: 0.9464 - val_loss: 0.1248 - val_accuracy: 0.9634\n",
      "Epoch 48/50\n",
      "375/375 [==============================] - 1s 2ms/step - loss: 0.1764 - accuracy: 0.9479 - val_loss: 0.1233 - val_accuracy: 0.9636\n",
      "Epoch 49/50\n",
      "375/375 [==============================] - 1s 2ms/step - loss: 0.1783 - accuracy: 0.9478 - val_loss: 0.1222 - val_accuracy: 0.9638\n",
      "Epoch 50/50\n",
      "375/375 [==============================] - 1s 2ms/step - loss: 0.1762 - accuracy: 0.9485 - val_loss: 0.1212 - val_accuracy: 0.9647\n"
     ]
    }
   ],
   "source": [
    "modelo_3 = model.fit(x= x_train, y= y_train, batch_size= 128, epochs=50, validation_split=0.2)"
   ]
  },
  {
   "cell_type": "code",
   "execution_count": 33,
   "id": "1ad31067",
   "metadata": {},
   "outputs": [
    {
     "name": "stdout",
     "output_type": "stream",
     "text": [
      "313/313 [==============================] - 0s 956us/step - loss: 0.0747 - accuracy: 0.9780\n"
     ]
    },
    {
     "data": {
      "text/plain": [
       "[0.07471483945846558, 0.9779999852180481]"
      ]
     },
     "execution_count": 33,
     "metadata": {},
     "output_type": "execute_result"
    }
   ],
   "source": [
    "model.evaluate(x_test, y_test)"
   ]
  },
  {
   "cell_type": "code",
   "execution_count": 68,
   "id": "5ee7749e",
   "metadata": {},
   "outputs": [
    {
     "data": {
      "image/png": "[encoded data removed]",
      "text/plain": [
       "<Figure size 864x576 with 1 Axes>"
      ]
     },
     "metadata": {
      "needs_background": "light"
     },
     "output_type": "display_data"
    }
   ],
   "source": [
    "# Modelo 1 Error\n",
    "plt.figure(figsize=(12,8))\n",
    "plt.scatter(x= range(1,51) ,y= modelo_3.history[\"loss\"],marker=True)\n",
    "plt.scatter(x= range(1,51), y= modelo_3.history[\"val_loss\"])\n",
    "plt.show()"
   ]
  },
  {
   "cell_type": "code",
   "execution_count": 55,
   "id": "417729b7",
   "metadata": {},
   "outputs": [
    {
     "data": {
      "text/plain": [
       "[2.0193915367126465,\n",
       " 1.4568727016448975,\n",
       " 1.1674152612686157,\n",
       " 0.9998723268508911,\n",
       " 0.8919256925582886,\n",
       " 0.8164277076721191,\n",
       " 0.7605699300765991,\n",
       " 0.7172827124595642,\n",
       " 0.6826587915420532,\n",
       " 0.6542225480079651,\n",
       " 0.6304161548614502,\n",
       " 0.6101490259170532,\n",
       " 0.592608630657196,\n",
       " 0.5772612690925598,\n",
       " 0.5637376308441162,\n",
       " 0.5516668558120728,\n",
       " 0.540818452835083,\n",
       " 0.5310080051422119,\n",
       " 0.5220937728881836,\n",
       " 0.5139414072036743,\n",
       " 0.5064440965652466,\n",
       " 0.4995291829109192,\n",
       " 0.49313172698020935,\n",
       " 0.48716768622398376,\n",
       " 0.48161792755126953,\n",
       " 0.4764083921909332,\n",
       " 0.47152698040008545,\n",
       " 0.4669506847858429,\n",
       " 0.46263033151626587,\n",
       " 0.45854488015174866,\n",
       " 0.45468732714653015,\n",
       " 0.45100778341293335,\n",
       " 0.44752880930900574,\n",
       " 0.4442070424556732,\n",
       " 0.4410351514816284,\n",
       " 0.43800458312034607,\n",
       " 0.43513545393943787,\n",
       " 0.43236956000328064,\n",
       " 0.4297254979610443,\n",
       " 0.427183598279953,\n",
       " 0.42474445700645447,\n",
       " 0.42239344120025635,\n",
       " 0.42013970017433167,\n",
       " 0.4179571866989136,\n",
       " 0.4158463180065155,\n",
       " 0.41382503509521484,\n",
       " 0.4118662178516388,\n",
       " 0.4099677801132202,\n",
       " 0.4081421196460724,\n",
       " 0.40635815262794495]"
      ]
     },
     "execution_count": 55,
     "metadata": {},
     "output_type": "execute_result"
    }
   ],
   "source": [
    "model_v1.history[\"loss\"]"
   ]
  },
  {
   "cell_type": "markdown",
   "id": "4b2a3b6c",
   "metadata": {},
   "source": [
    "### Outros Otimizadores "
   ]
  },
  {
   "cell_type": "code",
   "execution_count": 45,
   "id": "bebc83bc",
   "metadata": {},
   "outputs": [],
   "source": [
    "from tensorflow.keras.optimizers import RMSprop"
   ]
  },
  {
   "cell_type": "code",
   "execution_count": 40,
   "id": "d30b19bd",
   "metadata": {},
   "outputs": [
    {
     "name": "stdout",
     "output_type": "stream",
     "text": [
      "Model: \"sequential_7\"\n",
      "_________________________________________________________________\n",
      "Layer (type)                 Output Shape              Param #   \n",
      "=================================================================\n",
      "dense_19 (Dense)             (None, 128)               100480    \n",
      "_________________________________________________________________\n",
      "activation_19 (Activation)   (None, 128)               0         \n",
      "_________________________________________________________________\n",
      "dropout_6 (Dropout)          (None, 128)               0         \n",
      "_________________________________________________________________\n",
      "dense_20 (Dense)             (None, 128)               16512     \n",
      "_________________________________________________________________\n",
      "activation_20 (Activation)   (None, 128)               0         \n",
      "_________________________________________________________________\n",
      "dropout_7 (Dropout)          (None, 128)               0         \n",
      "_________________________________________________________________\n",
      "dense_21 (Dense)             (None, 10)                1290      \n",
      "_________________________________________________________________\n",
      "activation_21 (Activation)   (None, 10)                0         \n",
      "=================================================================\n",
      "Total params: 118,282\n",
      "Trainable params: 118,282\n",
      "Non-trainable params: 0\n",
      "_________________________________________________________________\n"
     ]
    }
   ],
   "source": [
    "model = Sequential()\n",
    "model.add(Dense(128, input_shape = (784,)))\n",
    "model.add(Activation(\"relu\"))\n",
    "model.add(Dropout(0.3))\n",
    "model.add(Dense(128))\n",
    "model.add(Activation(\"relu\"))\n",
    "model.add(Dropout(0.3))\n",
    "model.add(Dense(10))\n",
    "model.add(Activation(\"softmax\"))\n",
    "\n",
    "model.summary()"
   ]
  },
  {
   "cell_type": "code",
   "execution_count": 48,
   "id": "464f3ece",
   "metadata": {},
   "outputs": [],
   "source": [
    "model.compile(optimizer= RMSprop(), loss=\"categorical_crossentropy\", metrics=[\"accuracy\"])"
   ]
  },
  {
   "cell_type": "code",
   "execution_count": 49,
   "id": "bb44e9c7",
   "metadata": {
    "scrolled": false
   },
   "outputs": [
    {
     "name": "stdout",
     "output_type": "stream",
     "text": [
      "Epoch 1/50\n",
      "375/375 [==============================] - 1s 2ms/step - loss: 0.4760 - accuracy: 0.8558 - val_loss: 0.1749 - val_accuracy: 0.9477\n",
      "Epoch 2/50\n",
      "375/375 [==============================] - 1s 2ms/step - loss: 0.2230 - accuracy: 0.9326 - val_loss: 0.1346 - val_accuracy: 0.9607\n",
      "Epoch 3/50\n",
      "375/375 [==============================] - 1s 2ms/step - loss: 0.1709 - accuracy: 0.9500 - val_loss: 0.1161 - val_accuracy: 0.9657\n",
      "Epoch 4/50\n",
      "375/375 [==============================] - 1s 2ms/step - loss: 0.1418 - accuracy: 0.9580 - val_loss: 0.1049 - val_accuracy: 0.9695\n",
      "Epoch 5/50\n",
      "375/375 [==============================] - 1s 2ms/step - loss: 0.1329 - accuracy: 0.9607 - val_loss: 0.0959 - val_accuracy: 0.9724\n",
      "Epoch 6/50\n",
      "375/375 [==============================] - 1s 2ms/step - loss: 0.1168 - accuracy: 0.9641 - val_loss: 0.0986 - val_accuracy: 0.9712\n",
      "Epoch 7/50\n",
      "375/375 [==============================] - 1s 2ms/step - loss: 0.1051 - accuracy: 0.9689 - val_loss: 0.0975 - val_accuracy: 0.9732\n",
      "Epoch 8/50\n",
      "375/375 [==============================] - 1s 2ms/step - loss: 0.1013 - accuracy: 0.9695 - val_loss: 0.0975 - val_accuracy: 0.9740\n",
      "Epoch 9/50\n",
      "375/375 [==============================] - 1s 2ms/step - loss: 0.0938 - accuracy: 0.9722 - val_loss: 0.0991 - val_accuracy: 0.9756\n",
      "Epoch 10/50\n",
      "375/375 [==============================] - 1s 2ms/step - loss: 0.0903 - accuracy: 0.9725 - val_loss: 0.0955 - val_accuracy: 0.9764\n",
      "Epoch 11/50\n",
      "375/375 [==============================] - 1s 2ms/step - loss: 0.0851 - accuracy: 0.9752 - val_loss: 0.0936 - val_accuracy: 0.9770\n",
      "Epoch 12/50\n",
      "375/375 [==============================] - 1s 2ms/step - loss: 0.0851 - accuracy: 0.9751 - val_loss: 0.0949 - val_accuracy: 0.9772\n",
      "Epoch 13/50\n",
      "375/375 [==============================] - 1s 2ms/step - loss: 0.0811 - accuracy: 0.9761 - val_loss: 0.1146 - val_accuracy: 0.9737\n",
      "Epoch 14/50\n",
      "375/375 [==============================] - 1s 2ms/step - loss: 0.0790 - accuracy: 0.9769 - val_loss: 0.0995 - val_accuracy: 0.9764\n",
      "Epoch 15/50\n",
      "375/375 [==============================] - 1s 2ms/step - loss: 0.0767 - accuracy: 0.9779 - val_loss: 0.1004 - val_accuracy: 0.9767\n",
      "Epoch 16/50\n",
      "375/375 [==============================] - 1s 2ms/step - loss: 0.0715 - accuracy: 0.9780 - val_loss: 0.1015 - val_accuracy: 0.9768\n",
      "Epoch 17/50\n",
      "375/375 [==============================] - 1s 2ms/step - loss: 0.0697 - accuracy: 0.9790 - val_loss: 0.1016 - val_accuracy: 0.9775\n",
      "Epoch 18/50\n",
      "375/375 [==============================] - 1s 2ms/step - loss: 0.0704 - accuracy: 0.9796 - val_loss: 0.0993 - val_accuracy: 0.9762\n",
      "Epoch 19/50\n",
      "375/375 [==============================] - 1s 2ms/step - loss: 0.0692 - accuracy: 0.9796 - val_loss: 0.1140 - val_accuracy: 0.9772\n",
      "Epoch 20/50\n",
      "375/375 [==============================] - 1s 2ms/step - loss: 0.0681 - accuracy: 0.9802 - val_loss: 0.1130 - val_accuracy: 0.9767\n",
      "Epoch 21/50\n",
      "375/375 [==============================] - 1s 2ms/step - loss: 0.0654 - accuracy: 0.9802 - val_loss: 0.1132 - val_accuracy: 0.9778\n",
      "Epoch 22/50\n",
      "375/375 [==============================] - 1s 2ms/step - loss: 0.0700 - accuracy: 0.9803 - val_loss: 0.1104 - val_accuracy: 0.9786\n",
      "Epoch 23/50\n",
      "375/375 [==============================] - 1s 2ms/step - loss: 0.0631 - accuracy: 0.9812 - val_loss: 0.1161 - val_accuracy: 0.9778\n",
      "Epoch 24/50\n",
      "375/375 [==============================] - 1s 2ms/step - loss: 0.0651 - accuracy: 0.9818 - val_loss: 0.1143 - val_accuracy: 0.9781\n",
      "Epoch 25/50\n",
      "375/375 [==============================] - 1s 2ms/step - loss: 0.0616 - accuracy: 0.9820 - val_loss: 0.1213 - val_accuracy: 0.9773\n",
      "Epoch 26/50\n",
      "375/375 [==============================] - 1s 2ms/step - loss: 0.0608 - accuracy: 0.9824 - val_loss: 0.1185 - val_accuracy: 0.9768\n",
      "Epoch 27/50\n",
      "375/375 [==============================] - 1s 2ms/step - loss: 0.0602 - accuracy: 0.9831 - val_loss: 0.1180 - val_accuracy: 0.9780\n",
      "Epoch 28/50\n",
      "375/375 [==============================] - 1s 2ms/step - loss: 0.0613 - accuracy: 0.9830 - val_loss: 0.1218 - val_accuracy: 0.9791\n",
      "Epoch 29/50\n",
      "375/375 [==============================] - 1s 2ms/step - loss: 0.0598 - accuracy: 0.9830 - val_loss: 0.1208 - val_accuracy: 0.9781\n",
      "Epoch 30/50\n",
      "375/375 [==============================] - 1s 2ms/step - loss: 0.0585 - accuracy: 0.9830 - val_loss: 0.1258 - val_accuracy: 0.9773\n",
      "Epoch 31/50\n",
      "375/375 [==============================] - 1s 2ms/step - loss: 0.0579 - accuracy: 0.9840 - val_loss: 0.1342 - val_accuracy: 0.9784\n",
      "Epoch 32/50\n",
      "375/375 [==============================] - 1s 2ms/step - loss: 0.0583 - accuracy: 0.9834 - val_loss: 0.1337 - val_accuracy: 0.9789\n",
      "Epoch 33/50\n",
      "375/375 [==============================] - 1s 2ms/step - loss: 0.0551 - accuracy: 0.9837 - val_loss: 0.1339 - val_accuracy: 0.9788\n",
      "Epoch 34/50\n",
      "375/375 [==============================] - 1s 2ms/step - loss: 0.0617 - accuracy: 0.9832 - val_loss: 0.1299 - val_accuracy: 0.9789\n",
      "Epoch 35/50\n",
      "375/375 [==============================] - 1s 2ms/step - loss: 0.0614 - accuracy: 0.9836 - val_loss: 0.1255 - val_accuracy: 0.9786\n",
      "Epoch 36/50\n",
      "375/375 [==============================] - 1s 2ms/step - loss: 0.0577 - accuracy: 0.9840 - val_loss: 0.1406 - val_accuracy: 0.9774\n",
      "Epoch 37/50\n",
      "375/375 [==============================] - 1s 2ms/step - loss: 0.0572 - accuracy: 0.9843 - val_loss: 0.1338 - val_accuracy: 0.9778\n",
      "Epoch 38/50\n",
      "375/375 [==============================] - 1s 2ms/step - loss: 0.0538 - accuracy: 0.9847 - val_loss: 0.1351 - val_accuracy: 0.9779\n",
      "Epoch 39/50\n",
      "375/375 [==============================] - 1s 2ms/step - loss: 0.0545 - accuracy: 0.9850 - val_loss: 0.1473 - val_accuracy: 0.9782\n",
      "Epoch 40/50\n",
      "375/375 [==============================] - 1s 2ms/step - loss: 0.0546 - accuracy: 0.9850 - val_loss: 0.1440 - val_accuracy: 0.9780\n",
      "Epoch 41/50\n",
      "375/375 [==============================] - 1s 2ms/step - loss: 0.0547 - accuracy: 0.9846 - val_loss: 0.1400 - val_accuracy: 0.9769\n",
      "Epoch 42/50\n",
      "375/375 [==============================] - 1s 2ms/step - loss: 0.0567 - accuracy: 0.9847 - val_loss: 0.1355 - val_accuracy: 0.9778\n",
      "Epoch 43/50\n",
      "375/375 [==============================] - 1s 2ms/step - loss: 0.0525 - accuracy: 0.9855 - val_loss: 0.1418 - val_accuracy: 0.9796\n",
      "Epoch 44/50\n",
      "375/375 [==============================] - 1s 2ms/step - loss: 0.0542 - accuracy: 0.9856 - val_loss: 0.1440 - val_accuracy: 0.9797\n",
      "Epoch 45/50\n",
      "375/375 [==============================] - 1s 2ms/step - loss: 0.0539 - accuracy: 0.9851 - val_loss: 0.1498 - val_accuracy: 0.9783\n",
      "Epoch 46/50\n",
      "375/375 [==============================] - 1s 2ms/step - loss: 0.0545 - accuracy: 0.9859 - val_loss: 0.1493 - val_accuracy: 0.9783\n",
      "Epoch 47/50\n",
      "375/375 [==============================] - 1s 2ms/step - loss: 0.0526 - accuracy: 0.9859 - val_loss: 0.1592 - val_accuracy: 0.9786\n",
      "Epoch 48/50\n",
      "375/375 [==============================] - 1s 2ms/step - loss: 0.0538 - accuracy: 0.9858 - val_loss: 0.1510 - val_accuracy: 0.9783\n",
      "Epoch 49/50\n",
      "375/375 [==============================] - 1s 2ms/step - loss: 0.0508 - accuracy: 0.9859 - val_loss: 0.1581 - val_accuracy: 0.9787\n",
      "Epoch 50/50\n",
      "375/375 [==============================] - 1s 2ms/step - loss: 0.0556 - accuracy: 0.9864 - val_loss: 0.1515 - val_accuracy: 0.9783\n"
     ]
    }
   ],
   "source": [
    "model_v4 = model.fit(x_train, y_train, batch_size=128, epochs=50, validation_split=0.2)"
   ]
  },
  {
   "cell_type": "code",
   "execution_count": 50,
   "id": "6e7964bc",
   "metadata": {},
   "outputs": [
    {
     "name": "stdout",
     "output_type": "stream",
     "text": [
      "313/313 [==============================] - 0s 768us/step - loss: 0.1342 - accuracy: 0.9773\n"
     ]
    },
    {
     "data": {
      "text/plain": [
       "[0.1342315971851349, 0.9772999882698059]"
      ]
     },
     "execution_count": 50,
     "metadata": {},
     "output_type": "execute_result"
    }
   ],
   "source": [
    "model.evaluate(x_test, y_test)"
   ]
  },
  {
   "cell_type": "code",
   "execution_count": null,
   "id": "fd719a5e",
   "metadata": {},
   "outputs": [],
   "source": []
  }
 ],
 "metadata": {
  "kernelspec": {
   "display_name": "Python 3 (ipykernel)",
   "language": "python",
   "name": "python3"
  },
  "language_info": {
   "codemirror_mode": {
    "name": "ipython",
    "version": 3
   },
   "file_extension": ".py",
   "mimetype": "text/x-python",
   "name": "python",
   "nbconvert_exporter": "python",
   "pygments_lexer": "ipython3",
   "version": "3.8.12"
  }
 },
 "nbformat": 4,
 "nbformat_minor": 5
}
